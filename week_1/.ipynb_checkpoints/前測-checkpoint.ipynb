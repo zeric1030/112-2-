{
 "cells": [
  {
   "cell_type": "code",
   "execution_count": 1,
   "id": "81d9083f",
   "metadata": {},
   "outputs": [
    {
     "name": "stdout",
     "output_type": "stream",
     "text": [
      "        0                  1       2            3              4   \\\n",
      "0      Age          Workclass  Income    Education  Education-Num   \n",
      "1       39          State-gov   77516    Bachelors             13   \n",
      "2       50   Self-emp-not-inc   83311    Bachelors             13   \n",
      "3       38            Private  215646      HS-grad              9   \n",
      "4       53            Private  234721         11th              7   \n",
      "...    ...                ...     ...          ...            ...   \n",
      "32557   27            Private  257302   Assoc-acdm             12   \n",
      "32558   40            Private  154374      HS-grad              9   \n",
      "32559   58            Private  151910      HS-grad              9   \n",
      "32560   22            Private  201490      HS-grad              9   \n",
      "32561   52       Self-emp-inc  287927      HS-grad              9   \n",
      "\n",
      "                        5                   6               7       8   \\\n",
      "0           Marital Status          Occupation    Relationship    Race   \n",
      "1            Never-married        Adm-clerical   Not-in-family   White   \n",
      "2       Married-civ-spouse     Exec-managerial         Husband   White   \n",
      "3                 Divorced   Handlers-cleaners   Not-in-family   White   \n",
      "4       Married-civ-spouse   Handlers-cleaners         Husband   Black   \n",
      "...                    ...                 ...             ...     ...   \n",
      "32557   Married-civ-spouse        Tech-support            Wife   White   \n",
      "32558   Married-civ-spouse   Machine-op-inspct         Husband   White   \n",
      "32559              Widowed        Adm-clerical       Unmarried   White   \n",
      "32560        Never-married        Adm-clerical       Own-child   White   \n",
      "32561   Married-civ-spouse     Exec-managerial            Wife   White   \n",
      "\n",
      "            9             10            11              12              13  \n",
      "0          Sex  Capital Gain  Capital Loss  Hours per Week  Native Country  \n",
      "1         Male          2174             0              40   United-States  \n",
      "2         Male             0             0              13   United-States  \n",
      "3         Male             0             0              40   United-States  \n",
      "4         Male             0             0              40   United-States  \n",
      "...        ...           ...           ...             ...             ...  \n",
      "32557   Female             0             0              38   United-States  \n",
      "32558     Male             0             0              40   United-States  \n",
      "32559   Female             0             0              40   United-States  \n",
      "32560     Male             0             0              20   United-States  \n",
      "32561   Female         15024             0              40   United-States  \n",
      "\n",
      "[32562 rows x 14 columns]\n"
     ]
    }
   ],
   "source": [
    "import pandas as pd\n",
    "import csv\n",
    "\n",
    "with open('adult.csv') as csvfile:\n",
    "  f = pd.DataFrame(csv.reader(csvfile))\n",
    "  print(f)"
   ]
  },
  {
   "cell_type": "code",
   "execution_count": null,
   "id": "78dcc414",
   "metadata": {},
   "outputs": [],
   "source": []
  }
 ],
 "metadata": {
  "kernelspec": {
   "display_name": "Python 3 (ipykernel)",
   "language": "python",
   "name": "python3"
  },
  "language_info": {
   "codemirror_mode": {
    "name": "ipython",
    "version": 3
   },
   "file_extension": ".py",
   "mimetype": "text/x-python",
   "name": "python",
   "nbconvert_exporter": "python",
   "pygments_lexer": "ipython3",
   "version": "3.11.5"
  }
 },
 "nbformat": 4,
 "nbformat_minor": 5
}
