{
 "cells": [
  {
   "cell_type": "code",
   "execution_count": 2,
   "id": "938789b0-04e7-46e0-b239-2af47a9a0c05",
   "metadata": {},
   "outputs": [
    {
     "name": "stdout",
     "output_type": "stream",
     "text": [
      "      Vendor  Q42023 shipments (million) Q42023 market share  \\\n",
      "0      Apple                        78.1                 24%   \n",
      "1    Samsung                        53.5                 17%   \n",
      "2     Xiaomi                        40.7                 13%   \n",
      "3  TRANSSION                        28.5                  9%   \n",
      "4       vivo                        23.9                  7%   \n",
      "\n",
      "   Q42022 shipments (million) Q42022 market share Annual growth  \\\n",
      "0                        73.2                 25%            7%   \n",
      "1                        58.3                 20%           -8%   \n",
      "2                        33.2                 11%           23%   \n",
      "3                        17.3                  6%           65%   \n",
      "4                        23.9                  8%            0%   \n",
      "\n",
      "   2023 shipments (million) 2023 market share  2022 shipments (million)  \\\n",
      "0                       NaN               NaN                       NaN   \n",
      "1                       NaN               NaN                       NaN   \n",
      "2                       NaN               NaN                       NaN   \n",
      "3                       NaN               NaN                       NaN   \n",
      "4                       NaN               NaN                       NaN   \n",
      "\n",
      "  2022 market share  \n",
      "0               NaN  \n",
      "1               NaN  \n",
      "2               NaN  \n",
      "3               NaN  \n",
      "4               NaN  \n"
     ]
    },
    {
     "ename": "NameError",
     "evalue": "name 'data1' is not defined",
     "output_type": "error",
     "traceback": [
      "\u001b[1;31m---------------------------------------------------------------------------\u001b[0m",
      "\u001b[1;31mNameError\u001b[0m                                 Traceback (most recent call last)",
      "Cell \u001b[1;32mIn[2], line 24\u001b[0m\n\u001b[0;32m     20\u001b[0m brands_set \u001b[38;5;241m=\u001b[39m \u001b[38;5;28mset\u001b[39m(brands)\n\u001b[0;32m     21\u001b[0m \u001b[38;5;66;03m# note:交集就是直接印出set\u001b[39;00m\n\u001b[0;32m     22\u001b[0m \n\u001b[0;32m     23\u001b[0m \u001b[38;5;66;03m# 計算第一份資料獨有的手機品牌\u001b[39;00m\n\u001b[1;32m---> 24\u001b[0m unique_brands_data1 \u001b[38;5;241m=\u001b[39m \u001b[38;5;28mset\u001b[39m(data1[\u001b[38;5;124m'\u001b[39m\u001b[38;5;124mVendor\u001b[39m\u001b[38;5;124m'\u001b[39m])\u001b[38;5;241m.\u001b[39mdifference(brands_set)\n\u001b[0;32m     26\u001b[0m \u001b[38;5;66;03m# 計算第二份資料獨有的手機品牌\u001b[39;00m\n\u001b[0;32m     27\u001b[0m unique_brands_data2 \u001b[38;5;241m=\u001b[39m \u001b[38;5;28mset\u001b[39m(data2[\u001b[38;5;124m'\u001b[39m\u001b[38;5;124mVendor\u001b[39m\u001b[38;5;124m'\u001b[39m])\u001b[38;5;241m.\u001b[39mdifference(brands_set)\n",
      "\u001b[1;31mNameError\u001b[0m: name 'data1' is not defined"
     ]
    }
   ],
   "source": [
    "import pandas as pd\n",
    "import numpy as np\n",
    "import matplotlib.pyplot as plt\n",
    "import seaborn as sns\n",
    "\n",
    "# 讀取 CSV 檔案並創建 DataFrame\n",
    "# 讀取手機市佔率的資料\n",
    "dfA = pd.read_csv('marketingA.csv')\n",
    "dfB = pd.read_csv('marketingB.csv')\n",
    "# 合併資料\n",
    "merged_data = pd.concat([dfA, dfB])\n",
    "\n",
    "# 顯示資料的前幾行\n",
    "print(merged_data.head())\n",
    "\n",
    "# 從合併後的資料中提取手機品牌欄位\n",
    "brands = merged_data['Vendor']\n",
    "\n",
    "# 將手機品牌欄位轉換成集合\n",
    "brands_set = set(brands)\n",
    "# note:交集就是直接印出set\n",
    "\n",
    "# 計算第一份資料獨有的手機品牌\n",
    "unique_brands_data1 = set(data1['Vendor']).difference(brands_set)\n",
    "\n",
    "# 計算第二份資料獨有的手機品牌\n",
    "unique_brands_data2 = set(data2['Vendor']).difference(brands_set)\n",
    "\n",
    "# 計算兩份資料的交集\n",
    "common_brands = set(data1['Vendor']).intersection(set(data2['Vendor']))\n",
    "\n",
    "# 印出結果\n",
    "print(\"Union:\", brands_set)\n",
    "print(\"Intersection:\", common_brands)\n",
    "print(\"Unique Brands in Data1:\", unique_brands_data1)\n",
    "print(\"Unique Brands in Data2:\", unique_brands_data2)\n"
   ]
  },
  {
   "cell_type": "code",
   "execution_count": null,
   "id": "95ea6c3d-03c1-4696-b009-f45f3a0a7ab4",
   "metadata": {},
   "outputs": [],
   "source": []
  }
 ],
 "metadata": {
  "kernelspec": {
   "display_name": "Python 3 (ipykernel)",
   "language": "python",
   "name": "python3"
  },
  "language_info": {
   "codemirror_mode": {
    "name": "ipython",
    "version": 3
   },
   "file_extension": ".py",
   "mimetype": "text/x-python",
   "name": "python",
   "nbconvert_exporter": "python",
   "pygments_lexer": "ipython3",
   "version": "3.11.7"
  }
 },
 "nbformat": 4,
 "nbformat_minor": 5
}
