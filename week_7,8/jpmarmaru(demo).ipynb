{
 "cells": [
  {
   "cell_type": "code",
   "execution_count": 1,
   "metadata": {
    "ExecuteTime": {
     "end_time": "2024-04-01T19:56:31.435146Z",
     "start_time": "2024-04-01T19:55:22.206891Z"
    }
   },
   "outputs": [
    {
     "name": "stdout",
     "output_type": "stream",
     "text": [
      "Requirement already satisfied: requests in c:\\users\\zeric\\anaconda3\\lib\\site-packages (2.31.0)\n",
      "Requirement already satisfied: pandas in c:\\users\\zeric\\anaconda3\\lib\\site-packages (2.1.4)\n",
      "Collecting bs4\n",
      "  Using cached bs4-0.0.2-py2.py3-none-any.whl.metadata (411 bytes)\n",
      "Collecting selenium\n",
      "  Using cached selenium-4.19.0-py3-none-any.whl.metadata (6.9 kB)\n",
      "Requirement already satisfied: lxml in c:\\users\\zeric\\anaconda3\\lib\\site-packages (4.9.3)\n",
      "Collecting webdriver_manager\n",
      "  Using cached webdriver_manager-4.0.1-py2.py3-none-any.whl.metadata (12 kB)\n",
      "Requirement already satisfied: charset-normalizer<4,>=2 in c:\\users\\zeric\\anaconda3\\lib\\site-packages (from requests) (2.0.4)\n",
      "Requirement already satisfied: idna<4,>=2.5 in c:\\users\\zeric\\anaconda3\\lib\\site-packages (from requests) (3.4)\n",
      "Requirement already satisfied: urllib3<3,>=1.21.1 in c:\\users\\zeric\\anaconda3\\lib\\site-packages (from requests) (2.0.7)\n",
      "Requirement already satisfied: certifi>=2017.4.17 in c:\\users\\zeric\\anaconda3\\lib\\site-packages (from requests) (2024.2.2)\n",
      "Requirement already satisfied: numpy<2,>=1.23.2 in c:\\users\\zeric\\anaconda3\\lib\\site-packages (from pandas) (1.26.4)\n",
      "Requirement already satisfied: python-dateutil>=2.8.2 in c:\\users\\zeric\\anaconda3\\lib\\site-packages (from pandas) (2.8.2)\n",
      "Requirement already satisfied: pytz>=2020.1 in c:\\users\\zeric\\anaconda3\\lib\\site-packages (from pandas) (2023.3.post1)\n",
      "Requirement already satisfied: tzdata>=2022.1 in c:\\users\\zeric\\anaconda3\\lib\\site-packages (from pandas) (2023.3)\n",
      "Requirement already satisfied: beautifulsoup4 in c:\\users\\zeric\\anaconda3\\lib\\site-packages (from bs4) (4.12.2)\n",
      "Collecting trio~=0.17 (from selenium)\n",
      "  Using cached trio-0.25.0-py3-none-any.whl.metadata (8.7 kB)\n",
      "Collecting trio-websocket~=0.9 (from selenium)\n",
      "  Using cached trio_websocket-0.11.1-py3-none-any.whl.metadata (4.7 kB)\n",
      "Requirement already satisfied: typing_extensions>=4.9.0 in c:\\users\\zeric\\anaconda3\\lib\\site-packages (from selenium) (4.9.0)\n",
      "Requirement already satisfied: python-dotenv in c:\\users\\zeric\\anaconda3\\lib\\site-packages (from webdriver_manager) (0.21.0)\n",
      "Requirement already satisfied: packaging in c:\\users\\zeric\\anaconda3\\lib\\site-packages (from webdriver_manager) (23.1)\n",
      "Requirement already satisfied: six>=1.5 in c:\\users\\zeric\\anaconda3\\lib\\site-packages (from python-dateutil>=2.8.2->pandas) (1.16.0)\n",
      "Collecting attrs>=23.2.0 (from trio~=0.17->selenium)\n",
      "  Using cached attrs-23.2.0-py3-none-any.whl.metadata (9.5 kB)\n",
      "Requirement already satisfied: sortedcontainers in c:\\users\\zeric\\anaconda3\\lib\\site-packages (from trio~=0.17->selenium) (2.4.0)\n",
      "Collecting outcome (from trio~=0.17->selenium)\n",
      "  Using cached outcome-1.3.0.post0-py2.py3-none-any.whl.metadata (2.6 kB)\n",
      "Requirement already satisfied: sniffio>=1.3.0 in c:\\users\\zeric\\anaconda3\\lib\\site-packages (from trio~=0.17->selenium) (1.3.0)\n",
      "Requirement already satisfied: cffi>=1.14 in c:\\users\\zeric\\anaconda3\\lib\\site-packages (from trio~=0.17->selenium) (1.16.0)\n",
      "Collecting wsproto>=0.14 (from trio-websocket~=0.9->selenium)\n",
      "  Using cached wsproto-1.2.0-py3-none-any.whl.metadata (5.6 kB)\n",
      "Requirement already satisfied: pysocks!=1.5.7,<2.0,>=1.5.6 in c:\\users\\zeric\\anaconda3\\lib\\site-packages (from urllib3[socks]<3,>=1.26->selenium) (1.7.1)\n",
      "Requirement already satisfied: soupsieve>1.2 in c:\\users\\zeric\\anaconda3\\lib\\site-packages (from beautifulsoup4->bs4) (2.5)\n",
      "Requirement already satisfied: pycparser in c:\\users\\zeric\\anaconda3\\lib\\site-packages (from cffi>=1.14->trio~=0.17->selenium) (2.21)\n",
      "Collecting h11<1,>=0.9.0 (from wsproto>=0.14->trio-websocket~=0.9->selenium)\n",
      "  Using cached h11-0.14.0-py3-none-any.whl.metadata (8.2 kB)\n",
      "Using cached bs4-0.0.2-py2.py3-none-any.whl (1.2 kB)\n",
      "Using cached selenium-4.19.0-py3-none-any.whl (10.5 MB)\n",
      "Using cached webdriver_manager-4.0.1-py2.py3-none-any.whl (27 kB)\n",
      "Using cached trio-0.25.0-py3-none-any.whl (467 kB)\n",
      "Using cached trio_websocket-0.11.1-py3-none-any.whl (17 kB)\n",
      "Using cached attrs-23.2.0-py3-none-any.whl (60 kB)\n",
      "Using cached wsproto-1.2.0-py3-none-any.whl (24 kB)\n",
      "Using cached outcome-1.3.0.post0-py2.py3-none-any.whl (10 kB)\n",
      "Using cached h11-0.14.0-py3-none-any.whl (58 kB)\n",
      "Installing collected packages: h11, attrs, wsproto, webdriver_manager, outcome, bs4, trio, trio-websocket, selenium\n",
      "  Attempting uninstall: attrs\n",
      "    Found existing installation: attrs 23.1.0\n",
      "    Uninstalling attrs-23.1.0:\n",
      "      Successfully uninstalled attrs-23.1.0\n",
      "Successfully installed attrs-23.2.0 bs4-0.0.2 h11-0.14.0 outcome-1.3.0.post0 selenium-4.19.0 trio-0.25.0 trio-websocket-0.11.1 webdriver_manager-4.0.1 wsproto-1.2.0\n"
     ]
    }
   ],
   "source": [
    "!pip install requests pandas bs4 selenium lxml webdriver_manager\n",
    "import requests as rq\n",
    "import pandas as pd\n",
    "from bs4 import BeautifulSoup as soup\n",
    "from selenium import webdriver\n",
    "#from selenium.webdriver.chrome.options import Options\n",
    "#from selenium.webdriver.common.by import By\n",
    "from selenium.webdriver.chrome.service import Service\n",
    "from webdriver_manager.chrome import ChromeDriverManager\n",
    "from lxml import etree\n",
    "import time"
   ]
  },
  {
   "cell_type": "markdown",
   "metadata": {},
   "source": [
    "### 取得與解析網頁"
   ]
  },
  {
   "cell_type": "code",
   "execution_count": 2,
   "metadata": {
    "ExecuteTime": {
     "end_time": "2024-04-01T19:57:07.957579Z",
     "start_time": "2024-04-01T19:56:38.269783Z"
    }
   },
   "outputs": [],
   "source": [
    "url = 'https://www.jpmarumaru.com/tw/jp-song-list-3.html'\n",
    "driver = webdriver.Chrome(service=Service(ChromeDriverManager().install()))\n",
    "html = driver.get(url)\n",
    "sp = soup(driver.page_source, 'lxml')"
   ]
  },
  {
   "cell_type": "markdown",
   "metadata": {},
   "source": [
    "### 點一下「同意」"
   ]
  },
  {
   "cell_type": "code",
   "execution_count": 3,
   "metadata": {
    "ExecuteTime": {
     "end_time": "2024-04-01T19:57:28.807246Z",
     "start_time": "2024-04-01T19:57:28.677849Z"
    }
   },
   "outputs": [],
   "source": [
    "element = driver.find_element('xpath', '/html/body/div[10]/div[3]/a[1]')\n",
    "driver.execute_script(\"arguments[0].click();\", element)"
   ]
  },
  {
   "cell_type": "markdown",
   "metadata": {},
   "source": [
    "### 取得當前頁面上所有歌曲的網址"
   ]
  },
  {
   "cell_type": "code",
   "execution_count": 4,
   "metadata": {
    "ExecuteTime": {
     "end_time": "2024-04-01T19:57:33.303260Z",
     "start_time": "2024-04-01T19:57:33.285967Z"
    }
   },
   "outputs": [],
   "source": [
    "url_list = []\n",
    "song_title = sp.find_all('td', class_=\"song-name\")\n",
    "for song_a in song_title:\n",
    "    url = song_a.find('a')['href']\n",
    "    url_list.append(\"https://www.jpmarumaru.com/tw/\" + url)"
   ]
  },
  {
   "cell_type": "markdown",
   "metadata": {},
   "source": [
    "### 取得與解析第一首歌曲的網頁"
   ]
  },
  {
   "cell_type": "code",
   "execution_count": 5,
   "metadata": {
    "ExecuteTime": {
     "end_time": "2024-04-01T19:57:42.945978Z",
     "start_time": "2024-04-01T19:57:36.581148Z"
    }
   },
   "outputs": [],
   "source": [
    "html = driver.get(url_list[0])\n",
    "sp = soup(driver.page_source, 'lxml')"
   ]
  },
  {
   "cell_type": "markdown",
   "metadata": {},
   "source": [
    "###  獲取歌名"
   ]
  },
  {
   "cell_type": "code",
   "execution_count": 6,
   "metadata": {
    "ExecuteTime": {
     "end_time": "2024-04-01T19:57:45.744003Z",
     "start_time": "2024-04-01T19:57:45.728266Z"
    }
   },
   "outputs": [],
   "source": [
    "title_jp = sp.find_all('div', class_='notranslate')[2].text\n",
    "title_zh = sp.find('div', {\"id\": \"LyricsList\"}).find_all('div')[1].text"
   ]
  },
  {
   "cell_type": "markdown",
   "metadata": {},
   "source": [
    "### 獲取歌詞"
   ]
  },
  {
   "cell_type": "code",
   "execution_count": 7,
   "metadata": {
    "ExecuteTime": {
     "end_time": "2024-04-01T19:57:51.058751Z",
     "start_time": "2024-04-01T19:57:51.033298Z"
    }
   },
   "outputs": [],
   "source": [
    "jp_sentence_list = []\n",
    "zh_sentence_list = []\n",
    "\n",
    "lyrics_jp_area = sp.find_all(\"li\", class_='li1')\n",
    "lyrics_zh_area = sp.find_all(\"li\", class_='li2')\n",
    "\n",
    "for row in lyrics_jp_area:\n",
    "    jp_sentence = row.find(\"span\", class_ = \"LyricsYomiKana notranslate\").text\n",
    "    jp_sentence_list.append(jp_sentence)\n",
    "\n",
    "for row in lyrics_zh_area:\n",
    "    zh_setence = row.find(\"span\").text\n",
    "    zh_sentence_list.append(zh_setence)"
   ]
  },
  {
   "cell_type": "markdown",
   "metadata": {},
   "source": [
    "### 輸出成果"
   ]
  },
  {
   "cell_type": "code",
   "execution_count": 8,
   "metadata": {
    "ExecuteTime": {
     "end_time": "2024-04-01T19:57:58.536783Z",
     "start_time": "2024-04-01T19:57:58.525735Z"
    }
   },
   "outputs": [
    {
     "name": "stdout",
     "output_type": "stream",
     "text": [
      "じれったい - 安全地帯\n",
      "\n",
      "\n",
      "わからずやの ぬれたくちびるで\n",
      "不明事理的人 濕潤的嘴唇\n",
      "しにたいほど むねにひをつけて\n",
      "如入仙境(像似要死的程度) 為我點燃慾火\n",
      "あまいKissで うまくにげたね\n",
      "卻被用甜美的吻巧妙地躲過了啊\n",
      "うでのなかに とじこめたいのに\n",
      "本想鎖緊你在胳膞裏面\n",
      "じれったい こころをとかして\n",
      "焦躁請融化心靈\n",
      "じれったい からだもとかして\n",
      "焦躁 請融化軀體\n",
      "もっと もっと しりたい\n",
      "想知道你 更多 更多\n",
      "かわいためは やっかいにゆれてる\n",
      "飢渴的眼睛 不安分在動搖\n",
      "ひとりずつじゃ よろこべそうにない\n",
      "一個一個的來 似乎已無喜悅\n",
      "くいちがいに きざまれたままで\n",
      "帶著不一致的 期望偶然等候\n",
      "きずつくほど あいしているのに\n",
      "儘管受著傷 還是這樣的愛著你\n",
      "じれったい こころをとかして\n",
      "焦躁請融化心靈\n",
      "じれったい からだもとかして\n",
      "焦躁 請融化軀體\n",
      "もっと もっと しりたい\n",
      "想知道你 更多 更多\n",
      "とまらない ふたりのつづきを\n",
      "停不住 兩人的繼續\n",
      "とまらない よるまでつづけて\n",
      "停不住 延續至夜裡\n",
      "ずっとゆめをみせて\n",
      "請讓我一直在夢境\n",
      "じれったい こころをとかして\n",
      "焦躁請融化心靈\n",
      "じれったい からだもとかして\n",
      "焦躁 請融化軀體\n",
      "もっと もっと しりたい\n",
      "想知道你 更多 更多\n",
      "おわらない ふたりのつづきを\n",
      "不結束 兩人的繼續\n",
      "おわらない よるまでつづけて\n",
      "不結束 延續至夜裡\n",
      "ずっとゆめをみせて\n",
      "請讓我一直在夢境\n",
      "こころをもやして\n",
      "請燃燒心靈\n",
      "すべてをもやして\n",
      "請燃燒一切\n",
      "もっと もっと しりたい\n",
      "想知道你 更多 更多\n"
     ]
    }
   ],
   "source": [
    "print(title_jp)\n",
    "print(title_zh)\n",
    "print()\n",
    "for sentence_index in range(0, len(jp_sentence_list)):\n",
    "    print(jp_sentence_list[sentence_index])\n",
    "    print(zh_sentence_list[sentence_index])"
   ]
  },
  {
   "cell_type": "code",
   "execution_count": null,
   "metadata": {},
   "outputs": [],
   "source": []
  }
 ],
 "metadata": {
  "kernelspec": {
   "display_name": "Python 3 (ipykernel)",
   "language": "python",
   "name": "python3"
  },
  "language_info": {
   "codemirror_mode": {
    "name": "ipython",
    "version": 3
   },
   "file_extension": ".py",
   "mimetype": "text/x-python",
   "name": "python",
   "nbconvert_exporter": "python",
   "pygments_lexer": "ipython3",
   "version": "3.11.7"
  }
 },
 "nbformat": 4,
 "nbformat_minor": 4
}
