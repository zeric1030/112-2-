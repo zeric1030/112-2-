{
 "cells": [
  {
   "cell_type": "code",
   "execution_count": 1,
   "metadata": {},
   "outputs": [
    {
     "name": "stdout",
     "output_type": "stream",
     "text": [
      "Requirement already satisfied: requests in c:\\users\\zeric\\anaconda3\\lib\\site-packages (2.31.0)\n",
      "Requirement already satisfied: pandas in c:\\users\\zeric\\anaconda3\\lib\\site-packages (2.1.4)\n",
      "Requirement already satisfied: bs4 in c:\\users\\zeric\\anaconda3\\lib\\site-packages (0.0.2)\n",
      "Requirement already satisfied: selenium in c:\\users\\zeric\\anaconda3\\lib\\site-packages (4.19.0)\n",
      "Requirement already satisfied: lxml in c:\\users\\zeric\\anaconda3\\lib\\site-packages (4.9.3)\n",
      "Collecting webdriver_manager\n",
      "  Downloading webdriver_manager-4.0.1-py2.py3-none-any.whl.metadata (12 kB)\n",
      "Requirement already satisfied: charset-normalizer<4,>=2 in c:\\users\\zeric\\anaconda3\\lib\\site-packages (from requests) (2.0.4)\n",
      "Requirement already satisfied: idna<4,>=2.5 in c:\\users\\zeric\\anaconda3\\lib\\site-packages (from requests) (3.4)\n",
      "Requirement already satisfied: urllib3<3,>=1.21.1 in c:\\users\\zeric\\anaconda3\\lib\\site-packages (from requests) (2.0.7)\n",
      "Requirement already satisfied: certifi>=2017.4.17 in c:\\users\\zeric\\anaconda3\\lib\\site-packages (from requests) (2024.2.2)\n",
      "Requirement already satisfied: numpy<2,>=1.23.2 in c:\\users\\zeric\\anaconda3\\lib\\site-packages (from pandas) (1.26.4)\n",
      "Requirement already satisfied: python-dateutil>=2.8.2 in c:\\users\\zeric\\anaconda3\\lib\\site-packages (from pandas) (2.8.2)\n",
      "Requirement already satisfied: pytz>=2020.1 in c:\\users\\zeric\\anaconda3\\lib\\site-packages (from pandas) (2023.3.post1)\n",
      "Requirement already satisfied: tzdata>=2022.1 in c:\\users\\zeric\\anaconda3\\lib\\site-packages (from pandas) (2023.3)\n",
      "Requirement already satisfied: beautifulsoup4 in c:\\users\\zeric\\anaconda3\\lib\\site-packages (from bs4) (4.12.2)\n",
      "Requirement already satisfied: trio~=0.17 in c:\\users\\zeric\\anaconda3\\lib\\site-packages (from selenium) (0.25.0)\n",
      "Requirement already satisfied: trio-websocket~=0.9 in c:\\users\\zeric\\anaconda3\\lib\\site-packages (from selenium) (0.11.1)\n",
      "Requirement already satisfied: typing_extensions>=4.9.0 in c:\\users\\zeric\\anaconda3\\lib\\site-packages (from selenium) (4.9.0)\n",
      "Requirement already satisfied: python-dotenv in c:\\users\\zeric\\anaconda3\\lib\\site-packages (from webdriver_manager) (0.21.0)\n",
      "Requirement already satisfied: packaging in c:\\users\\zeric\\anaconda3\\lib\\site-packages (from webdriver_manager) (23.1)\n",
      "Requirement already satisfied: six>=1.5 in c:\\users\\zeric\\anaconda3\\lib\\site-packages (from python-dateutil>=2.8.2->pandas) (1.16.0)\n",
      "Requirement already satisfied: attrs>=23.2.0 in c:\\users\\zeric\\anaconda3\\lib\\site-packages (from trio~=0.17->selenium) (23.2.0)\n",
      "Requirement already satisfied: sortedcontainers in c:\\users\\zeric\\anaconda3\\lib\\site-packages (from trio~=0.17->selenium) (2.4.0)\n",
      "Requirement already satisfied: outcome in c:\\users\\zeric\\anaconda3\\lib\\site-packages (from trio~=0.17->selenium) (1.3.0.post0)\n",
      "Requirement already satisfied: sniffio>=1.3.0 in c:\\users\\zeric\\anaconda3\\lib\\site-packages (from trio~=0.17->selenium) (1.3.0)\n",
      "Requirement already satisfied: cffi>=1.14 in c:\\users\\zeric\\anaconda3\\lib\\site-packages (from trio~=0.17->selenium) (1.16.0)\n",
      "Requirement already satisfied: wsproto>=0.14 in c:\\users\\zeric\\anaconda3\\lib\\site-packages (from trio-websocket~=0.9->selenium) (1.2.0)\n",
      "Requirement already satisfied: pysocks!=1.5.7,<2.0,>=1.5.6 in c:\\users\\zeric\\anaconda3\\lib\\site-packages (from urllib3[socks]<3,>=1.26->selenium) (1.7.1)\n",
      "Requirement already satisfied: soupsieve>1.2 in c:\\users\\zeric\\anaconda3\\lib\\site-packages (from beautifulsoup4->bs4) (2.5)\n",
      "Requirement already satisfied: pycparser in c:\\users\\zeric\\anaconda3\\lib\\site-packages (from cffi>=1.14->trio~=0.17->selenium) (2.21)\n",
      "Requirement already satisfied: h11<1,>=0.9.0 in c:\\users\\zeric\\anaconda3\\lib\\site-packages (from wsproto>=0.14->trio-websocket~=0.9->selenium) (0.14.0)\n",
      "Downloading webdriver_manager-4.0.1-py2.py3-none-any.whl (27 kB)\n",
      "Installing collected packages: webdriver_manager\n",
      "Successfully installed webdriver_manager-4.0.1\n"
     ]
    }
   ],
   "source": [
    "!pip install requests pandas bs4 selenium lxml webdriver_manager\n",
    "import requests as rq\n",
    "import pandas as pd\n",
    "from bs4 import BeautifulSoup as soup\n",
    "from selenium import webdriver\n",
    "#from selenium.webdriver.chrome.options import Options\n",
    "#from selenium.webdriver.common.by import By\n",
    "from selenium.webdriver.chrome.service import Service\n",
    "from webdriver_manager.chrome import ChromeDriverManager\n",
    "from lxml import etree\n",
    "import time"
   ]
  },
  {
   "cell_type": "markdown",
   "metadata": {},
   "source": [
    "### 取得與解析網頁"
   ]
  },
  {
   "cell_type": "code",
   "execution_count": 2,
   "metadata": {},
   "outputs": [],
   "source": [
    "url = 'https://www.jpmarumaru.com/tw/jp-song-list-3.html'\n",
    "driver = webdriver.Chrome(service=Service(ChromeDriverManager().install()))\n",
    "html = driver.get(url)\n",
    "sp = soup(driver.page_source, 'lxml')"
   ]
  },
  {
   "cell_type": "markdown",
   "metadata": {},
   "source": [
    "### 點一下「同意」"
   ]
  },
  {
   "cell_type": "code",
   "execution_count": 3,
   "metadata": {},
   "outputs": [],
   "source": [
    "element = driver.find_element('xpath', '/html/body/div[10]/div[3]/a[1]')\n",
    "driver.execute_script(\"arguments[0].click();\", element)"
   ]
  },
  {
   "cell_type": "markdown",
   "metadata": {},
   "source": [
    "### 取得當前頁面上所有歌曲的網址"
   ]
  },
  {
   "cell_type": "code",
   "execution_count": 4,
   "metadata": {},
   "outputs": [],
   "source": [
    "url_list = []\n",
    "song_title = sp.find_all('td', class_=\"song-name\")\n",
    "for song_a in song_title:\n",
    "    url = song_a.find('a')['href']\n",
    "    url_list.append(\"https://www.jpmarumaru.com/tw/\" + url)"
   ]
  },
  {
   "cell_type": "markdown",
   "metadata": {},
   "source": [
    "### 取得與解析第一首歌曲的網頁"
   ]
  },
  {
   "cell_type": "code",
   "execution_count": 5,
   "metadata": {},
   "outputs": [],
   "source": [
    "html = driver.get(url_list[0])\n",
    "sp = soup(driver.page_source, 'lxml')"
   ]
  },
  {
   "cell_type": "markdown",
   "metadata": {},
   "source": [
    "###  獲取歌名"
   ]
  },
  {
   "cell_type": "code",
   "execution_count": 6,
   "metadata": {},
   "outputs": [],
   "source": [
    "title_jp = sp.find_all('div', class_='notranslate')[2].text\n",
    "title_zh = sp.find('div', {\"id\": \"LyricsList\"}).find_all('div')[1].text"
   ]
  },
  {
   "cell_type": "markdown",
   "metadata": {},
   "source": [
    "### 獲取歌詞"
   ]
  },
  {
   "cell_type": "code",
   "execution_count": 7,
   "metadata": {},
   "outputs": [
    {
     "name": "stdout",
     "output_type": "stream",
     "text": [
      "ロマンティックあげるよ - 橋本潮\n",
      "獻給你的羅曼蒂克 - 橋本潮\n",
      "\n",
      "おいでふぁんたじー すきさみすてりー\n",
      "重拾內心的幻想 喜歡探究神秘\n",
      "きみのわかさ かくさないで\n",
      "別急著隱藏你的年輕和活力\n",
      "ふしぎしたくて ぼうけんしたくて\n",
      "想做不可思議的事 期待著去冒險\n",
      "だれもみんな うずうずしてる\n",
      "每個人都迫不及待地躍躍欲試\n",
      "おとなのふりして あきらめちゃ\n",
      "為了裝成大人的樣子 而放棄的話\n",
      "きせきのなぞなど とけないよ\n",
      "是沒辦法解開奇蹟般的謎題喔\n",
      "もっとわいるどに もっとたくましく\n",
      "試著更開放地 更堅強地\n",
      "いきてごらん\n",
      "活得更有朝氣吧\n",
      "ろまんてぃっくあげるよ\n",
      "我要把羅曼蒂克送給你\n",
      "ろまんてぃっくあげるよ\n",
      "我要把羅曼蒂克送給你\n",
      "ほんとのゆうき みせてくれたら\n",
      "只要你表現出 真正的勇氣來\n",
      "ろまんてぃっくあげるよ\n",
      "我要把羅曼蒂克送給你\n",
      "ろまんてぃっくあげるよ\n",
      "我要把羅曼蒂克送給你\n",
      "ときめくむねに きらきらひかった ゆめをあげるよ\n",
      "我要把這躍動不已的心及閃亮的夢想送給你\n",
      "いつかわんだふる きっとびゅーてぃふる\n",
      "不知不覺一切變得奇妙又美好\n",
      "ひとのじゃんぐる まよいこんで\n",
      "迷失在人群的森林中\n",
      "すりるしたくて しあわせしたくて\n",
      "想要尋求刺激 卻又要過得幸福\n",
      "なぜかみんな そわそわしてる\n",
      "不知為何木大家開始坐立不安\n",
      "おもったとおりに さけばなきゃ\n",
      "和想像的一樣 若不大聲地呼喊\n",
      "ねがいはそらまで とどかない\n",
      "願望就不會傳達到天上\n",
      "もっとせくしーに もっとうつくしく\n",
      "試著更性感地 更美麗地\n",
      "いきてごらん\n",
      "活得更有朝氣吧\n",
      "ろまんてぃっくあげるよ\n",
      "我要把羅曼蒂克送給你\n",
      "ろまんてぃっくあげるよ\n",
      "我要把羅曼蒂克送給你\n",
      "ほんとのなみだ みせてくれたら\n",
      "讓我看到最真誠的眼淚吧\n",
      "ろまんてぃっくあげるよ\n",
      "我要把羅曼蒂克送給你\n",
      "ろまんてぃっくあげるよ\n",
      "我要把羅曼蒂克送給你\n",
      "さびしいこころ やさしくつつんで あいをあげるよ\n",
      "把能將寂寞的心給溫柔地包覆的愛送給你\n",
      "ろまんてぃっくあげるよ\n",
      "我要把羅曼蒂克送給你\n",
      "ろまんてぃっくあげるよ\n",
      "我要把羅曼蒂克送給你\n",
      "ほんとのゆうき みせてくれたら\n",
      "只要你表現出 真正的勇氣來\n",
      "ろまんてぃっくあげるよ\n",
      "我要把羅曼蒂克送給你\n",
      "ろまんてぃっくあげるよ\n",
      "我要把羅曼蒂克送給你\n",
      "ときめくむねに きらきらひかった ゆめをあげるよ\n",
      "我要把這躍動不已的心及閃亮的夢想送給你\n"
     ]
    }
   ],
   "source": [
    "jp_sentence_list = []\n",
    "zh_sentence_list = []\n",
    "\n",
    "lyrics_jp_area = sp.find_all(\"li\", class_='li1')\n",
    "lyrics_zh_area = sp.find_all(\"li\", class_='li2')\n",
    "\n",
    "for row in lyrics_jp_area:\n",
    "    jp_sentence = row.find(\"span\", class_ = \"LyricsYomiKana notranslate\").text\n",
    "    jp_sentence_list.append(jp_sentence)\n",
    "\n",
    "for row in lyrics_zh_area:\n",
    "    zh_setence = row.find(\"span\").text\n",
    "    zh_sentence_list.append(zh_setence)"
   ]
  },
  {
   "cell_type": "markdown",
   "metadata": {},
   "source": [
    "### 輸出成果"
   ]
  },
  {
   "cell_type": "code",
   "execution_count": null,
   "metadata": {},
   "outputs": [],
   "source": [
    "print(title_jp)\n",
    "print(title_zh)\n",
    "print()\n",
    "for sentence_index in range(0, len(jp_sentence_list)):\n",
    "    print(jp_sentence_list[sentence_index])\n",
    "    print(zh_sentence_list[sentence_index])"
   ]
  },
  {
   "cell_type": "code",
   "execution_count": null,
   "metadata": {},
   "outputs": [],
   "source": []
  }
 ],
 "metadata": {
  "kernelspec": {
   "display_name": "Python 3 (ipykernel)",
   "language": "python",
   "name": "python3"
  },
  "language_info": {
   "codemirror_mode": {
    "name": "ipython",
    "version": 3
   },
   "file_extension": ".py",
   "mimetype": "text/x-python",
   "name": "python",
   "nbconvert_exporter": "python",
   "pygments_lexer": "ipython3",
   "version": "3.11.7"
  }
 },
 "nbformat": 4,
 "nbformat_minor": 4
}
