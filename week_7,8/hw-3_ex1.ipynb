{
 "cells": [
  {
   "cell_type": "markdown",
   "source": [
    "### 123123"
   ],
   "metadata": {
    "collapsed": false
   },
   "id": "841ebec4d07211c1"
  },
  {
   "cell_type": "code",
   "outputs": [
    {
     "name": "stdout",
     "output_type": "stream",
     "text": [
      "Requirement already satisfied: requests in c:\\users\\zeric\\anaconda3\\lib\\site-packages (2.31.0)\n",
      "Requirement already satisfied: pandas in c:\\users\\zeric\\anaconda3\\lib\\site-packages (2.1.4)\n",
      "Requirement already satisfied: bs4 in c:\\users\\zeric\\anaconda3\\lib\\site-packages (0.0.2)\n",
      "Requirement already satisfied: selenium in c:\\users\\zeric\\anaconda3\\lib\\site-packages (4.19.0)\n",
      "Requirement already satisfied: lxml in c:\\users\\zeric\\anaconda3\\lib\\site-packages (4.9.3)\n",
      "Requirement already satisfied: webdriver_manager in c:\\users\\zeric\\anaconda3\\lib\\site-packages (4.0.1)\n",
      "Requirement already satisfied: charset-normalizer<4,>=2 in c:\\users\\zeric\\anaconda3\\lib\\site-packages (from requests) (2.0.4)\n",
      "Requirement already satisfied: idna<4,>=2.5 in c:\\users\\zeric\\anaconda3\\lib\\site-packages (from requests) (3.4)\n",
      "Requirement already satisfied: urllib3<3,>=1.21.1 in c:\\users\\zeric\\anaconda3\\lib\\site-packages (from requests) (2.0.7)\n",
      "Requirement already satisfied: certifi>=2017.4.17 in c:\\users\\zeric\\anaconda3\\lib\\site-packages (from requests) (2024.2.2)\n",
      "Requirement already satisfied: numpy<2,>=1.23.2 in c:\\users\\zeric\\anaconda3\\lib\\site-packages (from pandas) (1.26.4)\n",
      "Requirement already satisfied: python-dateutil>=2.8.2 in c:\\users\\zeric\\anaconda3\\lib\\site-packages (from pandas) (2.8.2)\n",
      "Requirement already satisfied: pytz>=2020.1 in c:\\users\\zeric\\anaconda3\\lib\\site-packages (from pandas) (2023.3.post1)\n",
      "Requirement already satisfied: tzdata>=2022.1 in c:\\users\\zeric\\anaconda3\\lib\\site-packages (from pandas) (2023.3)\n",
      "Requirement already satisfied: beautifulsoup4 in c:\\users\\zeric\\anaconda3\\lib\\site-packages (from bs4) (4.12.2)\n",
      "Requirement already satisfied: trio~=0.17 in c:\\users\\zeric\\anaconda3\\lib\\site-packages (from selenium) (0.25.0)\n",
      "Requirement already satisfied: trio-websocket~=0.9 in c:\\users\\zeric\\anaconda3\\lib\\site-packages (from selenium) (0.11.1)\n",
      "Requirement already satisfied: typing_extensions>=4.9.0 in c:\\users\\zeric\\anaconda3\\lib\\site-packages (from selenium) (4.9.0)\n",
      "Requirement already satisfied: python-dotenv in c:\\users\\zeric\\anaconda3\\lib\\site-packages (from webdriver_manager) (0.21.0)\n",
      "Requirement already satisfied: packaging in c:\\users\\zeric\\anaconda3\\lib\\site-packages (from webdriver_manager) (23.1)\n",
      "Requirement already satisfied: six>=1.5 in c:\\users\\zeric\\anaconda3\\lib\\site-packages (from python-dateutil>=2.8.2->pandas) (1.16.0)\n",
      "Requirement already satisfied: attrs>=23.2.0 in c:\\users\\zeric\\anaconda3\\lib\\site-packages (from trio~=0.17->selenium) (23.2.0)\n",
      "Requirement already satisfied: sortedcontainers in c:\\users\\zeric\\anaconda3\\lib\\site-packages (from trio~=0.17->selenium) (2.4.0)\n",
      "Requirement already satisfied: outcome in c:\\users\\zeric\\anaconda3\\lib\\site-packages (from trio~=0.17->selenium) (1.3.0.post0)\n",
      "Requirement already satisfied: sniffio>=1.3.0 in c:\\users\\zeric\\anaconda3\\lib\\site-packages (from trio~=0.17->selenium) (1.3.0)\n",
      "Requirement already satisfied: cffi>=1.14 in c:\\users\\zeric\\anaconda3\\lib\\site-packages (from trio~=0.17->selenium) (1.16.0)\n",
      "Requirement already satisfied: wsproto>=0.14 in c:\\users\\zeric\\anaconda3\\lib\\site-packages (from trio-websocket~=0.9->selenium) (1.2.0)\n",
      "Requirement already satisfied: pysocks!=1.5.7,<2.0,>=1.5.6 in c:\\users\\zeric\\anaconda3\\lib\\site-packages (from urllib3[socks]<3,>=1.26->selenium) (1.7.1)\n",
      "Requirement already satisfied: soupsieve>1.2 in c:\\users\\zeric\\anaconda3\\lib\\site-packages (from beautifulsoup4->bs4) (2.5)\n",
      "Requirement already satisfied: pycparser in c:\\users\\zeric\\anaconda3\\lib\\site-packages (from cffi>=1.14->trio~=0.17->selenium) (2.21)\n",
      "Requirement already satisfied: h11<1,>=0.9.0 in c:\\users\\zeric\\anaconda3\\lib\\site-packages (from wsproto>=0.14->trio-websocket~=0.9->selenium) (0.14.0)\n"
     ]
    }
   ],
   "source": [
    "!pip install requests pandas bs4 selenium lxml webdriver_manager\n",
    "import requests as rq\n",
    "import pandas as pd\n",
    "from bs4 import BeautifulSoup as soup\n",
    "from selenium import webdriver\n",
    "#from selenium.webdriver.chrome.options import Options\n",
    "#from selenium.webdriver.common.by import By\n",
    "from selenium.webdriver.chrome.service import Service\n",
    "from webdriver_manager.chrome import ChromeDriverManager\n",
    "from lxml import etree\n",
    "import time"
   ],
   "metadata": {
    "collapsed": true,
    "ExecuteTime": {
     "end_time": "2024-04-02T06:58:51.964628Z",
     "start_time": "2024-04-02T06:58:39.452602Z"
    }
   },
   "id": "initial_id",
   "execution_count": 1
  },
  {
   "cell_type": "markdown",
   "source": [
    "### 123123"
   ],
   "metadata": {
    "collapsed": false
   },
   "id": "48fcc8498d8f702d"
  },
  {
   "cell_type": "code",
   "outputs": [],
   "source": [
    "url = 'https://www.jpmarumaru.com/tw/jp-song-list-3.html'\n",
    "driver = webdriver.Chrome(service=Service(ChromeDriverManager().install()))\n",
    "html = driver.get(url)\n",
    "sp = soup(driver.page_source, 'lxml')"
   ],
   "metadata": {
    "collapsed": false
   },
   "id": "6de2cf0912d04d76"
  },
  {
   "cell_type": "markdown",
   "source": [
    "###"
   ],
   "metadata": {
    "collapsed": false
   },
   "id": "f07b47c9f26d7980"
  },
  {
   "cell_type": "code",
   "outputs": [],
   "source": [
    "element = driver.find_element('xpath', '/html/body/div[10]/div[3]/a[1]')\n",
    "driver.execute_script(\"arguments[0].click();\", element)"
   ],
   "metadata": {
    "collapsed": false
   },
   "id": "ed28840fede6fbb4"
  },
  {
   "cell_type": "markdown",
   "source": [
    "###"
   ],
   "metadata": {
    "collapsed": false
   },
   "id": "3b1589057db1bbb6"
  },
  {
   "cell_type": "code",
   "outputs": [],
   "source": [],
   "metadata": {
    "collapsed": false
   },
   "id": "ae36eec358266587"
  }
 ],
 "metadata": {
  "kernelspec": {
   "display_name": "Python 3",
   "language": "python",
   "name": "python3"
  },
  "language_info": {
   "codemirror_mode": {
    "name": "ipython",
    "version": 2
   },
   "file_extension": ".py",
   "mimetype": "text/x-python",
   "name": "python",
   "nbconvert_exporter": "python",
   "pygments_lexer": "ipython2",
   "version": "2.7.6"
  }
 },
 "nbformat": 4,
 "nbformat_minor": 5
}
