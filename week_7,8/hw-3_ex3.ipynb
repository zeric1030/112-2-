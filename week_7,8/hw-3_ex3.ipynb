{
 "cells": [
  {
   "cell_type": "markdown",
   "source": [
    "### 階段 1: 抓取單一頁面的文章"
   ],
   "metadata": {
    "collapsed": false
   },
   "id": "15013625a7956bb1"
  },
  {
   "cell_type": "code",
   "outputs": [],
   "source": [],
   "metadata": {
    "collapsed": false
   },
   "id": "43068e993f6fa678"
  },
  {
   "cell_type": "markdown",
   "source": [
    "### 階段 2: 抓取多頁的文章"
   ],
   "metadata": {
    "collapsed": false
   },
   "id": "c37c297749441d1c"
  },
  {
   "cell_type": "code",
   "outputs": [
    {
     "name": "stdout",
     "output_type": "stream",
     "text": [
      "https://udn.com/api/more?page=1&channelId=1&cate_id=3&type=breaknews\n",
      "https://udn.com/api/more?page=2&channelId=1&cate_id=3&type=breaknews\n",
      "https://udn.com/api/more?page=3&channelId=1&cate_id=3&type=breaknews\n",
      "{'url': 'https://pgw.udn.com.tw/gw/photo.php?u=https://p.udn.com.tw/upf/2017_news/noimg_cid6641_4.jpg', 'titleLink': '/news/story/7328/7949051?from=udn-ch1_breaknews-1-cate3-news', 'title': '電動機車補助方案 基隆市府：只能擇一申請', 'paragraph': '基隆市府針對電動機車補助預計推出不限廠牌方案，環保局長馬仲豪說，公益青年電動機車計畫與新購電動機車補助兩者是不同方案，符...', 'time': {'date': '2024-05-07 23:04'}, 'view': 41, 'content_level': '開放閱讀', 'story_list': 'list_即時新聞'}\n",
      "共抓到 60 篇新聞\n"
     ]
    }
   ],
   "source": [
    "import time\n",
    "import random\n",
    "import requests\n",
    "from datetime import datetime\n",
    "\n",
    "\n",
    "HEADERS = {\n",
    "    'User-Agent': 'Mozilla/5.0 (Windows NT 10.0; Win64; x64) AppleWebKit/537.36 (KHTML, like Gecko) Chrome/81.0.4044.92 Safari/537.36',\n",
    "}\n",
    "\n",
    "# udn 聯合新聞網，不同網頁版型範例\n",
    "# https://udn.com/news/story/6809/4690414\n",
    "# https://udn.com/news/story/6904/4698001   # https://udn.com/umedia/story/12762/4697096\n",
    "# https://udn.com/news/story/6809/4699983   # https://global.udn.com/global_vision/story/8663/4698371\n",
    "# https://udn.com/news/story/6809/4699958   # https://opinion.udn.com/opinion/story/120611/4698526\n",
    "# https://udn.com/news/story/6812/4700330   # 跳轉\"會員專屬內容\"\n",
    "\n",
    "\n",
    "def get_news_list(page_num=3):\n",
    "    \"\"\"爬取新聞列表\"\"\"\n",
    "    base_url = \"https://udn.com/api/more\"\n",
    "\n",
    "    news_list = []\n",
    "    for page in range(page_num):\n",
    "        channelId = 1\n",
    "        cate_id = 3\n",
    "        type_ = 'breaknews'\n",
    "        query = f\"page={page+1}&channelId={channelId}&cate_id={cate_id}&type={type_}\"\n",
    "        news_list_url = base_url + '?' + query\n",
    "        print(news_list_url)\n",
    "        # https://udn.com/api/more?page=2&channelId=1&cate_id=0&type=breaknews\n",
    "        \n",
    "        r = requests.get(news_list_url, headers=HEADERS)\n",
    "        news_data = r.json()\n",
    "        news_list.extend(news_data['lists'])\n",
    "\n",
    "        time.sleep(random.uniform(1, 2))\n",
    "\n",
    "    return news_list\n",
    "\n",
    "\n",
    "if __name__ == \"__main__\":\n",
    "    news_list = get_news_list(page_num=3)\n",
    "    print(news_list[0])\n",
    "    print(f\"共抓到 {len(news_list)} 篇新聞\")\n",
    "\n",
    "\n",
    "# 其他更多\n",
    "# 即時-不分類\n",
    "# channelId: 1\n",
    "# cate_id: 99\n",
    "# type: breaknews\n",
    "\n",
    "# 即時-精選\n",
    "# channelId: 1\n",
    "# cate_id: 0\n",
    "# type: breaknews\n",
    "\n",
    "# 即時-地方\n",
    "# channelId: 1\n",
    "# cate_id: 3\n",
    "# type: breaknews\n",
    "\n",
    "# 運動-最新\n",
    "# channelId: 2\n",
    "# type: cate_latest_news\n",
    "# cate_id: 7227\n",
    "\n",
    "# 運動-棒球\n",
    "# channelId: 2\n",
    "# type: subcate_articles\n",
    "# cate_id: 7227\n",
    "# sub_id: 7001\n",
    "\n",
    "# 運動-NBA\n",
    "# channelId: 2\n",
    "# type: subcate_articles\n",
    "# cate_id: 7227\n",
    "# sub_id: 7002\n",
    "\n",
    "# 生活-最新\n",
    "# channelId: 2\n",
    "# type: cate_latest_news\n",
    "# cate_id: 6649\n",
    "\n",
    "# 生活-星座\n",
    "# channelId: 2\n",
    "# type: subcate_articles\n",
    "# cate_id: 6649\n",
    "# sub_id: 7268\n",
    "# totalRecNo: 363\n",
    "\n",
    "# 數位-最新\n",
    "# channelId: 2\n",
    "# type: cate_latest_news\n",
    "# cate_id: 7226\n",
    "\n",
    "# 數位-焦點\n",
    "# channelId: 2\n",
    "# type: subcate_articles\n",
    "# cate_id: 7226\n",
    "# sub_id: 7086\n",
    "# is_paywall: 0\n",
    "# is_bauban: 0\n",
    "# is_vision: 0"
   ],
   "metadata": {
    "collapsed": false,
    "ExecuteTime": {
     "end_time": "2024-05-07T18:46:42.053773Z",
     "start_time": "2024-05-07T18:46:34.901602Z"
    }
   },
   "id": "8880d7d474e9ee42",
   "execution_count": 1
  },
  {
   "cell_type": "markdown",
   "source": [],
   "metadata": {
    "collapsed": false
   },
   "id": "9045311cf58d5cfe"
  },
  {
   "cell_type": "markdown",
   "source": [
    "### 階段 3: 將爬蟲功能寫成 class"
   ],
   "metadata": {
    "collapsed": false
   },
   "id": "64cf0ecc3871968d"
  },
  {
   "cell_type": "code",
   "outputs": [],
   "source": [],
   "metadata": {
    "collapsed": false
   },
   "id": "1eceaaeb2c5eb633"
  }
 ],
 "metadata": {
  "kernelspec": {
   "display_name": "Python 3",
   "language": "python",
   "name": "python3"
  },
  "language_info": {
   "codemirror_mode": {
    "name": "ipython",
    "version": 2
   },
   "file_extension": ".py",
   "mimetype": "text/x-python",
   "name": "python",
   "nbconvert_exporter": "python",
   "pygments_lexer": "ipython2",
   "version": "2.7.6"
  }
 },
 "nbformat": 4,
 "nbformat_minor": 5
}
