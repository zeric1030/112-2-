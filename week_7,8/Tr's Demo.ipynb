{
 "cells": [
  {
   "cell_type": "code",
   "execution_count": 22,
   "id": "initial_id",
   "metadata": {
    "collapsed": true,
    "ExecuteTime": {
     "end_time": "2024-04-02T07:50:37.838779Z",
     "start_time": "2024-04-02T07:50:37.832911Z"
    }
   },
   "outputs": [],
   "source": [
    "import requests\n",
    "from bs4 import BeautifulSoup\n",
    "import pandas as pd"
   ]
  },
  {
   "cell_type": "code",
   "outputs": [],
   "source": [
    "url = 'https://www.ptt.cc/bbs/Gossiping/index.html'  # PTT 八卦版的一頁"
   ],
   "metadata": {
    "collapsed": false,
    "ExecuteTime": {
     "end_time": "2024-04-02T07:50:39.579892Z",
     "start_time": "2024-04-02T07:50:39.572642Z"
    }
   },
   "id": "912c9fed8e71eb9f",
   "execution_count": 23
  },
  {
   "cell_type": "code",
   "outputs": [],
   "source": [
    "response = requests.get(url, cookies={'over18': '1'})  # 繞過年齡限制"
   ],
   "metadata": {
    "collapsed": false,
    "ExecuteTime": {
     "end_time": "2024-04-02T07:50:42.857053Z",
     "start_time": "2024-04-02T07:50:40.901139Z"
    }
   },
   "id": "1e3050ea624ce935",
   "execution_count": 24
  },
  {
   "cell_type": "code",
   "outputs": [
    {
     "data": {
      "text/plain": "'<!DOCTYPE html>\\n<html>\\n\\t<head>\\n\\t\\t<meta charset=\"utf-8\">\\n\\t\\t\\n\\n<meta name=\"viewport\" content=\"width=device-width, initial-scale=1\">\\n\\n<title>看板 Gossiping 文章列表 - 批踢踢實業坊</title>\\n\\n<link rel=\"stylesheet\" type=\"text/css\" href=\"//images.ptt.cc/bbs/v2.27/bbs-common.css\">\\n<link rel=\"stylesheet\" type=\"text/css\" href=\"//images.ptt.cc/bbs/v2.27/bbs-base.css\" media=\"screen\">\\n<link rel=\"stylesheet\" type=\"text/css\" href=\"//images.ptt.cc/bbs/v2.27/bbs-custom.css\">\\n<link rel=\"stylesheet\" type=\"text/css\" href=\"//images.ptt.cc/bbs/v2.27/pushstream.css\" media=\"screen\">\\n<link rel=\"stylesheet\" type=\"text/css\" href=\"//images.ptt.cc/bbs/v2.27/bbs-print.css\" media=\"print\">\\n\\n\\n\\n\\n\\t</head>\\n    <body>\\n\\t\\t\\n<div id=\"topbar-container\">\\n\\t<div id=\"topbar\" class=\"bbs-content\">\\n\\t\\t<a id=\"logo\" href=\"/bbs/\">批踢踢實業坊</a>\\n\\t\\t<span>&rsaquo;</span>\\n\\t\\t<a class=\"board\" href=\"/bbs/Gossiping/index.html\"><span class=\"board-label\">看板 </span>Gossiping</a>\\n\\t\\t<a class=\"right small\" href=\"/about.html\">關於我們</a>\\n\\t\\t<a class=\"right small\" href=\"/contact.html\">聯絡資訊</a>\\n\\t</div>\\n</div>\\n\\n<div id=\"main-container\">\\n\\t<div id=\"action-bar-container\">\\n\\t\\t<div class=\"action-bar\">\\n\\t\\t\\t<div class=\"btn-group btn-group-dir\">\\n\\t\\t\\t\\t<a class=\"btn selected\" href=\"/bbs/Gossiping/index.html\">看板</a>\\n\\t\\t\\t\\t<a class=\"btn\" href=\"/man/Gossiping/index.html\">精華區</a>\\n\\t\\t\\t</div>\\n\\t\\t\\t<div class=\"btn-group btn-group-paging\">\\n\\t\\t\\t\\t<a class=\"btn wide\" href=\"/bbs/Gossiping/index1.html\">最舊</a>\\n\\t\\t\\t\\t<a class=\"btn wide\" href=\"/bbs/Gossiping/index39043.html\">&lsaquo; 上頁</a>\\n\\t\\t\\t\\t<a class=\"btn wide disabled\">下頁 &rsaquo;</a>\\n\\t\\t\\t\\t<a class=\"btn wide\" href=\"/bbs/Gossiping/index.html\">最新</a>\\n\\t\\t\\t</div>\\n\\t\\t</div>\\n\\t</div>\\n\\n\\t<div class=\"r-list-container action-bar-margin bbs-screen\">\\n\\t\\t<div class=\"search-bar\">\\n\\t\\t\\t<form type=\"get\" action=\"search\" id=\"search-bar\">\\n\\t\\t\\t\\t<input class=\"query\" type=\"text\" name=\"q\" value=\"\" placeholder=\"搜尋文章&#x22ef;\">\\n\\t\\t\\t</form>\\n\\t\\t</div>\\n\\n\\t\\t\\n\\t\\t\\n            \\n        \\n        \\n\\t\\t<div class=\"r-ent\">\\n\\t\\t\\t<div class=\"nrec\"><span class=\"hl f2\">6</span></div>\\n\\t\\t\\t<div class=\"title\">\\n\\t\\t\\t\\n\\t\\t\\t\\t<a href=\"/bbs/Gossiping/M.1712043568.A.47A.html\">[問卦] 診所護士算是錢多事少離家近嗎?</a>\\n\\t\\t\\t\\n\\t\\t\\t</div>\\n\\t\\t\\t<div class=\"meta\">\\n\\t\\t\\t\\t<div class=\"author\">bleak777</div>\\n\\t\\t\\t\\t<div class=\"article-menu\">\\n\\t\\t\\t\\t\\t\\n\\t\\t\\t\\t\\t<div class=\"trigger\">&#x22ef;</div>\\n\\t\\t\\t\\t\\t<div class=\"dropdown\">\\n\\t\\t\\t\\t\\t\\t<div class=\"item\"><a href=\"/bbs/Gossiping/search?q=thread%3A%5B%E5%95%8F%E5%8D%A6%5D&#43;%E8%A8%BA%E6%89%80%E8%AD%B7%E5%A3%AB%E7%AE%97%E6%98%AF%E9%8C%A2%E5%A4%9A%E4%BA%8B%E5%B0%91%E9%9B%A2%E5%AE%B6%E8%BF%91%E5%97%8E%3F\">搜尋同標題文章</a></div>\\n\\t\\t\\t\\t\\t\\t\\n\\t\\t\\t\\t\\t\\t<div class=\"item\"><a href=\"/bbs/Gossiping/search?q=author%3Ableak777\">搜尋看板內 bleak777 的文章</a></div>\\n\\t\\t\\t\\t\\t\\t\\n\\t\\t\\t\\t\\t</div>\\n\\t\\t\\t\\t\\t\\n\\t\\t\\t\\t</div>\\n\\t\\t\\t\\t<div class=\"date\"> 4/02</div>\\n\\t\\t\\t\\t<div class=\"mark\"></div>\\n\\t\\t\\t</div>\\n\\t\\t</div>\\n\\n\\t\\t\\n            \\n        \\n        \\n\\t\\t<div class=\"r-ent\">\\n\\t\\t\\t<div class=\"nrec\"><span class=\"hl f2\">5</span></div>\\n\\t\\t\\t<div class=\"title\">\\n\\t\\t\\t\\n\\t\\t\\t\\t<a href=\"/bbs/Gossiping/M.1712043585.A.15F.html\">Re: [新聞] 只有廚師手有米酵菌酸！高大成：他一定知</a>\\n\\t\\t\\t\\n\\t\\t\\t</div>\\n\\t\\t\\t<div class=\"meta\">\\n\\t\\t\\t\\t<div class=\"author\">gk1329</div>\\n\\t\\t\\t\\t<div class=\"article-menu\">\\n\\t\\t\\t\\t\\t\\n\\t\\t\\t\\t\\t<div class=\"trigger\">&#x22ef;</div>\\n\\t\\t\\t\\t\\t<div class=\"dropdown\">\\n\\t\\t\\t\\t\\t\\t<div class=\"item\"><a href=\"/bbs/Gossiping/search?q=thread%3A%5B%E6%96%B0%E8%81%9E%5D&#43;%E5%8F%AA%E6%9C%89%E5%BB%9A%E5%B8%AB%E6%89%8B%E6%9C%89%E7%B1%B3%E9%85%B5%E8%8F%8C%E9%85%B8%EF%BC%81%E9%AB%98%E5%A4%A7%E6%88%90%EF%BC%9A%E4%BB%96%E4%B8%80%E5%AE%9A%E7%9F%A5\">搜尋同標題文章</a></div>\\n\\t\\t\\t\\t\\t\\t\\n\\t\\t\\t\\t\\t\\t<div class=\"item\"><a href=\"/bbs/Gossiping/search?q=author%3Agk1329\">搜尋看板內 gk1329 的文章</a></div>\\n\\t\\t\\t\\t\\t\\t\\n\\t\\t\\t\\t\\t</div>\\n\\t\\t\\t\\t\\t\\n\\t\\t\\t\\t</div>\\n\\t\\t\\t\\t<div class=\"date\"> 4/02</div>\\n\\t\\t\\t\\t<div class=\"mark\"></div>\\n\\t\\t\\t</div>\\n\\t\\t</div>\\n\\n\\t\\t\\n            \\n        \\n        \\n\\t\\t<div class=\"r-ent\">\\n\\t\\t\\t<div class=\"nrec\"></div>\\n\\t\\t\\t<div class=\"title\">\\n\\t\\t\\t\\n\\t\\t\\t\\t<a href=\"/bbs/Gossiping/M.1712043629.A.24B.html\">Re: [問卦] 政府真的窮到只能砍公務員待遇嗎？</a>\\n\\t\\t\\t\\n\\t\\t\\t</div>\\n\\t\\t\\t<div class=\"meta\">\\n\\t\\t\\t\\t<div class=\"author\">court0043</div>\\n\\t\\t\\t\\t<div class=\"article-menu\">\\n\\t\\t\\t\\t\\t\\n\\t\\t\\t\\t\\t<div class=\"trigger\">&#x22ef;</div>\\n\\t\\t\\t\\t\\t<div class=\"dropdown\">\\n\\t\\t\\t\\t\\t\\t<div class=\"item\"><a href=\"/bbs/Gossiping/search?q=thread%3A%5B%E5%95%8F%E5%8D%A6%5D&#43;%E6%94%BF%E5%BA%9C%E7%9C%9F%E7%9A%84%E7%AA%AE%E5%88%B0%E5%8F%AA%E8%83%BD%E7%A0%8D%E5%85%AC%E5%8B%99%E5%93%A1%E5%BE%85%E9%81%87%E5%97%8E%EF%BC%9F\">搜尋同標題文章</a></div>\\n\\t\\t\\t\\t\\t\\t\\n\\t\\t\\t\\t\\t\\t<div class=\"item\"><a href=\"/bbs/Gossiping/search?q=author%3Acourt0043\">搜尋看板內 court0043 的文章</a></div>\\n\\t\\t\\t\\t\\t\\t\\n\\t\\t\\t\\t\\t</div>\\n\\t\\t\\t\\t\\t\\n\\t\\t\\t\\t</div>\\n\\t\\t\\t\\t<div class=\"date\"> 4/02</div>\\n\\t\\t\\t\\t<div class=\"mark\"></div>\\n\\t\\t\\t</div>\\n\\t\\t</div>\\n\\n\\t\\t\\n            \\n        \\n        \\n\\t\\t<div class=\"r-ent\">\\n\\t\\t\\t<div class=\"nrec\"><span class=\"hl f2\">1</span></div>\\n\\t\\t\\t<div class=\"title\">\\n\\t\\t\\t\\n\\t\\t\\t\\t<a href=\"/bbs/Gossiping/M.1712043643.A.F47.html\">Re: [問卦] 在台積電工作的壓力 來自哪？</a>\\n\\t\\t\\t\\n\\t\\t\\t</div>\\n\\t\\t\\t<div class=\"meta\">\\n\\t\\t\\t\\t<div class=\"author\">vava5566</div>\\n\\t\\t\\t\\t<div class=\"article-menu\">\\n\\t\\t\\t\\t\\t\\n\\t\\t\\t\\t\\t<div class=\"trigger\">&#x22ef;</div>\\n\\t\\t\\t\\t\\t<div class=\"dropdown\">\\n\\t\\t\\t\\t\\t\\t<div class=\"item\"><a href=\"/bbs/Gossiping/search?q=thread%3A%5B%E5%95%8F%E5%8D%A6%5D&#43;%E5%9C%A8%E5%8F%B0%E7%A9%8D%E9%9B%BB%E5%B7%A5%E4%BD%9C%E7%9A%84%E5%A3%93%E5%8A%9B&#43;%E4%BE%86%E8%87%AA%E5%93%AA%EF%BC%9F\">搜尋同標題文章</a></div>\\n\\t\\t\\t\\t\\t\\t\\n\\t\\t\\t\\t\\t\\t<div class=\"item\"><a href=\"/bbs/Gossiping/search?q=author%3Avava5566\">搜尋看板內 vava5566 的文章</a></div>\\n\\t\\t\\t\\t\\t\\t\\n\\t\\t\\t\\t\\t</div>\\n\\t\\t\\t\\t\\t\\n\\t\\t\\t\\t</div>\\n\\t\\t\\t\\t<div class=\"date\"> 4/02</div>\\n\\t\\t\\t\\t<div class=\"mark\"></div>\\n\\t\\t\\t</div>\\n\\t\\t</div>\\n\\n\\t\\t\\n            \\n        \\n        \\n\\t\\t<div class=\"r-ent\">\\n\\t\\t\\t<div class=\"nrec\"><span class=\"hl f2\">8</span></div>\\n\\t\\t\\t<div class=\"title\">\\n\\t\\t\\t\\n\\t\\t\\t\\t<a href=\"/bbs/Gossiping/M.1712043664.A.72B.html\">Re: [問卦] 類固醇鼻噴劑也太神了吧==</a>\\n\\t\\t\\t\\n\\t\\t\\t</div>\\n\\t\\t\\t<div class=\"meta\">\\n\\t\\t\\t\\t<div class=\"author\">ayasesayuki</div>\\n\\t\\t\\t\\t<div class=\"article-menu\">\\n\\t\\t\\t\\t\\t\\n\\t\\t\\t\\t\\t<div class=\"trigger\">&#x22ef;</div>\\n\\t\\t\\t\\t\\t<div class=\"dropdown\">\\n\\t\\t\\t\\t\\t\\t<div class=\"item\"><a href=\"/bbs/Gossiping/search?q=thread%3A%5B%E5%95%8F%E5%8D%A6%5D&#43;%E9%A1%9E%E5%9B%BA%E9%86%87%E9%BC%BB%E5%99%B4%E5%8A%91%E4%B9%9F%E5%A4%AA%E7%A5%9E%E4%BA%86%E5%90%A7%3D%3D\">搜尋同標題文章</a></div>\\n\\t\\t\\t\\t\\t\\t\\n\\t\\t\\t\\t\\t\\t<div class=\"item\"><a href=\"/bbs/Gossiping/search?q=author%3Aayasesayuki\">搜尋看板內 ayasesayuki 的文章</a></div>\\n\\t\\t\\t\\t\\t\\t\\n\\t\\t\\t\\t\\t</div>\\n\\t\\t\\t\\t\\t\\n\\t\\t\\t\\t</div>\\n\\t\\t\\t\\t<div class=\"date\"> 4/02</div>\\n\\t\\t\\t\\t<div class=\"mark\"></div>\\n\\t\\t\\t</div>\\n\\t\\t</div>\\n\\n\\t\\t\\n            \\n        \\n        \\n\\t\\t<div class=\"r-ent\">\\n\\t\\t\\t<div class=\"nrec\"><span class=\"hl f3\">11</span></div>\\n\\t\\t\\t<div class=\"title\">\\n\\t\\t\\t\\n\\t\\t\\t\\t<a href=\"/bbs/Gossiping/M.1712043755.A.FF4.html\">[問卦] 吳哲源代表作是啥</a>\\n\\t\\t\\t\\n\\t\\t\\t</div>\\n\\t\\t\\t<div class=\"meta\">\\n\\t\\t\\t\\t<div class=\"author\">Celtic8879</div>\\n\\t\\t\\t\\t<div class=\"article-menu\">\\n\\t\\t\\t\\t\\t\\n\\t\\t\\t\\t\\t<div class=\"trigger\">&#x22ef;</div>\\n\\t\\t\\t\\t\\t<div class=\"dropdown\">\\n\\t\\t\\t\\t\\t\\t<div class=\"item\"><a href=\"/bbs/Gossiping/search?q=thread%3A%5B%E5%95%8F%E5%8D%A6%5D&#43;%E5%90%B3%E5%93%B2%E6%BA%90%E4%BB%A3%E8%A1%A8%E4%BD%9C%E6%98%AF%E5%95%A5\">搜尋同標題文章</a></div>\\n\\t\\t\\t\\t\\t\\t\\n\\t\\t\\t\\t\\t\\t<div class=\"item\"><a href=\"/bbs/Gossiping/search?q=author%3ACeltic8879\">搜尋看板內 Celtic8879 的文章</a></div>\\n\\t\\t\\t\\t\\t\\t\\n\\t\\t\\t\\t\\t</div>\\n\\t\\t\\t\\t\\t\\n\\t\\t\\t\\t</div>\\n\\t\\t\\t\\t<div class=\"date\"> 4/02</div>\\n\\t\\t\\t\\t<div class=\"mark\"></div>\\n\\t\\t\\t</div>\\n\\t\\t</div>\\n\\n\\t\\t\\n            \\n        \\n        \\n\\t\\t<div class=\"r-ent\">\\n\\t\\t\\t<div class=\"nrec\"><span class=\"hl f2\">2</span></div>\\n\\t\\t\\t<div class=\"title\">\\n\\t\\t\\t\\n\\t\\t\\t\\t<a href=\"/bbs/Gossiping/M.1712043778.A.762.html\">[問卦] 遠端上班要買一台咖啡機在家嗎</a>\\n\\t\\t\\t\\n\\t\\t\\t</div>\\n\\t\\t\\t<div class=\"meta\">\\n\\t\\t\\t\\t<div class=\"author\">chopinmozart</div>\\n\\t\\t\\t\\t<div class=\"article-menu\">\\n\\t\\t\\t\\t\\t\\n\\t\\t\\t\\t\\t<div class=\"trigger\">&#x22ef;</div>\\n\\t\\t\\t\\t\\t<div class=\"dropdown\">\\n\\t\\t\\t\\t\\t\\t<div class=\"item\"><a href=\"/bbs/Gossiping/search?q=thread%3A%5B%E5%95%8F%E5%8D%A6%5D&#43;%E9%81%A0%E7%AB%AF%E4%B8%8A%E7%8F%AD%E8%A6%81%E8%B2%B7%E4%B8%80%E5%8F%B0%E5%92%96%E5%95%A1%E6%A9%9F%E5%9C%A8%E5%AE%B6%E5%97%8E\">搜尋同標題文章</a></div>\\n\\t\\t\\t\\t\\t\\t\\n\\t\\t\\t\\t\\t\\t<div class=\"item\"><a href=\"/bbs/Gossiping/search?q=author%3Achopinmozart\">搜尋看板內 chopinmozart 的文章</a></div>\\n\\t\\t\\t\\t\\t\\t\\n\\t\\t\\t\\t\\t</div>\\n\\t\\t\\t\\t\\t\\n\\t\\t\\t\\t</div>\\n\\t\\t\\t\\t<div class=\"date\"> 4/02</div>\\n\\t\\t\\t\\t<div class=\"mark\"></div>\\n\\t\\t\\t</div>\\n\\t\\t</div>\\n\\n\\t\\t\\n            \\n        \\n        \\n\\t\\t<div class=\"r-ent\">\\n\\t\\t\\t<div class=\"nrec\"><span class=\"hl f2\">1</span></div>\\n\\t\\t\\t<div class=\"title\">\\n\\t\\t\\t\\n\\t\\t\\t\\t<a href=\"/bbs/Gossiping/M.1712043816.A.F2B.html\">[問卦] 吳卓林坐你大腿上你OK嗎？</a>\\n\\t\\t\\t\\n\\t\\t\\t</div>\\n\\t\\t\\t<div class=\"meta\">\\n\\t\\t\\t\\t<div class=\"author\">cidexin</div>\\n\\t\\t\\t\\t<div class=\"article-menu\">\\n\\t\\t\\t\\t\\t\\n\\t\\t\\t\\t\\t<div class=\"trigger\">&#x22ef;</div>\\n\\t\\t\\t\\t\\t<div class=\"dropdown\">\\n\\t\\t\\t\\t\\t\\t<div class=\"item\"><a href=\"/bbs/Gossiping/search?q=thread%3A%5B%E5%95%8F%E5%8D%A6%5D&#43;%E5%90%B3%E5%8D%93%E6%9E%97%E5%9D%90%E4%BD%A0%E5%A4%A7%E8%85%BF%E4%B8%8A%E4%BD%A0OK%E5%97%8E%EF%BC%9F\">搜尋同標題文章</a></div>\\n\\t\\t\\t\\t\\t\\t\\n\\t\\t\\t\\t\\t\\t<div class=\"item\"><a href=\"/bbs/Gossiping/search?q=author%3Acidexin\">搜尋看板內 cidexin 的文章</a></div>\\n\\t\\t\\t\\t\\t\\t\\n\\t\\t\\t\\t\\t</div>\\n\\t\\t\\t\\t\\t\\n\\t\\t\\t\\t</div>\\n\\t\\t\\t\\t<div class=\"date\"> 4/02</div>\\n\\t\\t\\t\\t<div class=\"mark\"></div>\\n\\t\\t\\t</div>\\n\\t\\t</div>\\n\\n\\t\\t\\n            \\n        \\n        \\n\\t\\t<div class=\"r-ent\">\\n\\t\\t\\t<div class=\"nrec\"><span class=\"hl f2\">2</span></div>\\n\\t\\t\\t<div class=\"title\">\\n\\t\\t\\t\\n\\t\\t\\t\\t<a href=\"/bbs/Gossiping/M.1712043873.A.475.html\">[問卦] 灼眼的夏娜坐你大腿可以嗎？</a>\\n\\t\\t\\t\\n\\t\\t\\t</div>\\n\\t\\t\\t<div class=\"meta\">\\n\\t\\t\\t\\t<div class=\"author\">Ommmmmm5566</div>\\n\\t\\t\\t\\t<div class=\"article-menu\">\\n\\t\\t\\t\\t\\t\\n\\t\\t\\t\\t\\t<div class=\"trigger\">&#x22ef;</div>\\n\\t\\t\\t\\t\\t<div class=\"dropdown\">\\n\\t\\t\\t\\t\\t\\t<div class=\"item\"><a href=\"/bbs/Gossiping/search?q=thread%3A%5B%E5%95%8F%E5%8D%A6%5D&#43;%E7%81%BC%E7%9C%BC%E7%9A%84%E5%A4%8F%E5%A8%9C%E5%9D%90%E4%BD%A0%E5%A4%A7%E8%85%BF%E5%8F%AF%E4%BB%A5%E5%97%8E%EF%BC%9F\">搜尋同標題文章</a></div>\\n\\t\\t\\t\\t\\t\\t\\n\\t\\t\\t\\t\\t\\t<div class=\"item\"><a href=\"/bbs/Gossiping/search?q=author%3AOmmmmmm5566\">搜尋看板內 Ommmmmm5566 的文章</a></div>\\n\\t\\t\\t\\t\\t\\t\\n\\t\\t\\t\\t\\t</div>\\n\\t\\t\\t\\t\\t\\n\\t\\t\\t\\t</div>\\n\\t\\t\\t\\t<div class=\"date\"> 4/02</div>\\n\\t\\t\\t\\t<div class=\"mark\"></div>\\n\\t\\t\\t</div>\\n\\t\\t</div>\\n\\n\\t\\t\\n            \\n        \\n        \\n\\t\\t<div class=\"r-ent\">\\n\\t\\t\\t<div class=\"nrec\"><span class=\"hl f2\">9</span></div>\\n\\t\\t\\t<div class=\"title\">\\n\\t\\t\\t\\n\\t\\t\\t\\t<a href=\"/bbs/Gossiping/M.1712043998.A.320.html\">[問卦] 現在拿你的手去檢驗會驗到什麼東西？？</a>\\n\\t\\t\\t\\n\\t\\t\\t</div>\\n\\t\\t\\t<div class=\"meta\">\\n\\t\\t\\t\\t<div class=\"author\">y7zj3</div>\\n\\t\\t\\t\\t<div class=\"article-menu\">\\n\\t\\t\\t\\t\\t\\n\\t\\t\\t\\t\\t<div class=\"trigger\">&#x22ef;</div>\\n\\t\\t\\t\\t\\t<div class=\"dropdown\">\\n\\t\\t\\t\\t\\t\\t<div class=\"item\"><a href=\"/bbs/Gossiping/search?q=thread%3A%5B%E5%95%8F%E5%8D%A6%5D&#43;%E7%8F%BE%E5%9C%A8%E6%8B%BF%E4%BD%A0%E7%9A%84%E6%89%8B%E5%8E%BB%E6%AA%A2%E9%A9%97%E6%9C%83%E9%A9%97%E5%88%B0%E4%BB%80%E9%BA%BC%E6%9D%B1%E8%A5%BF%EF%BC%9F%EF%BC%9F\">搜尋同標題文章</a></div>\\n\\t\\t\\t\\t\\t\\t\\n\\t\\t\\t\\t\\t\\t<div class=\"item\"><a href=\"/bbs/Gossiping/search?q=author%3Ay7zj3\">搜尋看板內 y7zj3 的文章</a></div>\\n\\t\\t\\t\\t\\t\\t\\n\\t\\t\\t\\t\\t</div>\\n\\t\\t\\t\\t\\t\\n\\t\\t\\t\\t</div>\\n\\t\\t\\t\\t<div class=\"date\"> 4/02</div>\\n\\t\\t\\t\\t<div class=\"mark\"></div>\\n\\t\\t\\t</div>\\n\\t\\t</div>\\n\\n\\t\\t\\n            \\n        \\n        \\n\\t\\t<div class=\"r-ent\">\\n\\t\\t\\t<div class=\"nrec\"><span class=\"hl f2\">1</span></div>\\n\\t\\t\\t<div class=\"title\">\\n\\t\\t\\t\\n\\t\\t\\t\\t<a href=\"/bbs/Gossiping/M.1712044049.A.87D.html\">[問卦] 認真文 原來台灣經濟都被老人控制</a>\\n\\t\\t\\t\\n\\t\\t\\t</div>\\n\\t\\t\\t<div class=\"meta\">\\n\\t\\t\\t\\t<div class=\"author\">TWipc</div>\\n\\t\\t\\t\\t<div class=\"article-menu\">\\n\\t\\t\\t\\t\\t\\n\\t\\t\\t\\t\\t<div class=\"trigger\">&#x22ef;</div>\\n\\t\\t\\t\\t\\t<div class=\"dropdown\">\\n\\t\\t\\t\\t\\t\\t<div class=\"item\"><a href=\"/bbs/Gossiping/search?q=thread%3A%5B%E5%95%8F%E5%8D%A6%5D&#43;%E8%AA%8D%E7%9C%9F%E6%96%87&#43;%E5%8E%9F%E4%BE%86%E5%8F%B0%E7%81%A3%E7%B6%93%E6%BF%9F%E9%83%BD%E8%A2%AB%E8%80%81%E4%BA%BA%E6%8E%A7%E5%88%B6\">搜尋同標題文章</a></div>\\n\\t\\t\\t\\t\\t\\t\\n\\t\\t\\t\\t\\t\\t<div class=\"item\"><a href=\"/bbs/Gossiping/search?q=author%3ATWipc\">搜尋看板內 TWipc 的文章</a></div>\\n\\t\\t\\t\\t\\t\\t\\n\\t\\t\\t\\t\\t</div>\\n\\t\\t\\t\\t\\t\\n\\t\\t\\t\\t</div>\\n\\t\\t\\t\\t<div class=\"date\"> 4/02</div>\\n\\t\\t\\t\\t<div class=\"mark\"></div>\\n\\t\\t\\t</div>\\n\\t\\t</div>\\n\\n\\t\\t\\n            \\n        \\n        \\n\\t\\t<div class=\"r-ent\">\\n\\t\\t\\t<div class=\"nrec\"></div>\\n\\t\\t\\t<div class=\"title\">\\n\\t\\t\\t\\n\\t\\t\\t\\t<a href=\"/bbs/Gossiping/M.1712044091.A.1E1.html\">[問卦] 其實你我都吃過一點毒素了吧?</a>\\n\\t\\t\\t\\n\\t\\t\\t</div>\\n\\t\\t\\t<div class=\"meta\">\\n\\t\\t\\t\\t<div class=\"author\">IslamicState</div>\\n\\t\\t\\t\\t<div class=\"article-menu\">\\n\\t\\t\\t\\t\\t\\n\\t\\t\\t\\t\\t<div class=\"trigger\">&#x22ef;</div>\\n\\t\\t\\t\\t\\t<div class=\"dropdown\">\\n\\t\\t\\t\\t\\t\\t<div class=\"item\"><a href=\"/bbs/Gossiping/search?q=thread%3A%5B%E5%95%8F%E5%8D%A6%5D&#43;%E5%85%B6%E5%AF%A6%E4%BD%A0%E6%88%91%E9%83%BD%E5%90%83%E9%81%8E%E4%B8%80%E9%BB%9E%E6%AF%92%E7%B4%A0%E4%BA%86%E5%90%A7%3F\">搜尋同標題文章</a></div>\\n\\t\\t\\t\\t\\t\\t\\n\\t\\t\\t\\t\\t\\t<div class=\"item\"><a href=\"/bbs/Gossiping/search?q=author%3AIslamicState\">搜尋看板內 IslamicState 的文章</a></div>\\n\\t\\t\\t\\t\\t\\t\\n\\t\\t\\t\\t\\t</div>\\n\\t\\t\\t\\t\\t\\n\\t\\t\\t\\t</div>\\n\\t\\t\\t\\t<div class=\"date\"> 4/02</div>\\n\\t\\t\\t\\t<div class=\"mark\"></div>\\n\\t\\t\\t</div>\\n\\t\\t</div>\\n\\n\\t\\t\\n            \\n        \\n        \\n\\t\\t<div class=\"r-ent\">\\n\\t\\t\\t<div class=\"nrec\"></div>\\n\\t\\t\\t<div class=\"title\">\\n\\t\\t\\t\\n\\t\\t\\t\\t<a href=\"/bbs/Gossiping/M.1712044091.A.AA6.html\">[問卦] 佐佐木明希坐你大腿OK嗎</a>\\n\\t\\t\\t\\n\\t\\t\\t</div>\\n\\t\\t\\t<div class=\"meta\">\\n\\t\\t\\t\\t<div class=\"author\">kogsww</div>\\n\\t\\t\\t\\t<div class=\"article-menu\">\\n\\t\\t\\t\\t\\t\\n\\t\\t\\t\\t\\t<div class=\"trigger\">&#x22ef;</div>\\n\\t\\t\\t\\t\\t<div class=\"dropdown\">\\n\\t\\t\\t\\t\\t\\t<div class=\"item\"><a href=\"/bbs/Gossiping/search?q=thread%3A%5B%E5%95%8F%E5%8D%A6%5D&#43;%E4%BD%90%E4%BD%90%E6%9C%A8%E6%98%8E%E5%B8%8C%E5%9D%90%E4%BD%A0%E5%A4%A7%E8%85%BFOK%E5%97%8E\">搜尋同標題文章</a></div>\\n\\t\\t\\t\\t\\t\\t\\n\\t\\t\\t\\t\\t\\t<div class=\"item\"><a href=\"/bbs/Gossiping/search?q=author%3Akogsww\">搜尋看板內 kogsww 的文章</a></div>\\n\\t\\t\\t\\t\\t\\t\\n\\t\\t\\t\\t\\t</div>\\n\\t\\t\\t\\t\\t\\n\\t\\t\\t\\t</div>\\n\\t\\t\\t\\t<div class=\"date\"> 4/02</div>\\n\\t\\t\\t\\t<div class=\"mark\"></div>\\n\\t\\t\\t</div>\\n\\t\\t</div>\\n\\n\\t\\t\\n            \\n        \\n        \\n\\t\\t<div class=\"r-ent\">\\n\\t\\t\\t<div class=\"nrec\"></div>\\n\\t\\t\\t<div class=\"title\">\\n\\t\\t\\t\\n\\t\\t\\t\\t<a href=\"/bbs/Gossiping/M.1712044128.A.CCC.html\">Re: [問卦] 在台積電工作的壓力 來自哪？</a>\\n\\t\\t\\t\\n\\t\\t\\t</div>\\n\\t\\t\\t<div class=\"meta\">\\n\\t\\t\\t\\t<div class=\"author\">palindromes</div>\\n\\t\\t\\t\\t<div class=\"article-menu\">\\n\\t\\t\\t\\t\\t\\n\\t\\t\\t\\t\\t<div class=\"trigger\">&#x22ef;</div>\\n\\t\\t\\t\\t\\t<div class=\"dropdown\">\\n\\t\\t\\t\\t\\t\\t<div class=\"item\"><a href=\"/bbs/Gossiping/search?q=thread%3A%5B%E5%95%8F%E5%8D%A6%5D&#43;%E5%9C%A8%E5%8F%B0%E7%A9%8D%E9%9B%BB%E5%B7%A5%E4%BD%9C%E7%9A%84%E5%A3%93%E5%8A%9B&#43;%E4%BE%86%E8%87%AA%E5%93%AA%EF%BC%9F\">搜尋同標題文章</a></div>\\n\\t\\t\\t\\t\\t\\t\\n\\t\\t\\t\\t\\t\\t<div class=\"item\"><a href=\"/bbs/Gossiping/search?q=author%3Apalindromes\">搜尋看板內 palindromes 的文章</a></div>\\n\\t\\t\\t\\t\\t\\t\\n\\t\\t\\t\\t\\t</div>\\n\\t\\t\\t\\t\\t\\n\\t\\t\\t\\t</div>\\n\\t\\t\\t\\t<div class=\"date\"> 4/02</div>\\n\\t\\t\\t\\t<div class=\"mark\"></div>\\n\\t\\t\\t</div>\\n\\t\\t</div>\\n\\n\\t\\t\\n            \\n        \\n        \\n\\t\\t<div class=\"r-ent\">\\n\\t\\t\\t<div class=\"nrec\"><span class=\"hl f2\">5</span></div>\\n\\t\\t\\t<div class=\"title\">\\n\\t\\t\\t\\n\\t\\t\\t\\t<a href=\"/bbs/Gossiping/M.1712044141.A.58A.html\">[問卦] 芙莉蓮坐你大腿你可以嗎?</a>\\n\\t\\t\\t\\n\\t\\t\\t</div>\\n\\t\\t\\t<div class=\"meta\">\\n\\t\\t\\t\\t<div class=\"author\">RRADA</div>\\n\\t\\t\\t\\t<div class=\"article-menu\">\\n\\t\\t\\t\\t\\t\\n\\t\\t\\t\\t\\t<div class=\"trigger\">&#x22ef;</div>\\n\\t\\t\\t\\t\\t<div class=\"dropdown\">\\n\\t\\t\\t\\t\\t\\t<div class=\"item\"><a href=\"/bbs/Gossiping/search?q=thread%3A%5B%E5%95%8F%E5%8D%A6%5D&#43;%E8%8A%99%E8%8E%89%E8%93%AE%E5%9D%90%E4%BD%A0%E5%A4%A7%E8%85%BF%E4%BD%A0%E5%8F%AF%E4%BB%A5%E5%97%8E%3F\">搜尋同標題文章</a></div>\\n\\t\\t\\t\\t\\t\\t\\n\\t\\t\\t\\t\\t\\t<div class=\"item\"><a href=\"/bbs/Gossiping/search?q=author%3ARRADA\">搜尋看板內 RRADA 的文章</a></div>\\n\\t\\t\\t\\t\\t\\t\\n\\t\\t\\t\\t\\t</div>\\n\\t\\t\\t\\t\\t\\n\\t\\t\\t\\t</div>\\n\\t\\t\\t\\t<div class=\"date\"> 4/02</div>\\n\\t\\t\\t\\t<div class=\"mark\"></div>\\n\\t\\t\\t</div>\\n\\t\\t</div>\\n\\n\\t\\t\\n            \\n        \\n        \\n\\t\\t<div class=\"r-ent\">\\n\\t\\t\\t<div class=\"nrec\"></div>\\n\\t\\t\\t<div class=\"title\">\\n\\t\\t\\t\\n\\t\\t\\t\\t<a href=\"/bbs/Gossiping/M.1712044159.A.426.html\">[問卦] 為什麼最近八卦版對中國的風向變得那麼溫</a>\\n\\t\\t\\t\\n\\t\\t\\t</div>\\n\\t\\t\\t<div class=\"meta\">\\n\\t\\t\\t\\t<div class=\"author\">ajeoirgh</div>\\n\\t\\t\\t\\t<div class=\"article-menu\">\\n\\t\\t\\t\\t\\t\\n\\t\\t\\t\\t\\t<div class=\"trigger\">&#x22ef;</div>\\n\\t\\t\\t\\t\\t<div class=\"dropdown\">\\n\\t\\t\\t\\t\\t\\t<div class=\"item\"><a href=\"/bbs/Gossiping/search?q=thread%3A%5B%E5%95%8F%E5%8D%A6%5D&#43;%E7%82%BA%E4%BB%80%E9%BA%BC%E6%9C%80%E8%BF%91%E5%85%AB%E5%8D%A6%E7%89%88%E5%B0%8D%E4%B8%AD%E5%9C%8B%E7%9A%84%E9%A2%A8%E5%90%91%E8%AE%8A%E5%BE%97%E9%82%A3%E9%BA%BC%E6%BA%AB\">搜尋同標題文章</a></div>\\n\\t\\t\\t\\t\\t\\t\\n\\t\\t\\t\\t\\t\\t<div class=\"item\"><a href=\"/bbs/Gossiping/search?q=author%3Aajeoirgh\">搜尋看板內 ajeoirgh 的文章</a></div>\\n\\t\\t\\t\\t\\t\\t\\n\\t\\t\\t\\t\\t</div>\\n\\t\\t\\t\\t\\t\\n\\t\\t\\t\\t</div>\\n\\t\\t\\t\\t<div class=\"date\"> 4/02</div>\\n\\t\\t\\t\\t<div class=\"mark\"></div>\\n\\t\\t\\t</div>\\n\\t\\t</div>\\n\\n\\t\\t\\n            \\n        \\n        \\n\\t\\t<div class=\"r-ent\">\\n\\t\\t\\t<div class=\"nrec\"></div>\\n\\t\\t\\t<div class=\"title\">\\n\\t\\t\\t\\n\\t\\t\\t\\t<a href=\"/bbs/Gossiping/M.1712044163.A.DDB.html\">Re: [新聞] 吳卓源錯愕發聲！「被朱先生告知他本人已</a>\\n\\t\\t\\t\\n\\t\\t\\t</div>\\n\\t\\t\\t<div class=\"meta\">\\n\\t\\t\\t\\t<div class=\"author\">itmyshit</div>\\n\\t\\t\\t\\t<div class=\"article-menu\">\\n\\t\\t\\t\\t\\t\\n\\t\\t\\t\\t\\t<div class=\"trigger\">&#x22ef;</div>\\n\\t\\t\\t\\t\\t<div class=\"dropdown\">\\n\\t\\t\\t\\t\\t\\t<div class=\"item\"><a href=\"/bbs/Gossiping/search?q=thread%3A%5B%E6%96%B0%E8%81%9E%5D&#43;%E5%90%B3%E5%8D%93%E6%BA%90%E9%8C%AF%E6%84%95%E7%99%BC%E8%81%B2%EF%BC%81%E3%80%8C%E8%A2%AB%E6%9C%B1%E5%85%88%E7%94%9F%E5%91%8A%E7%9F%A5%E4%BB%96%E6%9C%AC%E4%BA%BA%E5%B7%B2\">搜尋同標題文章</a></div>\\n\\t\\t\\t\\t\\t\\t\\n\\t\\t\\t\\t\\t\\t<div class=\"item\"><a href=\"/bbs/Gossiping/search?q=author%3Aitmyshit\">搜尋看板內 itmyshit 的文章</a></div>\\n\\t\\t\\t\\t\\t\\t\\n\\t\\t\\t\\t\\t</div>\\n\\t\\t\\t\\t\\t\\n\\t\\t\\t\\t</div>\\n\\t\\t\\t\\t<div class=\"date\"> 4/02</div>\\n\\t\\t\\t\\t<div class=\"mark\"></div>\\n\\t\\t\\t</div>\\n\\t\\t</div>\\n\\n\\t\\t\\n            \\n        \\n        \\n\\t\\t<div class=\"r-ent\">\\n\\t\\t\\t<div class=\"nrec\"></div>\\n\\t\\t\\t<div class=\"title\">\\n\\t\\t\\t\\n\\t\\t\\t\\t<a href=\"/bbs/Gossiping/M.1712044181.A.401.html\">[新聞] 米酵菌酸元凶有它？食材新舊混放廚房蟑螂</a>\\n\\t\\t\\t\\n\\t\\t\\t</div>\\n\\t\\t\\t<div class=\"meta\">\\n\\t\\t\\t\\t<div class=\"author\">kiho5678</div>\\n\\t\\t\\t\\t<div class=\"article-menu\">\\n\\t\\t\\t\\t\\t\\n\\t\\t\\t\\t\\t<div class=\"trigger\">&#x22ef;</div>\\n\\t\\t\\t\\t\\t<div class=\"dropdown\">\\n\\t\\t\\t\\t\\t\\t<div class=\"item\"><a href=\"/bbs/Gossiping/search?q=thread%3A%5B%E6%96%B0%E8%81%9E%5D&#43;%E7%B1%B3%E9%85%B5%E8%8F%8C%E9%85%B8%E5%85%83%E5%87%B6%E6%9C%89%E5%AE%83%EF%BC%9F%E9%A3%9F%E6%9D%90%E6%96%B0%E8%88%8A%E6%B7%B7%E6%94%BE%E5%BB%9A%E6%88%BF%E8%9F%91%E8%9E%82\">搜尋同標題文章</a></div>\\n\\t\\t\\t\\t\\t\\t\\n\\t\\t\\t\\t\\t\\t<div class=\"item\"><a href=\"/bbs/Gossiping/search?q=author%3Akiho5678\">搜尋看板內 kiho5678 的文章</a></div>\\n\\t\\t\\t\\t\\t\\t\\n\\t\\t\\t\\t\\t</div>\\n\\t\\t\\t\\t\\t\\n\\t\\t\\t\\t</div>\\n\\t\\t\\t\\t<div class=\"date\"> 4/02</div>\\n\\t\\t\\t\\t<div class=\"mark\"></div>\\n\\t\\t\\t</div>\\n\\t\\t</div>\\n\\n\\t\\t\\n        \\n        <div class=\"r-list-sep\"></div>\\n            \\n                \\n        \\n        \\n\\t\\t<div class=\"r-ent\">\\n\\t\\t\\t<div class=\"nrec\"></div>\\n\\t\\t\\t<div class=\"title\">\\n\\t\\t\\t\\n\\t\\t\\t\\t<a href=\"/bbs/Gossiping/M.1699632792.A.2CB.html\">[公告] 八卦板板規(2023.11.11)</a>\\n\\t\\t\\t\\n\\t\\t\\t</div>\\n\\t\\t\\t<div class=\"meta\">\\n\\t\\t\\t\\t<div class=\"author\">lwt501cx</div>\\n\\t\\t\\t\\t<div class=\"article-menu\">\\n\\t\\t\\t\\t\\t\\n\\t\\t\\t\\t\\t<div class=\"trigger\">&#x22ef;</div>\\n\\t\\t\\t\\t\\t<div class=\"dropdown\">\\n\\t\\t\\t\\t\\t\\t<div class=\"item\"><a href=\"/bbs/Gossiping/search?q=thread%3A%5B%E5%85%AC%E5%91%8A%5D&#43;%E5%85%AB%E5%8D%A6%E6%9D%BF%E6%9D%BF%E8%A6%8F%282023.11.11%29\">搜尋同標題文章</a></div>\\n\\t\\t\\t\\t\\t\\t\\n\\t\\t\\t\\t\\t\\t<div class=\"item\"><a href=\"/bbs/Gossiping/search?q=author%3Alwt501cx\">搜尋看板內 lwt501cx 的文章</a></div>\\n\\t\\t\\t\\t\\t\\t\\n\\t\\t\\t\\t\\t</div>\\n\\t\\t\\t\\t\\t\\n\\t\\t\\t\\t</div>\\n\\t\\t\\t\\t<div class=\"date\">11/11</div>\\n\\t\\t\\t\\t<div class=\"mark\">!</div>\\n\\t\\t\\t</div>\\n\\t\\t</div>\\n\\n            \\n                \\n        \\n        \\n\\t\\t<div class=\"r-ent\">\\n\\t\\t\\t<div class=\"nrec\"><span class=\"hl f3\">23</span></div>\\n\\t\\t\\t<div class=\"title\">\\n\\t\\t\\t\\n\\t\\t\\t\\t<a href=\"/bbs/Gossiping/M.1710949284.A.389.html\">Fw: [聯署] 用定期健檢防止安置兒童持續受虐</a>\\n\\t\\t\\t\\n\\t\\t\\t</div>\\n\\t\\t\\t<div class=\"meta\">\\n\\t\\t\\t\\t<div class=\"author\">kukuchi</div>\\n\\t\\t\\t\\t<div class=\"article-menu\">\\n\\t\\t\\t\\t\\t\\n\\t\\t\\t\\t\\t<div class=\"trigger\">&#x22ef;</div>\\n\\t\\t\\t\\t\\t<div class=\"dropdown\">\\n\\t\\t\\t\\t\\t\\t<div class=\"item\"><a href=\"/bbs/Gossiping/search?q=thread%3A%5B%E8%81%AF%E7%BD%B2%5D&#43;%E7%94%A8%E5%AE%9A%E6%9C%9F%E5%81%A5%E6%AA%A2%E9%98%B2%E6%AD%A2%E5%AE%89%E7%BD%AE%E5%85%92%E7%AB%A5%E6%8C%81%E7%BA%8C%E5%8F%97%E8%99%90\">搜尋同標題文章</a></div>\\n\\t\\t\\t\\t\\t\\t\\n\\t\\t\\t\\t\\t\\t<div class=\"item\"><a href=\"/bbs/Gossiping/search?q=author%3Akukuchi\">搜尋看板內 kukuchi 的文章</a></div>\\n\\t\\t\\t\\t\\t\\t\\n\\t\\t\\t\\t\\t</div>\\n\\t\\t\\t\\t\\t\\n\\t\\t\\t\\t</div>\\n\\t\\t\\t\\t<div class=\"date\"> 3/20</div>\\n\\t\\t\\t\\t<div class=\"mark\">M</div>\\n\\t\\t\\t</div>\\n\\t\\t</div>\\n\\n            \\n                \\n        \\n        \\n\\t\\t<div class=\"r-ent\">\\n\\t\\t\\t<div class=\"nrec\"><span class=\"hl f3\">12</span></div>\\n\\t\\t\\t<div class=\"title\">\\n\\t\\t\\t\\n\\t\\t\\t\\t<a href=\"/bbs/Gossiping/M.1709979240.A.A3A.html\">[公告]～（＠ｏ＠）～三月置底閒聊區 </a>\\n\\t\\t\\t\\n\\t\\t\\t</div>\\n\\t\\t\\t<div class=\"meta\">\\n\\t\\t\\t\\t<div class=\"author\">ubcs</div>\\n\\t\\t\\t\\t<div class=\"article-menu\">\\n\\t\\t\\t\\t\\t\\n\\t\\t\\t\\t\\t<div class=\"trigger\">&#x22ef;</div>\\n\\t\\t\\t\\t\\t<div class=\"dropdown\">\\n\\t\\t\\t\\t\\t\\t<div class=\"item\"><a href=\"/bbs/Gossiping/search?q=thread%3A%5B%E5%85%AC%E5%91%8A%5D%EF%BD%9E%EF%BC%88%EF%BC%A0%EF%BD%8F%EF%BC%A0%EF%BC%89%EF%BD%9E%E4%B8%89%E6%9C%88%E7%BD%AE%E5%BA%95%E9%96%92%E8%81%8A%E5%8D%80&#43;\">搜尋同標題文章</a></div>\\n\\t\\t\\t\\t\\t\\t\\n\\t\\t\\t\\t\\t\\t<div class=\"item\"><a href=\"/bbs/Gossiping/search?q=author%3Aubcs\">搜尋看板內 ubcs 的文章</a></div>\\n\\t\\t\\t\\t\\t\\t\\n\\t\\t\\t\\t\\t</div>\\n\\t\\t\\t\\t\\t\\n\\t\\t\\t\\t</div>\\n\\t\\t\\t\\t<div class=\"date\"> 3/09</div>\\n\\t\\t\\t\\t<div class=\"mark\">M</div>\\n\\t\\t\\t</div>\\n\\t\\t</div>\\n\\n            \\n        \\n\\t</div>\\n\\n    \\n<div class=\"bbs-screen bbs-footer-message\">本網站已依台灣網站內容分級規定處理。此區域為限制級，未滿十八歲者不得瀏覽。</div>\\n\\n</div>\\n\\n\\t\\t\\n\\n\\n\\n<script async src=\"https://www.googletagmanager.com/gtag/js?id=G-DZ6Y3BY9GW\"></script>\\n<script>\\n      window.dataLayer = window.dataLayer || [];\\n      function gtag(){dataLayer.push(arguments);}\\n      gtag(\\'js\\', new Date());\\n\\n      gtag(\\'config\\', \\'G-DZ6Y3BY9GW\\');\\n</script>\\n<script>\\n  (function(i,s,o,g,r,a,m){i[\\'GoogleAnalyticsObject\\']=r;i[r]=i[r]||function(){\\n  (i[r].q=i[r].q||[]).push(arguments)},i[r].l=1*new Date();a=s.createElement(o),\\n  m=s.getElementsByTagName(o)[0];a.async=1;a.src=g;m.parentNode.insertBefore(a,m)\\n  })(window,document,\\'script\\',\\'https://www.google-analytics.com/analytics.js\\',\\'ga\\');\\n\\n  ga(\\'create\\', \\'UA-32365737-1\\', {\\n    cookieDomain: \\'ptt.cc\\',\\n    legacyCookieDomain: \\'ptt.cc\\'\\n  });\\n  ga(\\'send\\', \\'pageview\\');\\n</script>\\n\\n\\n\\t\\t\\n<script src=\"//ajax.googleapis.com/ajax/libs/jquery/2.1.1/jquery.min.js\"></script>\\n<script src=\"//images.ptt.cc/bbs/v2.27/bbs.js\"></script>\\n\\n    </body>\\n</html>\\n'"
     },
     "execution_count": 25,
     "metadata": {},
     "output_type": "execute_result"
    }
   ],
   "source": [
    "response.text"
   ],
   "metadata": {
    "collapsed": false,
    "ExecuteTime": {
     "end_time": "2024-04-02T07:50:43.536596Z",
     "start_time": "2024-04-02T07:50:43.527866Z"
    }
   },
   "id": "92d01b9568c2eeb9",
   "execution_count": 25
  },
  {
   "cell_type": "code",
   "outputs": [],
   "source": [
    "if response.status_code == 200:\n",
    "  soup = BeautifulSoup(response.text, 'html.parser')"
   ],
   "metadata": {
    "collapsed": false,
    "ExecuteTime": {
     "end_time": "2024-04-02T07:50:45.677027Z",
     "start_time": "2024-04-02T07:50:45.640577Z"
    }
   },
   "id": "d91aee05a90e0fb8",
   "execution_count": 26
  },
  {
   "cell_type": "code",
   "outputs": [
    {
     "data": {
      "text/plain": "[]"
     },
     "execution_count": 27,
     "metadata": {},
     "output_type": "execute_result"
    }
   ],
   "source": [
    "soup.find_all('div', class_='class')"
   ],
   "metadata": {
    "collapsed": false,
    "ExecuteTime": {
     "end_time": "2024-04-02T07:50:46.770537Z",
     "start_time": "2024-04-02T07:50:46.755225Z"
    }
   },
   "id": "e9f3c57a5e12b44a",
   "execution_count": 27
  },
  {
   "cell_type": "code",
   "outputs": [
    {
     "name": "stdout",
     "output_type": "stream",
     "text": [
      "[問卦] 診所護士算是錢多事少離家近嗎?\n",
      "Re: [新聞] 只有廚師手有米酵菌酸！高大成：他一定知\n",
      "Re: [問卦] 政府真的窮到只能砍公務員待遇嗎？\n",
      "Re: [問卦] 在台積電工作的壓力 來自哪？\n",
      "Re: [問卦] 類固醇鼻噴劑也太神了吧==\n",
      "[問卦] 吳哲源代表作是啥\n",
      "[問卦] 遠端上班要買一台咖啡機在家嗎\n",
      "[問卦] 吳卓林坐你大腿上你OK嗎？\n",
      "[問卦] 灼眼的夏娜坐你大腿可以嗎？\n",
      "[問卦] 現在拿你的手去檢驗會驗到什麼東西？？\n",
      "[問卦] 認真文 原來台灣經濟都被老人控制\n",
      "[問卦] 其實你我都吃過一點毒素了吧?\n",
      "[問卦] 佐佐木明希坐你大腿OK嗎\n",
      "Re: [問卦] 在台積電工作的壓力 來自哪？\n",
      "[問卦] 芙莉蓮坐你大腿你可以嗎?\n",
      "[問卦] 為什麼最近八卦版對中國的風向變得那麼溫\n",
      "Re: [新聞] 吳卓源錯愕發聲！「被朱先生告知他本人已\n",
      "[新聞] 米酵菌酸元凶有它？食材新舊混放廚房蟑螂\n",
      "[公告] 八卦板板規(2023.11.11)\n",
      "Fw: [聯署] 用定期健檢防止安置兒童持續受虐\n",
      "[公告]～（＠ｏ＠）～三月置底閒聊區\n"
     ]
    }
   ],
   "source": [
    "for article in soup.find_all('div', class_='title'):\n",
    "  print(article.text.strip())"
   ],
   "metadata": {
    "collapsed": false,
    "ExecuteTime": {
     "end_time": "2024-04-02T07:50:47.881790Z",
     "start_time": "2024-04-02T07:50:47.869610Z"
    }
   },
   "id": "5b5fa0e87f5aec43",
   "execution_count": 28
  },
  {
   "cell_type": "markdown",
   "source": [
    "### 階段 1: 單純只抓某一頁的全部文章"
   ],
   "metadata": {
    "collapsed": false
   },
   "id": "17a108345510a32"
  },
  {
   "cell_type": "code",
   "outputs": [],
   "source": [
    "def fetch_page(url):\n",
    "  response = requests.get(url, cookies={'over18': '1'})  # 繞過年齡限制\n",
    "  if response.status_code == 200:\n",
    "    soup = BeautifulSoup(response.text, 'html.parser')\n",
    "    for article in soup.find_all('div', class_='title'):\n",
    "      print(article.text.strip())"
   ],
   "metadata": {
    "collapsed": false,
    "ExecuteTime": {
     "end_time": "2024-04-02T07:50:52.887172Z",
     "start_time": "2024-04-02T07:50:52.878505Z"
    }
   },
   "id": "142df55f8b978edd",
   "execution_count": 29
  },
  {
   "cell_type": "code",
   "outputs": [
    {
     "name": "stdout",
     "output_type": "stream",
     "text": [
      "[問卦] 診所護士算是錢多事少離家近嗎?\n",
      "Re: [新聞] 只有廚師手有米酵菌酸！高大成：他一定知\n",
      "Re: [問卦] 政府真的窮到只能砍公務員待遇嗎？\n",
      "Re: [問卦] 在台積電工作的壓力 來自哪？\n",
      "Re: [問卦] 類固醇鼻噴劑也太神了吧==\n",
      "[問卦] 吳哲源代表作是啥\n",
      "[問卦] 遠端上班要買一台咖啡機在家嗎\n",
      "[問卦] 吳卓林坐你大腿上你OK嗎？\n",
      "[問卦] 灼眼的夏娜坐你大腿可以嗎？\n",
      "[問卦] 現在拿你的手去檢驗會驗到什麼東西？？\n",
      "[問卦] 認真文 原來台灣經濟都被老人控制\n",
      "[問卦] 其實你我都吃過一點毒素了吧?\n",
      "[問卦] 佐佐木明希坐你大腿OK嗎\n",
      "Re: [問卦] 在台積電工作的壓力 來自哪？\n",
      "[問卦] 芙莉蓮坐你大腿你可以嗎?\n",
      "[問卦] 為什麼最近八卦版對中國的風向變得那麼溫\n",
      "Re: [新聞] 吳卓源錯愕發聲！「被朱先生告知他本人已\n",
      "[新聞] 米酵菌酸元凶有它？食材新舊混放廚房蟑螂\n",
      "[公告] 八卦板板規(2023.11.11)\n",
      "Fw: [聯署] 用定期健檢防止安置兒童持續受虐\n",
      "[公告]～（＠ｏ＠）～三月置底閒聊區\n"
     ]
    }
   ],
   "source": [
    "url = 'https://www.ptt.cc/bbs/Gossiping/index.html'  # PTT 八卦版的一頁\n",
    "fetch_page(url)"
   ],
   "metadata": {
    "collapsed": false,
    "ExecuteTime": {
     "end_time": "2024-04-02T07:51:01.192140Z",
     "start_time": "2024-04-02T07:50:54.256990Z"
    }
   },
   "id": "ce78d924798ee4f2",
   "execution_count": 30
  },
  {
   "cell_type": "markdown",
   "source": [
    "### 階段 2: 可以抓換頁的文章，指定要抓第幾頁到第幾頁"
   ],
   "metadata": {
    "collapsed": false
   },
   "id": "8f78dd0d1f130404"
  },
  {
   "cell_type": "code",
   "outputs": [],
   "source": [
    "def fetch_pages(start_page, end_page):\n",
    "  BASE_URL = 'https://www.ptt.cc'\n",
    "  current_page = f'{BASE_URL}/bbs/Gossiping/index{start_page}.html'\n",
    "\n",
    "  for _ in range(start_page, end_page + 1):\n",
    "    response = requests.get(current_page, cookies={'over18': '1'})\n",
    "    if response.status_code == 200:\n",
    "      soup = BeautifulSoup(response.text, 'html.parser')\n",
    "      for article in soup.find_all('div', class_='title'):\n",
    "        print(article.text.strip())\n",
    "\n",
    "      # 尋找上一頁的連結，並確保它存在\n",
    "      prev_link = soup.find('a', string='‹ 上頁')\n",
    "      if prev_link and 'href' in prev_link.attrs:\n",
    "        current_page = BASE_URL + prev_link['href']\n",
    "      else:\n",
    "        print(\"無法找到上一頁的連結，或已達起始頁面。\")\n",
    "        break  # 如果沒有上一頁，或找不到連結，結束迴圈\n",
    "    else:\n",
    "      print(\"無法訪問頁面，請檢查連結或網絡狀態。\")\n",
    "      break"
   ],
   "metadata": {
    "collapsed": false,
    "ExecuteTime": {
     "end_time": "2024-04-02T07:51:02.752945Z",
     "start_time": "2024-04-02T07:51:02.743225Z"
    }
   },
   "id": "39e70433af18420",
   "execution_count": 31
  },
  {
   "cell_type": "code",
   "outputs": [
    {
     "name": "stdout",
     "output_type": "stream",
     "text": [
      "第一耶！\n",
      "Re: (問題)華航空難留言\n",
      "Re: 有沒有明天會更好的八卦\n",
      "Re: 請問還有濁水溪公設的八卦嗎\n",
      "Re: (問題)華航空難留言\n",
      "[八卦]\n",
      "Re: [問題]職棒似乎又出現問題了...\n",
      "Re: [政商] 請問桌伯元的八卦?\n",
      "Re: [新聞] 張震月的八卦有嗎？\n",
      "Re: [政商] 請問桌伯元的八卦?\n",
      "Re: [政商] 請問桌伯元的八卦?\n",
      "Re: [名人] 有人記得高雄數學補教老師魚課斌嗎？\n",
      "[藝人] 釁悅糰的阿釁\n",
      "Re: [政商] 有羅文傢的八卦?\n",
      "Re: 有沒有米其淋的美食還是什麼評鑑八卦\n",
      "Re: 有沒有米其淋的美食還是什麼評鑑八卦\n",
      "Re: [問題]職棒似乎又出現問題了...\n",
      "Re: 誰有張憲義的八卦??\n",
      "Re: [藝人] 小紅恩\n",
      "Re: [政商] 有沒有前任管媒體局長林佳隆的八卦\n",
      "無法找到上一頁的連結，或已達起始頁面。\n"
     ]
    }
   ],
   "source": [
    "# 假設我們想從第1頁抓到10頁\n",
    "fetch_pages(1, 10)"
   ],
   "metadata": {
    "collapsed": false,
    "ExecuteTime": {
     "end_time": "2024-04-02T07:51:06.410645Z",
     "start_time": "2024-04-02T07:51:04.695435Z"
    }
   },
   "id": "773d4860df2cf321",
   "execution_count": 32
  },
  {
   "cell_type": "markdown",
   "source": [
    "### 階段 3: 將可以換頁的文章寫成 class"
   ],
   "metadata": {
    "collapsed": false
   },
   "id": "f7cf842a718b97ab"
  },
  {
   "cell_type": "code",
   "outputs": [],
   "source": [
    "class PTTGossipCrawler:\n",
    "  def __init__(self):\n",
    "    self.BASE_URL = 'https://www.ptt.cc'\n",
    "    self.session = requests.Session()\n",
    "    self.session.cookies.update({'over18': '1'})  # 自動處理年齡限制\n",
    "    self.data = []  # 用來儲存文章資訊\n",
    "\n",
    "  def fetch_article_content(self, url):\n",
    "    response = self.session.get(url)\n",
    "    if response.status_code != 200:\n",
    "      print(f\"無法訪問文章頁面 {url}\")\n",
    "      return None\n",
    "\n",
    "    soup = BeautifulSoup(response.text, 'html.parser')\n",
    "    try:\n",
    "      # 抓取文章資訊\n",
    "      meta_values = soup.find_all('span', class_='article-meta-value')\n",
    "      author = meta_values[0].text\n",
    "      title = meta_values[2].text\n",
    "      date = meta_values[3].text\n",
    "      content = soup.find(id='main-content').text\n",
    "      # 這裡簡化內文提取，實際上可能需要更複雜的處理來去除非內文部分\n",
    "      return {'title': title, 'author': author, 'date': date, 'content': content}\n",
    "    except Exception as e:\n",
    "      print(f\"解析文章頁面時出錯：{url}, 錯誤：{e}\")\n",
    "      return None\n",
    "\n",
    "  def fetch_pages(self, start_page, end_page):\n",
    "    current_page = f'{self.BASE_URL}/bbs/Gossiping/index{start_page}.html'\n",
    "\n",
    "    for _ in range(start_page, end_page + 1):\n",
    "      response = self.session.get(current_page)\n",
    "      if response.status_code == 200:\n",
    "        soup = BeautifulSoup(response.text, 'html.parser')\n",
    "        article_links = soup.find_all('div', class_='title')\n",
    "        for article in article_links:\n",
    "          a_tag = article.find('a')\n",
    "          if a_tag:\n",
    "            article_url = self.BASE_URL + a_tag['href']\n",
    "            article_data = self.fetch_article_content(article_url)\n",
    "            if article_data:\n",
    "              self.data.append(article_data)\n",
    "\n",
    "        prev_link = soup.find('a', string='‹ 上頁')\n",
    "        if prev_link and 'href' in prev_link.attrs:\n",
    "          current_page = self.BASE_URL + prev_link['href']\n",
    "        else:\n",
    "            break\n",
    "      else:\n",
    "          break\n",
    "\n",
    "  def to_dataframe(self):\n",
    "    return pd.DataFrame(self.data)"
   ],
   "metadata": {
    "collapsed": false,
    "ExecuteTime": {
     "end_time": "2024-04-02T07:51:08.392176Z",
     "start_time": "2024-04-02T07:51:08.377733Z"
    }
   },
   "id": "2841321ff2e23e2f",
   "execution_count": 33
  },
  {
   "cell_type": "code",
   "outputs": [],
   "source": [
    "crawler = PTTGossipCrawler()\n",
    "crawler.fetch_pages(1, 10)  # 假定的頁面範圍\n",
    "df = crawler.to_dataframe()"
   ],
   "metadata": {
    "collapsed": false,
    "ExecuteTime": {
     "end_time": "2024-04-02T07:51:32.619862Z",
     "start_time": "2024-04-02T07:51:09.826287Z"
    }
   },
   "id": "2b8c99aa5882bc63",
   "execution_count": 34
  },
  {
   "cell_type": "code",
   "outputs": [
    {
     "data": {
      "text/plain": "'作者gogoegg (--)看板Gossiping標題第一耶！時間Mon Jun 20 07:11:31 2005\\n\\n    1   Gossiping    綜合 ◎記者，你的名字是抄襲。            HOTlinkinpork/to\\n    2 ˇHate         心情 ◎幹!!期末考要加油啊                HOTloverlover/ci\\n    3 ˇFORMULA1     賽車 ◎Sad GRAND PRIX                    HOTMSCHUMACHER/S\\n    4 ˇsex          男女 ◎★原來現在政府鼓勵中出★          HOTtoshizou/badb\\n    5 ˇBeauty       聊天 ◎★Beauty板禮貌運動！★            HOTno1great/high\\n    6 ˇCMWang       *MLB ◎就這樣~~小熊被老虎吃了            HOTNYYAndy/geniu\\n    7 ˇWarCraft     即時 ●★那你剛剛為什麼不買purge刀★     96 Trueapril/sho\\n    8 ˇjoke         娛樂 ◎今天唯一的高潮                    77 opengoodbook/\\n    9 ˇStupidClown  個人 ◎\"我二度灼傷\" \"..攝氏二度嗎?\"      56 antipower/big\\n   10 ˇshare        娛樂 ●雪兒～快來吃歐啪麵包吧            54 stkeiko/KaBik\\n\\n雖然是冷門時間\\n\\n不過第一就是第一\\n\\n--\\n\\n不行po的話快回信給我 我自d\\n\\n\\n\\n--\\n※ 發信站: 批踢踢實業坊(ptt.cc) \\n◆ From: 140.113.191.11\\n→ bullets:被M了，恭喜!!  61.228.189.12 06/20\\n推 zebec:哇～這樣就可以拿一千，真好  61.64.138.166 06/20\\n噓 survivalteru:218.168.205.128 09/21 08:15\\n噓 chivalry10:沒原因 03/12 13:50\\n噓 usera: 12/27 21:30\\n噓 Pietro:朝聖噓 06/01 04:33\\n推 theeht:第一耶 03/25 14:19\\n推 kkmoon5566:2015/7/21 朝聖推 04/02 18:50\\n推 ma4wanderer:2019/4/5朝聖 04/05 23:32\\n→ galic:2031/4/7 朝聖 04/07 17:04\\n→ PPmYeah:                                               2031/ 04/07 20:19\\n噓 suckabian:臺灣的黑金是從誰開始的，但我想顏色對了，吱吱就無視了 04/12 08:17\\n→ odd168:http://www.youtube.com/watch?v=ACTGGln3SG0 配音樂效果好 04/16 22:47\\n→ theskyofblue:2020/4/26 朝聖 04/26 20:54\\n→ RSoul:2019/05/02 05/02 20:23\\n噓 kevinfu92:你看看你被M了吧還想自D 等著被劣吧 05/03 04:36\\n推 rainbow321:你也懂專業？沒待過基層的人永遠不會懂 05/06 15:46\\n→ ooto:其實應該把彈孔照片給菲律賓的反對黨，讓他們狗咬狗 05/12 14:23\\n推 brother172:就時間到回家，有什麼好不知所措 05/16 09:49\\n→ pps80432:+1 05/17 00:16\\n→ pps80432:+1 05/17 00:16\\n→ pps80432:+1 05/17 00:16\\n噓 ricky12345j:2030/5/22 05/22 17:19\\n→ iamgyfan:樓上全部未來人 05/23 12:20\\n推 ltameion:2013/6/3 朝聖推                       (我真的是未來人 06/03 00:51\\n→ shrekchang:五億探長雷洛 06/04 11:13\\n→ Top5566:家畜的安寧 06/08 16:05\\n→ Top5566:家畜的安寧 06/08 16:05\\n→ Top5566:家畜的安寧 06/08 16:05\\n推 qq771221:想想以後要怎麼過魯蛇的生活 06/10 13:26\\n→ seedk869:滷蛇的安寧 06/15 16:17\\n推 eskimoX:426文中以書畫來論 但像器物類瓷器中 汝窯 鬥彩 等精品便 06/27 16:43\\n噓 SWQclan: 07/07 15:03\\n推 zzzz8931:2013/7/12 朝聖 07/12 23:21\\n推 suge:當然更差，不過幹嘛跟爛的比 07/14 19:50\\n噓 AAAC:你知道得太多了 07/21 06:30\\n噓 qq2583692:現在每天都馬第一 07/27 13:07\\n推 mobydick1029:如果沒有輿論壓力  這些被告會怕嗎  =  =’’ 07/29 12:21\\n→ iamwings:怎麼感覺這篇是引戰文？ 07/31 12:55\\n推 Xhocer:推老文 07/31 16:36\\n推 apa9394:真的耶 你好厲害~ 08/05 14:48\\n噓 takmingnoob:zz 08/18 23:51\\n→ usaku:難怪689就是689  奴性重 08/25 07:22\\n推 d8888872002:我170,男友都不讓我穿高跟鞋 08/27 01:47\\n→ ss70012:上面的奈奈被改圖，真正照片沒這麼貧 08/28 01:09\\n→ invincibleb3:出手會有初速度吧，你怎麼省略了 08/29 21:57\\n推 Zeroro:推小二 08/30 17:42\\n噓 kipi91718:ㄈ粉又要自慰說SONY卡卡的了 09/01 12:24\\n推 Vere:onepagebook 09/01 14:36\\n噓 kedkai:早餐也有加底的嗎? 09/01 15:27\\n推 sagem29:義美的溶超快，一邊吃一邊滴 09/02 17:17\\n推 proudhao:chaosheng 09/05 12:11\\n推 nitvx:完了，要告你污告 09/13 10:22\\n推 ChineseTeam:素肚也是個黑洞，防止魯蛇性侵女生，阿婆，狗，牛，馬 09/25 17:10\\n推 liaon98:以前第一就是新聞了XDDDD                          2013/ 10/05 03:34\\n噓 d91544002:哦 10/15 12:27\\n→ Top5566:已哭 10/22 18:43\\n推 Neet:好多推錯的 11/04 02:12\\n噓 po3d:怎麼了？ 11/14 22:35\\n噓 GaryMatthews:幹你老師 外交休克 11/15 14:44\\n→ buzz0116:.......... 11/17 11:41\\n推 o10212002:2013/11/20推 11/20 09:18\\n→ plqazhhhhh:┌───────────────┐ 11/24 04:59\\n推 plqazhhhhh:z───────────────┐ 11/24 05:20\\n→ any0106:安 11/29 19:44\\n推 justlovegirl:2013/12/1推 12/01 03:32\\n噓 Pony5566:幹為什麼要!青蛙人? 12/01 09:32\\n噓 andy31313:2013123 12/03 20:57\\n噓 boogieman:馬的把羅智強安排從總統府轉進TVBullShit原來就是要這 12/03 21:25\\n噓 NickSwisher:===============還我建中青蛙人===================== 12/09 23:56\\n→ ChinHuiTsao:幹 鎖屁啊 12/10 00:10\\n噓 Metallicat:鎖什麼 12/10 00:13\\n噓 ArtofLife:我是青蛙人 呱呱呱呱呱 12/10 00:16\\n噓 azt911231:鎖屁阿 這樣 NickSwisher怎麼請雞排? 12/10 01:29\\n→ azt911231:=================還我建中青蛙人===================== 12/10 01:29\\n噓 elephanting:建中蛙人哩? 12/10 20:19\\n噓 Neet:幹 還我青蛙人 青蛙人快出來檢舉版主阿 12/11 21:14\\n噓 jimmily:朝聖噓 12/12 14:47\\n噓 TaTa5566:我是帥哥 12/12 15:50\\n推 TKU5566:幹 還我打人的那篇 12/12 20:24\\n噓 u943143:幹 建中青蛙人連載還沒完阿 為什麼鎖文了? 12/13 12:25\\n噓 zxxl:所闢文阿 12/13 13:30\\n噓 burtonmomo:還我青蛙人 12/14 13:21\\n推 god060119:啦啦啦啦啦啦啦啦啦 12/14 23:17\\n噓 wcontainer:鎖三小 12/15 05:21\\n→ wcontainer:解鎖了 大家進攻囉!!!!!!!!!!!!!!!!!!!!!!!!!!!!!!!!!! 12/15 05:54\\n噓 u943143:幹 又鎖啦 12/15 12:00\\n噓 Neet:鎖屁喔 12/15 21:37\\n噓 siathy: 12/17 23:08\\n推 qscxz: \\u3000  嗚咕～  \\u3000 * \\u3000\\u3000∵ ∕￣￣￣￣￣￣￣￣﹨ 12/18 00:42\\n→ wcontainer:嗚嗚 我快沒救了 12/19 03:04\\n→ wcontainer:心煩意亂中  完全讀不下書 12/19 03:05\\n→ wcontainer:人與人之間的關係好難QQAQQQQQQQQQQQQQQQQQQQQQQQQQQQQ 12/19 03:06\\n噓 ppu12372:第一篇鎖了,只好噓這篇了 12/20 03:48\\n噓 johnny9667:(已被hateOnas刪除) <kewt>無八卦 12/21 00:44\\n噓 lf9nettw:第一篇是在鎖什麼 12/22 17:51\\n噓 wcontainer:樓上你出桶了喔 ㄏㄏ 12/22 20:02\\n噓 u943143:麻煩樓樓上在這篇繼續連載 12/22 20:53\\n噓 lf9nettw:不行 那我會被桶一個半月 12/23 04:11\\n噓 Neet:就是你 害青蛙人被鎖文 12/23 15:55\\n噓 lf9nettw:水啦 12/23 16:24\\n噓 NickSwisher:爽啦 不用請雞排了 12/24 21:55\\n噓 lf9nettw:不准 12/24 22:11\\n→ lf9nettw:獨自一人將這篇噓爆者我請雞排 請自行至公館領取 12/24 22:12\\n噓 no5566:0.0 原來大家都在這                                2013/ 12/24 22:15\\n→ wcontainer:對押 我在這 12/24 23:18\\n→ wcontainer:你也在這  大家都在這 12/24 23:19\\n→ wcontainer:多好 12/24 23:19\\n→ NickSwisher:689最愛這味 12/24 23:28\\n推 ray10133:2013耶誕節~ 12/25 02:43\\n噓 angel0328:鎖什麼啦 八卦版第一篇也敢鎖 12/25 03:05\\n噓 u943143:這樣要怎麼留歷史本文啦 開放第一篇解鎖好嗎? 12/25 12:45\\n噓 lf9nettw:偉哉版主 12/25 21:51\\n噓 NickSwisher:誰能把這篇噓到ｘｘ我就送上我所有的ｐ幣 12/25 22:31\\n→ lf9nettw:又來了 12/26 02:08\\n→ lf9nettw:別再害人被捅 12/26 02:08\\n推 wcontainer:哈哈 笑死 12/26 02:21\\n噓 u943143:樓樓上 請問水桶你的公告文在哪阿 12/26 19:22\\n噓 lf9nettw:#1If3pX_2 (Gossiping) 這篇 12/8號的水桶 12/26 20:04\\n推 johnny9667:................................................... 12/27 10:42\\n噓 ArtofLife:來 12/27 14:02\\n噓 Neet: 12/29 03:06\\n噓 lf9nettw:這樣也一篇 12/29 03:09\\n噓 ridecule:那樣也一篇 12/29 03:24\\n噓 lf9nettw:怎樣都一篇 12/29 03:34\\n噓 NickSwisher:不錯!有XX的氣勢喔 12/29 07:48\\n噓 Neet:躺著噓 12/29 15:41\\n推 bay1247:廚房流理台上的海綿寶寶 12/29 15:57\\n→ lf9nettw:這篇比較容易 青蛙人是從爆被噓到打平 12/29 20:22\\n噓 a98765s:.. 12/29 23:38\\n噓 a98765s:.. 12/29 23:39\\n噓 a98765s:.. 12/29 23:39\\n噓 a98765s:.. 12/29 23:39\\n推 Diablue: 12/30 00:06\\n噓 lf9nettw:不准推 12/30 01:10\\n→ lf9nettw:又有人檢舉我了 是怎樣 12/30 01:12\\n噓 a98765s:.. 12/30 01:52\\n噓 a98765s:.. 12/30 01:54\\n噓 a98765s:.. 12/30 01:54\\n噓 a98765s:.. 12/30 01:54\\n噓 a98765s:.. 12/30 01:55\\n噓 a98765s:.. 12/30 01:55\\n噓 a98765s:.. 12/30 01:55\\n噓 a98765s:.. 12/30 01:56\\n→ lf9nettw:樓上你這樣會被桶喔 我就這樣被捅過 這裡檢舉魔人很多 12/30 02:05\\n→ lf9nettw:你去看看上面那篇 我連噓了一百次就被桶了 12/30 02:06\\n→ lf9nettw:然後剛剛我去檢舉版看 我又被檢舉了 很無言 12/30 02:06\\n→ lf9nettw:檢舉是有錢賺喔？還是吃飽太閒？ 12/30 02:07\\n噓 lf9nettw:不然有個方法就是你在被桶前噓到XX 這樣就可以吃個雞排過 12/30 02:09\\n→ lf9nettw:個年再回來八卦版噓文 不失為好選擇 還是你在期末自殺 12/30 02:09\\n→ a98765s:咦 我剛去檢舉\\\\板搜尋標題  打你的帳號 板主都說未達標準 12/30 02:10\\n→ a98765s:阿???   你被桶多久啊? 12/30 02:10\\n→ a98765s:可是上面的推文  說要建中青蛙人噓到XX才有雞排耶~~~ 12/30 02:11\\n噓 lf9nettw:你去看12/8號的水桶文 我被捅兩個禮拜 12/30 13:45\\n→ lf9nettw:#1Im8QZ60 (GossipPicket) 你看你被正義磨人檢舉了 12/30 13:46\\n→ lf9nettw:不知會不會被判 不過我認為這嚴重戕害言論自由 12/30 13:46\\n噓 Neet:噓個歷史本文臭了嗎 12/30 17:10\\n→ ridecule:XDDDDDDDDDDDDDDDDDDDDDDDDDDDDDDDDDDDDDDDDDDDDDDDDDDDD 12/30 17:43\\n→ lf9nettw:我再說一次 這篇誰能噓到XX者 姐妹花雞排一份 自行領取 12/30 17:46\\n→ lf9nettw:只有一份ㄛ 看誰搶先 12/30 17:47\\n噓 johnny9667:幹 12/30 21:44\\n噓 lf9nettw:X4了 加油加油 12/30 23:27\\n噓 AAAC:lf9nettw大大台中一份 3Q 12/31 01:01\\n噓 AAAC:...... 12/31 01:01\\n噓 lf9nettw:不行啦我人在臺北 只能請公館捷運站出來往舟山路走那家 12/31 01:25\\n噓 AAAC:QQ 12/31 01:30\\n噓 Neet:你可以把雞排錢寄過來 12/31 01:40\\n→ AAAC:$$$$$$ 12/31 01:48\\n噓 lf9nettw:自己來拿啦 12/31 01:50\\n→ lf9nettw:AAAC大 我剛剛去檢舉版看 你被檢舉了... 我也逃不了 12/31 01:54\\n噓 AAAC:要雞排錯了嗎= =\\' 12/31 02:07\\n→ AAAC:跨年夜我還要發廢文，希望板主別那麼快桶0.0 12/31 02:09\\n→ Neet:靠 太瞎了 這樣也能檢舉 我要改用箭頭惹 12/31 02:14\\n→ ghtwht:檢舉王來了           土鬼  β匋  口阿\\u3000！\\u3000！！ 12/31 19:03\\n→ AAAC:檢舉王新年快樂 12/31 19:45\\n噓 u943143:還我建中青蛙人 還我八卦歷史本文 12/31 22:15\\n→ willberwei:                                       今年是 2017/ 01/01 04:40\\n噓 lf9nettw: 騙鬼 明明是2012 01/01 09:30\\n噓 u943143:                                                 2014/ 01/01 11:57\\n噓 snsdakb48:                                               2018/ 01/01 12:56\\n→ vvvvSSSS:剛剛地球毀滅了                                  2038/ 01/01 18:22\\n→ a98765s:外星人來攻佔地球了                                3044 01/01 19:06\\n噓 lf9nettw:                                                9999/ 01/01 22:32\\n噓 johnruby:2014 為何第一篇被鎖了 怒噓 01/02 11:31\\n噓 lf9nettw:我害的 01/02 12:45\\n噓 Neet:不是說要桶 怎麼還在這 01/02 13:05\\n噓 wcontainer:▁▂▃▆▇█▏▎▍▌▋▊▉▓ⅠⅡⅢⅣⅤⅥⅦ○⊙★ 01/02 15:54\\n噓 wcontainer:( ＿□＿)\\\\喔~~喔喔~~喔喔~~喔喔~爪爪 01/02 16:02\\n噓 wcontainer:( ￣□￣)/喔~~喔喔~~喔喔~~喔喔~爪爪 01/02 16:02\\n噓 a98765s:( ￣□￣)/喔~~喔喔~~喔喔~~喔喔~爪爪 01/02 16:10\\n噓 lf9nettw:哀 01/02 19:31\\n噓 a98765s:wcontainer也被檢舉了\\u3000真無言\\u3000歷史本文也要檢舉 01/02 21:41\\n噓 lf9nettw:真的很夭壽 01/02 21:48\\n噓 azt911231:鎖三小 01/03 01:51\\n噓 u943143:還我建中青蛙文 01/03 12:26\\n噓 a98765s:壓力大\\u3000來這邊發洩\\u3000爽\\u3000我要噓到XX 01/03 17:14\\n噓 lf9nettw:小心這邊有檢舉王 真的很煩 01/03 17:58\\n噓 vaio5566:肚子好痛 01/04 01:29\\n噓 a98765s:眼睛好酸 01/04 02:04\\n→ Neet:鼻子好癢 01/04 03:05\\n噓 u943143:見證歷史只好到這篇了 01/04 08:29\\n噓 a98765s:沒錯\\u3000就算鎖了第一篇\\u3000下面還有千千萬萬篇可以噓 01/04 16:31\\n→ a98765s:噓噓樂\\u3000站著噓\\u3000躺著噓\\u3000坐著噓\\u3000修幹的時候也來噓 01/04 16:31\\n噓 lf9nettw:樓上說的好 01/04 20:27\\n噓 wcontainer:樓上說的不好  有夠不好!!! 01/05 00:14\\n噓 wcontainer:好難過  昨天過了  但她還是沒跟我說生日快樂 01/05 00:21\\n噓 wcontainer:QQQQQQQQQQQQQQQQQQQAQQQQQQQQQQQQQQQQQQQQQQQQQQQQQQQ 01/05 00:23\\n→ a98765s:拍拍 01/05 00:43\\n噓 u943143:往XX的路上邁進 01/05 10:30\\n→ lf9nettw:wcontain別傷心 你還有我們 01/05 12:43\\n→ wcontainer:哈哈  謝謝你們>_< 01/05 12:48\\n→ lf9nettw:剛去檢舉版看 版主沒處理他還特地回文叫版主處理 01/05 12:48\\n→ lf9nettw:檢舉是有錢賺是不是 01/05 12:48\\n→ lf9nettw:wcon你的情況應該還好 我的她 已經被把走了 01/05 12:48\\n噓 a98765s:巴西之亂\\u3000\\u3000顆顆顆 01/05 18:53\\n噓 a98765s:超煩der  哥怎麼作息不正常呢 01/05 18:59\\n推 TSbb:XDDDDDD 01/06 00:04\\n噓 a98765s:不能推  要噓 01/06 00:26\\n噓 a98765s:再來一次 01/06 00:33\\n噓 lf9nettw:從外太空噓到行天宮 01/06 00:45\\n噓 a98765s:好晚了 01/06 01:47\\n→ wcontainer:天色晚了 01/06 02:03\\n→ wcontainer:說愛我 01/06 02:03\\n→ wcontainer:別說對不起 01/06 02:03\\n噓 lf9nettw:期末崩潰... 01/06 02:47\\n→ Neet:幹 我也快了 01/06 02:48\\n噓 a98765s:喔耶  X8了耶   幹 我早上七點五十要起床去掃地 01/06 03:18\\n→ a98765s:一定很冷 天啊 最後一個禮拜了  堅持下去 01/06 03:18\\n噓 RuRuXe:耶 01/06 03:35\\n噓 a98765s:噓完這一次  我就要去尿尿睡了  好晚 01/06 03:36\\n噓 a98765s:耶   吃早餐了  噓 01/06 10:01\\n噓 lf9nettw:長得像我uncle 遠看是一朵花 01/06 12:09\\n噓 u943143:XX不遠了 01/06 12:19\\n噓 a98765s:飲料喝到最後都不知道喝什麼 01/06 14:53\\n噓 a98765s:五十嵐、魔手、清玉、都喝膩了\\u3000大苑子又不是我愛的 01/06 14:56\\n噓 a98765s:真苦惱啊~~~~~~ 01/06 14:57\\n噓 a98765s:可惡\\u3000鄰居在重低音\\u3000我是不是也該尬廣跟上去呢 01/06 15:03\\n噓 a98765s:kerkerker  哥期末考\\u3000考通識\\u3000可是讀不下去啊 01/06 15:04\\n噓 a98765s:媽的\\u3000工科宅宅為什麼要讀這些沒用的東西\\u3000我們將來可是要 01/06 15:04\\n噓 a98765s:去台G電\\u3000做輪班星人的欸 01/06 15:05\\n噓 a98765s:這樣搞我們這些宅宅\\u3000叫我們情何以堪 01/06 15:05\\n噓 a98765s:欸\\u3000我都噓這麼多次了\\u3000還不XX捏\\u3000\\u3000很累欸 01/06 15:07\\n噓 a98765s:哥累了\\u3000這一次完\\u3000我要去讀書了 01/06 15:08\\n噓 lf9nettw:ㄟ 你這樣真的會被捅啦= = 01/06 16:27\\n→ lf9nettw:我法律肥宅還不是得去修理工領域的通識 01/06 16:28\\n噓 lf9nettw:哎 明天還有憲法 怒噓囉 01/06 16:42\\n→ lf9nettw:居然XX了= = 沒想到是我自己達成的 01/06 16:42\\n推 bayant:捐發票跟大冒險?? 01/06 18:02\\n噓 lf9nettw:不准 01/06 18:31\\n※hateOnas 於 01/06/2014 18:38:19 將推薦值歸零\\n推 ArtofLife:哈哈哈哈哈 01/06 19:05\\n→ wcontainer:殺小!!還有歸零的喔(／‵Д′)／~ ╧╧ 01/06 19:16\\n→ wcontainer:板主的權力真是大到無法無天 01/06 19:17\\n噓 u943143:既然可以歸零 為什麼不開放一篇 01/06 20:31\\n噓 coon182:連第一篇也惡搞，你是在當三小板主啦幹 01/06 21:15\\n噓 Neet:幹 檢舉王偷開聖光術 你follow這篇很久了齁 01/06 21:45\\n→ Neet:a98跟lf9被桶了 01/06 21:47\\n噓 u943143:讓我在此緬懷lf9跟a98 01/07 12:28\\n噓 wcontainer:阿門 01/07 15:02\\n噓 johnny9667:.............. 01/07 19:36\\n推 aaaaasuede:我是尊 01/07 21:49\\n→ wcontainer:剛剛超級火大!!!!!!!!!!!!!害我現在都沒心情念書!!!!!! 01/08 00:32\\n噓 u943143:歷史本文: #1Ip5plOX  150人份超大水桶 01/08 12:29\\n推 KenWang42:lf9被檢舉王盯上囉 01/08 16:50\\n噓 po11po11:林杯一次桶過7xx人啦 150算啥 01/09 02:29\\n推 hateOnas:對啊 你比較大 01/09 12:55\\n噓 u943143:沒辦法 新警察我只能見識到150人份的水桶 01/09 20:07\\n噓 coon182:幹你娘，還我閒聊文啦操你媽的 01/10 21:25\\n噓 u943143:還我建中青蛙人連載就好....我不會操你媽 謝謝 01/10 22:19\\n→ Neet:這板標很惡意欸 01/11 19:55\\n噓 Neet:沒電視看辛普森 01/11 23:18\\n推 StarTouching:朱立倫曆元年 01/12 01/12 06:25\\n噓 jackXDD:我耖 01/12 06:34\\n→ jackXDD:........ 01/12 06:35\\n推 hallcom:http://www.almostbuddhist.com/news/2013/0182.html 好文 01/12 10:39\\n噓 u943143:好慘...建中青蛙人消失了 01/12 11:30\\n噓 ppu12372:噓版主讓青蛙人消失,歷史耶 01/12 14:37\\n噓 notebookino:青蛙人呢QWQ 01/12 20:21\\n噓 wcontainer:備份#1IqR2z8L (Gossiping) 01/12 20:29\\n噓 mn228426:=====================還我建中青蛙人================== 01/12 21:39\\n→ Neet:備份沒用啊，下禮拜就被清了 轉戰這篇吧 01/13 00:55\\n噓 jaid:過份 01/13 01:14\\n噓 u943143:會不會哪天 建中青蛙人復出(5566那樣) 結果找不到歷史本文 01/13 20:00\\n噓 angel0328:幹 版皇權力越來越大就對了 01/14 13:14\\n噓 remprogress:青蛙人才是正宗第一篇 01/14 16:05\\n噓 diefish5566:什麼青蛙人正宗第一篇.. 更早的陳立呢 01/14 16:07\\n噓 johnny9667:...................... 01/14 17:58\\n噓 u943143:是不是有過連公子打人的文章.....不確定就是了 01/14 19:18\\n噓 MadeInChina:建中青蛙人呢?? 管他推文怎樣 那是歷史耶 01/15 00:29\\n※hateOnas 於 01/15/2014 17:06:26 將推薦值歸零\\n噓 angel0328:推薦值又歸零了 果真版皇 01/15 20:17\\n噓 angel0328:我一個人就再把它噓到X1 01/15 20:25\\n噓 u943143:又歸零 會不會哪天又刪文了.... 01/15 21:14\\n→ Neet:別衝動，連噓會被正義魔人檢舉 01/16 01:33\\n推 ppu12372:只好推了 01/16 14:21\\n噓 u943143:不 只好噓了 01/16 18:18\\n噓 remprogress:噓文+1 01/16 20:45\\n噓 remprogress:朝噓到X開頭邁進一步 01/17 00:04\\n推 jaid:Are you gay? 01/17 02:10\\n噓 u943143:No, and you? 01/17 12:25\\n推 ppu12372:樓樓上文法錯誤,應該是Are you a gay? 01/17 14:29\\n推 po11po11:青蛙人？ 01/17 18:56\\n→ jaid:靠 我怎麼會推到這篇 01/17 21:57\\n→ jaid:我知道文法 錯誤 那是某篇原PO說走在路上被洋人情侶問的 01/17 21:58\\n噓 Metallicat:本貓仙在此，眾鄉民還不速速跪下? 01/18 00:16\\n推 Metallicat:眾鄉民請平身，不必多禮 01/18 00:18\\n→ AAAC:樓上不要自high了 01/18 01:25\\n噓 u943143:真正的廢文不刪 下面還有一篇無名網址的... 01/18 13:16\\n推 iljapan61:建中蛙人呢 01/18 20:09\\n噓 u943143:被刪掉了 文章沒了 01/19 17:40\\n噓 SpecX:青蛙人咧??? 01/19 18:11\\n噓 jaid:被死魚解M然後消失了 01/19 23:41\\n→ jaid:啊說錯不是死魚 是檢舉王XD 01/19 23:41\\n噓 a00779928:幹 經典的建中青蛙人被刪 過份! 01/21 09:29\\n噓 u943143:羅文X那篇現在已經失連了不刪除 有歷史本文的青蛙人卻.... 01/21 12:22\\n噓 galiyo:越是歸零越要來噓！ 01/21 15:29\\n噓 edwarkingsir:龜苓膏~靠過期的~所以X1吧 01/21 16:53\\n噓 pptsodog:z 01/22 11:58\\n噓 u943143:X1了 版主會歸零嗎? 強力請求刪除真廢文 #12jfvDvr 01/22 12:42\\n噓 apple0660:青蛙人消失了 01/24 01:11\\n推 a159753:hi 01/24 01:37\\n噓 ricklakerfan:青蛙人咧 01/24 01:40\\n推 creampie5566:蛙蛙不建惹QAQ 01/24 16:09\\n→ wcontainer:青蛙人#1IqR2z8L (Gossiping) 01/25 00:08\\n噓 zx97009:本操在此 01/25 02:09\\n推 BruceLin:總統府今天被撞了 01/25 10:21\\n噓 u943143:重新建立新的歷史本文吧 01/25 11:07\\n推 lwt501cx:你說的可能是第三代，那麼會這樣其實很正常，他的爸媽祖 01/26 16:17\\n噓 sh021515:                                                2015/ 01/27 10:24\\n噓 ArtofLife:幹！青蛙人不見了，怒噓！ 01/27 14:51\\n推 hateOnas:                                                2014/ 01/28 11:32\\n噓 u943143:                                                 2014/ 01/28 12:20\\n噓 wcontainer:                                              2013/ 01/28 15:26\\n噓 superpcman:                                              2012/ 01/28 17:17\\n推 blackpork:                                               2014/ 01/29 01:41\\n噓 u943143:                                                 2014/ 01/29 07:37\\n→ bm061596:幹~~~連公子打人的文章比青蛙人更早勒 01/29 13:30\\n噓 timboy512: 01/29 15:26\\n噓 remprogress:2014/01/29 hateOnas還我青蛙人 01/29 16:26\\n噓 Downager:幹你媽的青蛙人呢 01/29 19:31\\n噓 u943143: 01/30 10:06\\n推 Metallicat:本貓仙爺除夕駕到!! 01/30 10:19\\n推 Metallicat:支持林逸欣莎拉~不要再酸了 01/30 10:42\\n推 jack19931993:呱 01/30 15:53\\n噓 Lemming:過年紅的喜氣 ^ _^ 01/30 20:19\\n→ hallcom:http://youtu.be/DVEx063S4rU 農曆年祝大家新年快樂！ 01/30 23:03\\n推 c172717:新年到 01/31 00:05\\n推 luckyBF:有沒有七的連結XD 01/31 00:31\\n噓 u943143: 01/31 10:25\\n推 reborn0301:                                      雪之液  2014/ 01/31 18:22\\n噓 u943143:今年已經過了十二分之一了 再過十一個月就跨年囉 02/01 15:02\\n→ Yoman5566:2021年2月2日朝聖 02/02 15:22\\n推 zirconium:靠邀... 02/02 17:57\\n噓 u943143:                                                 2014/ 02/02 22:03\\n噓 rubyli5050:20140203 00:09 朝聖 02/03 00:09\\n噓 darknight127:青娃人呢 02/03 16:48\\n→ darknight127:3014/13/35 潮剩 02/03 16:49\\n噓 asd2260123:                                              4016/ 02/03 20:40\\n噓 u943143:明天要開工了 年假就這樣過完了 02/03 22:01\\n噓 BaXeS:青蛙人呢 02/04 02:27\\n噓 TaTa5566:=.= 02/04 10:08\\n推 burtonmomo:還我青蛙人 02/05 10:05\\n噓 moopend0073:R:建中青蛙人呢 幹 02/05 11:43\\n噓 u943143: 02/05 22:57\\n噓 angel0328:什麼時候要再歸零推薦值 02/06 15:53\\n噓 s213092921:賴清德在台南都沒有65%了，花媽破六成？呵呵 02/07 12:11\\n噓 u943143: 02/07 20:57\\n推 kil1ua:2014 禿頭蛆食完糞又拉了一堆臭屎 02/08 10:58\\n噓 azt911231:[違規內容] 02/08 18:49\\n噓 u943143:<閒聊> 02/09 20:27\\n噓 angel0328:這根本[違規內容]的[違規內容]  板上都[違規內容] 02/09 23:51\\n噓 u943143: 02/11 12:29\\n噓 knight77:2014/02/12 朝聖 今天馬宗痛又再亂講話了 02/12 16:52\\n→ Metallicat:馬宗痛哪天不亂講 樓上再來留言好嗎     貓仙到此一遊 02/12 21:00\\n噓 u943143:今年忘了說 腥黏快樂 02/12 21:07\\n噓 Neet:元宵節快樂 02/14 21:18\\n噓 tornado5566:我想幹死郭書瑤 02/15 02:02\\n→ moopend0073:青蛙人咧 幹 02/15 14:06\\n噓 wcontainer:青蛙人#1IqR2z8L (Gossiping) 02/15 18:07\\n噓 u943143:請問PTT的磚版在哪.... 02/16 18:38\\n噓 TuteLary:青蛙人呢 02/17 01:06\\n噓 wl00725348:本來就不看好雞排妹 02/17 09:59\\n噓 u943143: 02/18 12:59\\n推 sdc4589:羅幼軒我愛妳 02/18 16:28\\n噓 wcontainer:關我屁事 02/18 20:52\\n噓 wcontainer:關我屁事 02/18 23:43\\n噓 wcontainer:關我屁事 02/18 23:51\\n噓 fish0713:建中青蛙人勒 02/19 02:33\\n噓 u943143: 02/19 18:15\\n噓 Neet:訟棍好多，噓一下置頂壓壓驚 02/20 00:24\\n噓 lf9nettw:出桶補噓 02/20 01:08\\n噓 lf9nettw:紅的喜氣 02/20 01:57\\n噓 u943143:恭喜出桶                                      還是給噓 02/20 12:41\\n噓 wcontainer:功洗 02/20 15:25\\n噓 wcontainer:zzz 02/20 16:55\\n噓 lf9nettw:再把推文數歸零啊 02/20 20:15\\n噓 u943143:歷史本文 八卦版三位版主被告                      2014/ 02/21 12:20\\n噓 a00779928:烏克蘭暴動 要分裂成兩個國家了 鬼島咧!!! 02/22 00:59\\n噓 lf9nettw:於是愛恨交錯 人消瘦 02/22 02:09\\n噓 tornado5566:                                    還我咭咭三比靈 02/22 09:13\\n噓 u943143:噓一下壓壓驚 嚇死我了 02/23 12:38\\n噓 wcontainer:我想退出了zzz 02/23 13:20\\n噓 lf9nettw:為什麼要退出啊??? 02/23 16:45\\n→ wcontainer:我本來想要退社  現在不那麼想要了ㄏㄏ 02/23 23:41\\n→ wcontainer:現在只是因為另一件事很不爽而已 zzz 02/24 00:12\\n→ wcontainer:我就是沒感覺啦  我就是不覺得諷刺啦  幹 02/24 00:17\\n噓 lf9nettw:喔喔 我以為你要推出噓的行列 02/24 02:17\\n→ lf9nettw:我記得你也是112的啊 什麼社啊@@ 02/24 02:17\\n→ hateOnas:.. 才x5 02/24 12:07\\n噓 u943143:難道版主想在最後才出手? 這可是我們努力超久的成果阿ˊˋ 02/24 12:18\\n推 theeht:ㄌ 02/24 16:00\\n推 WOWO5566:.. 02/24 19:16\\n噓 lf9nettw:嫌我們噓的不夠勤哦？ 02/24 20:43\\n→ hateOnas:開學了 喝喝 02/24 21:47\\n噓 u943143:噓個文還要想哏很累耶.... 02/24 22:18\\n→ abian5566:1。 02/24 23:08\\n噓 lf9nettw:沒有菸抽的日子，沒有菸抽的日子 02/25 09:52\\n噓 wcontainer:檢舉王 妳甚麼時候才要桶我？？？ 02/25 14:28\\n噓 u943143: 02/25 19:37\\n噓 wcontainer:我現在做甚麼事都感到空虛 02/25 23:36\\n→ wcontainer:不 是心虛 02/25 23:36\\n噓 u943143:我也想做些什麼 不過我身體現在很虛 提不起勁... 02/26 07:53\\n→ hateOnas:你做了甚麼違反板規的事? 02/26 20:13\\n噓 lf9nettw:?? 02/26 20:15\\n噓 wcontainer:不告訴你勒 ㄏㄏ 02/26 23:35\\n→ wcontainer:我應該沒什麼感覺才對 02/26 23:37\\n→ wcontainer:但我還是難過了 02/26 23:37\\n→ wcontainer:還是趕快去睡吧 免得越想越難過 02/26 23:54\\n→ wcontainer:我應該要沒什麼感覺才對 02/26 23:55\\n噓 lf9nettw:睡吧 我剛起床 02/27 00:34\\n噓 u943143:今天午餐怎麼到現在還沒來... 02/27 12:53\\n噓 lf9nettw:今天228 02/28 02:26\\n噓 wcontainer:明天229  後天210 02/28 10:49\\n推 scerpion:2021/03/15 朝聖推  雖然世界只剩一半了 02/28 14:30\\n噓 snsdakb48:2031/2/28 朝聖噓  又過了10年了 02/28 14:55\\n推 xyz4594:我是帥哥 02/28 15:41\\n噓 u943143:再撐一下 快下班了 02/28 16:54\\n噓 ppu12372:檢舉姬我愛你!!!!!!!!!!!!!!!!!!!!!!!!!!!!!!!!!!!!!!!!! 02/28 17:07\\n※hateOnas 於 02/28/2014 19:27:26 將推薦值歸零\\n→ wcontainer:哎呀呀 檢舉王洩漏年份了 XDD 02/28 23:39\\n噓 lf9nettw:又歸零 煩不煩啊 03/01 02:23\\n→ lf9nettw:你有問過我嗎 03/01 02:23\\n噓 wcontainer:第 22/22 頁 03/01 03:14\\n噓 u943143:總有一天我們會噓到XX的 03/01 10:11\\n噓 lf9nettw:來哦 03/01 17:40\\n噓 Neet:檢舉王你這麼閒怎麼不去處理底下那些廢到爆的M文 03/01 20:27\\n噓 u943143:第十四篇已經失連了 根本看不到什麼鳥掛 03/02 11:06\\n噓 lf9nettw:地方的ㄇㄇ 03/02 17:22\\n噓 apple0660:有歸零的喔 03/02 22:24\\n推 kevinlee0630:YA 03/03 00:07\\n噓 wcontainer:唉 洗洗睡了 03/03 00:25\\n噓 lf9nettw:不 不准睡 03/03 00:38\\n噓 u943143: 03/03 12:39\\n推 TKU5566:地方的檢舉姬需要____ 03/03 13:07\\n噓 wcontainer:             更多的廢文 03/03 21:14\\n噓 lf9nettw:                     專版 03/03 23:35\\n噓 azt911231:只會歸零  耖 03/04 00:52\\n噓 ArtofLife:拜託快來檢舉我 03/04 01:33\\n噓 wcontainer:我難過 03/04 01:52\\n噓 godoflolicon:視姦者又跑去檢舉了，視姦者怎麼不去死一死？ 03/04 02:04\\n噓 johnny9667:c 03/04 06:14\\n→ wcontainer:推 seabox:未達標準 待判  ㄏㄏ 03/04 10:26\\n噓 lf9nettw:ㄎ 03/04 20:33\\n噓 u943143:終於回家了 03/04 22:17\\n噓 lf9nettw:回不了家. 03/05 02:43\\n噓 lf9nettw:針對我沒關係 拜託別跟到級版 有夠扯 03/05 17:19\\n噓 hateOnas:還好吧 03/05 19:20\\n噓 u943143: 03/05 20:52\\n噓 LoveDogMan4: 03/05 23:15\\n噓 moopend0073:青蛙人咧?? 03/06 15:19\\n→ rain92315:還有第三方嗎 現在沒啥事可以相信 03/06 16:35\\n噓 lf9nettw:為正義而反共 圖民族之復興 03/07 03:04\\n噓 u943143: 03/07 12:35\\n噓 tornado5566:[新聞] 洪仲丘案判決出爐 被告全數輕判 03/07 16:56\\n噓 Neet:這些垃圾居然只判半年 偉哉鬼島 03/07 16:57\\n噓 u943143:斷章取義的傢伙 我一天才一噓 也沒連著噓 檢舉我幹麻 03/08 09:04\\n噓 lf9nettw:又警告一次又未達標準到底是什麼 03/08 16:31\\n→ u943143:那個大概是版主們的投票吧.... 03/08 21:39\\n噓 wcontainer:我還是洗洗睡吧 幹! 我終究是條魯蛇 03/08 23:49\\n→ wcontainer:我好氣我自己 03/08 23:49\\n噓 lf9nettw:內除軍閥 外抗強鄰 03/09 02:34\\n→ wcontainer:我終究是一個讓人難以親近的人 03/09 07:08\\n→ limingshiuan:                          面獸心 03/09 12:58\\n→ lf9nettw:                                    理變態 03/09 16:46\\n噓 wcontainer:明天又可以睡到中午了 幹 03/09 23:59\\n→ wcontainer:我還是當一個魯宅就好了 ㄏㄏ 03/10 00:14\\n噓 lf9nettw:明天早上有課噓 03/10 00:35\\n→ wcontainer:算了 隨便 你們開心就好 哭哭 03/10 01:12\\n→ hateOnas:啦啦啦 03/10 01:34\\n噓 lf9nettw:拉什麼 03/10 03:51\\n噓 GalLe5566:簽到 03/10 05:07\\n噓 u943143: 03/10 12:16\\n噓 Neet:跟上 03/10 22:17\\n噓 smokerog:YA 03/11 10:14\\n→ CharlotteX:樓下魯蛇 03/11 20:25\\n→ lf9nettw:me 03/11 22:02\\n→ wcontainer:, too 03/12 00:23\\n→ wcontainer:幹不對 應該沒有逗點 03/12 00:23\\n噓 lf9nettw:你說沒有就沒有 還有王法? 03/12 03:28\\n噓 wcontainer:就算沒有王法 也不能沒有文法吶 03/12 03:47\\n噓 lf9nettw:有道理ㄟ 03/12 19:09\\n噓 u943143:尤是一個濛濛落小雨的暗暝 03/12 20:34\\n推 xyz4594:我是帥哥 03/12 23:17\\n噓 azt911231:噓噓噓 03/13 00:55\\n噓 lf9nettw:最可恨那些毒蛇猛獸，吃盡了我們的血肉！ 03/13 01:46\\n噓 eeee111:幹啦!上班簽到 03/13 12:02\\n噓 loveyou9527:馬航 03/13 17:09\\n→ kana0228:當時的板標就反應了記者水準 03/13 17:55\\n→ kana0228:              映 03/13 17:55\\n噓 u943143: 03/14 07:49\\n噓 lf9nettw:                                        今天我生日ㄛ 03/14 15:00\\n噓 arthur61106:今天我噓文ㄛ 03/14 22:41\\n噓 lf9nettw:Endless rain, fall on my heart 03/14 23:28\\n噓 macjohn03:lf9nettw大我朝聖了青蛙人 ㄏ 03/15 21:20\\n噓 lf9nettw:怕了吧！ 03/16 01:55\\n噓 ckscks178:幫噓 03/16 11:58\\n噓 u943143:X5啦 還有一半的路要走 03/16 12:52\\n→ lf9nettw:被妹顯示離線 溫馨 03/16 15:37\\n噓 jerry11006:?? 03/17 11:20\\n噓 pilgrimangus:__文始祖 03/17 15:47\\n噓 PttTime:噓一下惹 科科 03/17 20:15\\n→ wcontainer:地震啦!!! 03/17 21:23\\n噓 lrm549:朝聖噓           X!蛙人哩                         2013/ 03/18 00:46\\n→ lrm549:                                 XDDD       應該是2014/ 03/18 00:55\\n噓 lf9nettw:...我以為樓上是故意ㄉ                           2016/ 03/18 01:00\\n推 hateOnas:那個啊 應該不會認錯 XDDDD 03/18 01:54\\n噓 lf9nettw:哪個啦 講清楚 連個講都不會話 03/18 02:10\\n噓 lf9nettw:我看懂了 不是你想的那個 是另外的 03/18 03:07\\n噓 u943143:剛剛不知道按到什麼 畫面一閃\"轉寄成功\" 不知道轉給誰 03/18 12:23\\n噓 wcontainer:我甚麼都不懂 不要問我 03/18 22:44\\n噓 Neet:幹你媽的服貿 03/19 00:44\\n噓 lf9nettw:台灣人，你為什麼不生氣？ 03/19 03:04\\n噓 skyboy0804:屏東應該沒人北上.. 03/19 03:10\\n→ fish0713:反服貿黑箱 03/19 11:29\\n噓 stu91603:樓下pz5202 03/19 16:13\\n推 panson::P 03/19 18:05\\n噓 u943143:國之將亡，必有妖孽。亡國昏君，喪台庸人! 03/19 19:01\\n噓 zx15132001:XX 03/20 17:49\\n噓 daae:XXX 03/20 17:52\\n噓 didi2931640:XX 03/20 19:02\\n推 Hunknight:2017/2/29朝聖 03/20 20:50\\n噓 lf9nettw:大國傾頹 03/20 21:18\\n噓 ltameion:還我青蛙人!!!操!!! 03/20 22:06\\n噓 u943143:沒有暴民 只有暴政 03/20 22:50\\n噓 ridecule:又解M了? 搞屁 03/20 23:46\\n→ lf9nettw:解屁Ｍ... 03/21 00:03\\n噓 ww1234528:簽到 03/21 00:14\\n→ gogoegg:廠公被判刑就是爽！！！！ 03/21 16:19\\n推 b605152000:2014/3/21 太陽花學運-反黑箱 03/21 17:30\\n噓 u943143:321  今天不自由日                         我反黑箱服貿 03/21 19:31\\n推 green001:好可憐，因為 app 的上限被誤噓，補個血 at 2014/3/21 03/21 21:12\\n推 alienfromy:說真的為什麼青蛙人不見了>???? 03/21 23:26\\n噓 lf9nettw:問檢舉王 他幹的 03/22 04:50\\n噓 u943143:又M回來啦 03/22 11:41\\n噓 AAAC:什麼爛記者會 03/23 10:47\\n推 mobley2005:英告 幹！ 03/23 13:43\\n推 bj4la5566:好棒棒 03/23 16:03\\n噓 xinya707:媽我在這~~~~~~~~ 03/23 20:50\\n推 iljapan61:人氣:61313 03/23 20:50\\n推 Neet:持續攀升中 03/23 20:53\\n推 qzwxecrvtb:人氣：87770 03/23 22:01\\n→ macdivas:             怎麼一堆腦充血po人氣癈文 幹 03/23 22:13\\n推 candog:快紫爆啦 03/23 22:14\\n推 TurtleLee:還我青蛙人 03/23 22:17\\n噓 fish0713:快紫爆了 03/23 22:20\\n推 kusami:這篇沒刪是哪招 03/23 22:22\\n→ grimmm51764:青蛙人呢!? 03/23 22:38\\n推 tornado5566:91442 03/23 22:42\\n推 weigod:留名 03/23 22:53\\n推 ZephyrAvatar:推 03/23 22:59\\n→ lf9nettw:留名 03/23 23:08\\n推 kai35:2014/03/23 服貿事件紫爆留名 03/23 23:20\\n→ jaid:留名 03/23 23:20\\n推 RyuzakiYuuji:2014/03/23 攻佔行政院紫爆!!!! 03/23 23:23\\n→ gogoegg:紫爆推自己 03/23 23:33\\n推 band0912:樓上原po 03/23 23:34\\n推 xyz4594:我要宣布一件事  我是帥哥 03/29 00:53\\n推 u943143:我出水桶啦! 03/29 10:54\\n推 Top5566:我也出水桶啦 爽 就是要家畜的安寧 怎樣 再檢舉我啦 淦 03/29 13:46\\n推 imdai:陳為廷 林飛帆 謝謝你們!! 03/31 00:03\\n噓 a00779928:還我青蛙人 幹 04/01 11:45\\n噓 srxcomtx:青蛙人 幹 04/05 19:38\\n推 hateOnas:青蛙人 精華區有 04/06 23:36\\n推 nicholassys:喔喔 喔喔 04/07 02:01\\n推 BaXeS:紫爆有參與到 推哦 04/07 02:55\\n噓 proudhao:草泥馬 04/07 11:24\\n推 srena:2014/04/09 朝聖 04/09 23:14\\n噓 Top5566:都沒人 04/10 06:52\\n→ Kayusumi:還說沒有政黨色彩哦 頗呵 04/10 22:56\\n推 ofafa:1 04/11 08:10\\n→ grifonxu:教授有沒有說金恩當年也因為違法 後來去乖乖坐牢了 04/11 09:17\\n噓 Top5566: 寂寞 04/11 10:29\\n推 aksnt:朝聖~ 04/11 22:53\\n噓 Neet:改回180啦 04/12 12:57\\n噓 wcontainer:幹! 04/12 13:59\\n噓 Top5566:歡迎各位師兄地歸位 04/12 16:02\\n→ LiberteHoffe:2050/08/14  朝聖 04/12 18:59\\n噓 lakershank:幹，黨工吃屎啦 04/12 21:07\\n噓 SweetChildOM:朝聖 04/13 00:05\\n推 arthur61106:耶  出乃ㄌ 04/13 13:06\\n→ ahlolha:從四流大學畢業的優先錄用 04/13 14:53\\n噓 Top5566:怎還是沒人 淦 04/14 14:37\\n噓 andy90498:朝聖噓  太太 偶洗翻尼 04/14 14:37\\n推 nick9823:2014/04/14 慶祝方神登基滿三天 04/14 14:39\\n噓 angel0328:總有一天要繼續噓到XX                            2014 04/14 19:44\\n噓 andyboy960:請支持KoaoaKing稱霸世界 04/15 00:44\\n噓 lf9nettw:今天我生日ㄛ 04/15 01:18\\n噓 rockboy088:______下台  叭叭叭 04/15 19:43\\n噓 andy90498:沒用的      檢舉王前幾天才歸0而已不是嗎 04/15 20:31\\n噓 Top5566:想要俾斯麥 04/16 11:52\\n噓 balasa: 04/16 15:00\\n噓 Top5566:幹你娘 讀的都沒考出來 04/17 14:07\\n噓 lf9nettw:滿腔的熱血已經沸騰 04/17 17:36\\n噓 wcontainer:沒有一科有讀完的 04/17 17:49\\n噓 lf9nettw:沒差 債總 刑總 大爆死 04/17 23:30\\n噓 jaid:== 04/17 23:39\\n推 sakusakurai:謝謝new大XD你打的好詳細～我家不是有錢人，雖然有不 04/17 23:41\\n→ sakusakurai:動產但也不能幹嘛吧XD 然後我自己就是讀語文科系的拉 04/17 23:41\\n→ sakusakurai:雖然被噹以後會餓死囧，全世界都護士荒嗎… 04/17 23:41\\n噓 jkasc28s:還我青蛙人啦!!! 04/18 00:07\\n噓 lf9nettw:ja不是關fb了 還用ptt?? 04/18 00:15\\n→ lf9nettw:                我真的猜不透妳啊 04/18 00:16\\n噓 jaid:讀書之虞不可不關心時事 04/18 00:43\\n→ lf9nettw:                    CGS 我猜不透 真的猜不透 04/18 01:16\\n噓 Top5566:考完了 04/18 12:24\\n噓 Emerson158:第一篇留念 04/18 15:10\\n噓 Cadia:路過                                               2014/ 04/18 15:21\\n※hateOnas 於 04/18/2014 21:55:07 將推薦值歸零\\n噓 Top5566:淦淦淦淦淦淦淦淦淦淦淦淦淦淦淦淦淦淦 04/18 22:09\\n→ johnny9667:幹 04/18 22:55\\n→ johnny9667:環我建中青蛙人 04/18 22:56\\n噓 lf9nettw:我要放棄了 我真的真的要放棄了 04/18 23:56\\n→ lf9nettw:                         再已讀啊 04/18 23:57\\n噓 Neet:檢舉王你是顧小孩顧到很無聊逆 04/18 23:59\\n→ lf9nettw:                          又已讀又離線的 夠了沒啊 04/19 00:01\\n噓 Top5566:歸0害我氣到射精(*〝︵〞*) 04/19 00:12\\n噓 donny123:青蛙人捏？ 04/19 00:47\\n噓 Top5566:造不出俾斯麥淦淦淦淦淦淦淦淦淦淦淦淦 04/19 15:17\\n噓 asd2260123:頗ㄏ 04/19 17:04\\n噓 lf9nettw:無恥啊 無恥 這是某集團的無恥 恰恰是台灣人的光榮 04/19 17:06\\n噓 zz7856132: 04/19 19:04\\n噓 jaid:檢舉王好Sㄛ 04/19 19:07\\n噓 vul3196:幹 聖光束喔 04/19 21:41\\n噓 arthur61106:今天我生日ㄛ 04/20 12:04\\n噓 tangtaiyu28:今天我生日ㄛwwwwwwwww 04/20 20:44\\n噓 Top5566:等一下要造俾斯麥了 希望會中 04/20 21:54\\n噓 Top5566:淦淦淦淦 又沒中 04/20 23:02\\n→ lf9nettw:今天希特勒生日ㄛ 04/20 23:52\\n→ lf9nettw:                     為什麼你們兩個要一起過來呢? 04/20 23:52\\n→ lf9nettw:                        而且還有說有笑？ 04/20 23:52\\n→ lf9nettw:                  已讀 哼哼哈哈去洗澡 04/21 00:19\\n噓 andy90498:檢舉姬龜苓也沒用  怒噓 04/21 01:22\\n→ TrIstaNa:想知道除了基本國文外考一些國文到底能做什麼+1 04/21 03:57\\n噓 lf9nettw:                          啊，日頭一出來仍是好天氣 04/21 21:31\\n噓 andy90498:http://ppt.cc/Jrov  這三小 04/21 21:48\\n→ lf9nettw:   奇怪 我選什麼都會被否定 04/21 21:55\\n→ lf9nettw:Endless rain, fall on my heart 04/21 22:45\\n→ lf9nettw:let me forget, all of the hate, all of the sadness... 04/21 22:46\\n噓 jaid:幹 民國94~90的數甲都好機車 04/21 23:20\\n噓 andy90498:話說我竟然是99數甲的 ˊ_>ˋ 04/21 23:27\\n→ lf9nettw: 我考數乙的 我腦袋比較差 只能讀文組 04/22 01:28\\n→ lf9nettw:不過我主張國英應該也要有甲乙 文理組用到的密度不同 04/22 01:29\\n→ lf9nettw:原諒我 行不開腳 我要去對抗欺負咱的人 04/22 01:29\\n→ lf9nettw:                          黑暗他總會過去 04/22 15:18\\n噓 angel0328:歸零四次了 有事嗎? 04/22 21:05\\n噓 angel0328:這根本神補啊 04/22 21:14\\n噓 jaid:英文還好 國文強烈同意分甲乙組啦 04/22 23:58\\n噓 mn228426:幹 還我建中青蛙人 04/23 18:02\\n噓 jaid:爽啦寫完17回數甲 04/23 23:33\\n噓 andy90498:幹 傍晚不小心睡太飽 現在根本睡不著 怒噓 04/24 02:33\\n推 jaeomes:一看就知道誰指使的 我還懷疑某刀根本阿共派來亂台的 04/24 14:04\\n噓 lf9nettw:半夜突然爬起來彈鋼琴 04/24 23:17\\n噓 jaid:文青 04/24 23:59\\n噓 andy90498:阿斯阿斯阿斯   等回LINE等得很暴躁 04/25 00:12\\n噓 Top5566:要去睡覺了 晚安 04/25 11:13\\n噓 lf9nettw:                            明天還要見面 zzz 04/25 18:58\\n噓 Top5566:醒來了 要吃什麼??? 04/25 21:21\\n噓 Top5566:去睡了 04/26 09:40\\n噓 andy90498:ZZZZ 忘記來噓   TOP大上夜班?  怎作息相反 04/26 13:51\\n噓 Top5566:期中沒考試 看動畫看到日夜顛倒 該收假囉 04/26 23:05\\n噓 stfang925:青蛙人咧 04/27 00:42\\n噓 andy90498:噁心造作的世界  不要相信任何人 04/27 02:45\\n噓 azt911231:歸0三小  幹  有板規依據嗎? 04/27 04:24\\n→ azt911231:檢舉王 八卦版是給你不爽就歸0推文 不爽就刪文的地方喔? 04/27 04:25\\n推 hateOnas:我沒有不爽啊  我到 x7 或7x 才會歸零 有規則耶 04/27 17:17\\n→ FATTA5566:XD 04/27 20:11\\n噓 andy90498:等等 八卦版幾萬篇文章 為何太太一直關切這篇 04/28 00:23\\n噓 jaid:有沒有怎麼提高唸書定力的八卦QQ 04/28 01:57\\n噓 Top5566:戒掉PTT 04/28 06:40\\n噓 andy90498:     戒不掉 辦不到 04/28 12:24\\n推 hateOnas:因為這篇標題是第一  我每次都最後一名 04/28 15:15\\n→ hateOnas:很想當第一名 所以就常來這篇了  嗚嗚嗚嗚 04/28 15:15\\n推 wcontainer:拍拍 04/28 16:09\\n噓 braja5566:滾 04/28 16:42\\n噓 lf9nettw:我也是都最後一名 哎 文組宿命 04/28 19:49\\n→ lf9nettw:回jaid 你只要有執念 就會有定力了 04/28 19:50\\n噓 andy90498:最近好容易拉肚子  是怎樣 04/28 20:02\\n噓 Top5566:我都熬夜反而便秘了 04/28 21:12\\n→ lf9nettw:直接正犯間接正犯單獨正犯共同正犯教唆犯幫助犯 04/29 00:39\\n噓 jaid:沒有執念 只有宿便 04/29 00:51\\n噓 lf9nettw:讓我想到上次在ja家上廁所的驚豔事件 04/29 04:09\\n噓 andy90498:馬桶上坐著正妹嗎   幹 誰賜我一個女朋友 04/29 11:15\\n推 Kunimoto:推 04/29 12:50\\n噓 lf9nettw:   我也好想要女友ㄛ 04/29 14:51\\n噓 Top5566:好想要俾斯麥ㄟ 04/29 20:24\\n推 john3212:亣亣不要再轉這篇了 04/29 22:23\\n※ Top5566:轉錄至看板 Test                                         04/29 23:15\\n噓 jaid:模考崩潰哭哭 04/30 01:05\\n噓 andy90498:半夜還要趕作業   老師去吃大便 04/30 02:49\\n噓 Top5566:上課40分內，我前面的天才對老師點頭17次，後面的變態對 04/30 17:18\\n→ Top5566:我呼氣8次 04/30 17:19\\n噓 lf9nettw:什麼東西= = 04/30 20:06\\n→ lf9nettw:太平洋西南海邊，美麗島台灣翠青 05/01 01:44\\n噓 ltameion:操!檢舉王快下台拉!! 05/01 01:58\\n噓 andy90498:幹 結果下個月才要交 我昨天到底在忙什麼 還忙到五點多 05/01 02:18\\n→ andy90498:結果現在我作息錯亂 剛剛睡太飽 現在睡不著 05/01 02:19\\n→ lf9nettw:                妳為什麼都一副意興闌珊的樣子? 05/01 02:21\\n噓 Top5566:醒來了 雨還在下 05/01 06:21\\n噓 sky40280:青蛙人勒 幹 05/01 17:06\\n噓 a00779928:幹 青蛙人的優文被刪 這種廢文卻還存在 05/01 18:11\\n噓 Top5566:青蛙人都被刪半年了\\u3000也太ＬＡＧ了吧 05/01 18:35\\n噓 jaid:幹我隔壁的把水果放在地上兩週還不丟掉 05/01 22:57\\n噓 lf9nettw:你一個人住吧 05/01 23:12\\n噓 jaid:學校啦QQ 05/01 23:19\\n→ zone0317:反服貿石虎路過號召捷運台獨核四核一核二核三風車 05/01 23:54\\n→ lf9nettw:                                          再裝離線啊 05/02 00:01\\n噓 andy90498:消夜只能吃好苦的口香糖 05/02 00:35\\n→ lf9nettw:為了我們的權益，不怕任何犧牲！ 05/02 00:52\\n噓 Top5566:跑1600差點過世 05/02 12:43\\n噓 andy90498:考試被老師陰 氣到把壁虎尾巴夾在課本裡 05/02 13:00\\n推 for40255:? 05/02 16:27\\n→ bm061596:神豬打人的文勒zzzz 05/02 19:00\\n噓 u943143:\"可以歸零\"的版規寫在哪? 05/02 22:24\\n噓 andy90498:喝水也會肥    幹 體檢過了 05/03 01:11\\n推 MeloKing:吱吱水準 意外嗎 05/03 02:32\\n噓 Top5566:發呆中 05/03 14:30\\n噓 lf9nettw:剛剛妹子跟我說fuck 意思是咩修幹某? 05/03 19:48\\n噓 u943143:現在X6 請問\"可以歸零\"的版規寫在哪? 05/03 20:19\\n噓 andy90498:沒來由的就是很想噓            好啊 05/03 20:20\\n噓 Top5566:要打報告了 好煩 05/03 20:42\\n噓 arthur61106:各位  檢舉王不在 把他噓報ㄅ 05/03 21:27\\n噓 jaid:有機好靠盃ㄛ幹 05/04 00:56\\n噓 Top5566:結果報告完全沒動\\u3000幹 05/04 00:59\\n噓 jaid:有沒有聚氯丁二烯叫新平橡膠ㄉ八卦 跟後藤新平有關係ㄇ 05/04 01:17\\n→ lf9nettw:             國際歌：英特納雄耐爾，就一定要實現！ 05/04 01:34\\n噓 u943143:趁她病 要她命 快衝阿 05/04 12:59\\n噓 andy90498:真的搞不懂供應商 既然都要灌win7了 為什麼記憶體只給1G 05/04 13:06\\n噓 alienfromy:我的青蛙人勒? 05/04 15:27\\n噓 lf9nettw:                   愛理不理的 05/04 17:51\\n噓 Top5566:最討厭禮拜一了 05/04 18:18\\n噓 andy90498:  盡挑一些我覺得發胖的時期吃烤肉 05/04 18:25\\n噓 Top5566:我被檢舉了，明天沒看到我的話，就暑假面再見吧。大家掰掰 05/04 21:17\\n噓 andy90498:T大再見  我會很想你的 05/04 21:23\\n→ lf9nettw:在哪篇被檢舉?我找檢舉版找獨到 05/04 21:50\\n噓 Top5566:29630  重複推文  希望不要罰太重啦 哈 05/04 21:55\\n噓 jaid:樓上被水桶134天 下次看到你我大概已經是重考生了 安息 05/05 01:35\\n→ lf9nettw:ja幹嘛詛咒自己                         反正是必然結果 05/05 01:45\\n噓 andy90498:小筆電沒光碟機 05/05 13:45\\n噓 u943143:幹，區網抓不到啦 05/05 19:13\\n噓 andy90498:scirus倒了   NCBI用得好不習慣 05/05 21:10\\n噓 lf9nettw:                              諸事不順諸事不順諸事不 05/05 22:21\\n→ lf9nettw:             日本同學問我是不是Gay zzzzzzzz 05/05 22:25\\n噓 andy90498:                                 我是貴不是gay 05/06 01:35\\n噓 kuro: 05/06 15:22\\n噓 andy90498:頹廢了一整天              來噓噓喔 05/06 20:21\\n推 deasai:幹 05/07 01:35\\n噓 xx840517:幹 05/07 13:13\\n噓 u943143: 05/08 12:26\\n噓 berniechen:........? 05/08 15:11\\n噓 andy90498:OREO   蛋捲   泡芙   銅鑼燒   建達巧克力   提拉米蘇 05/08 21:37\\n推 snsd56:爽~出桶了 05/09 00:07\\n噓 lf9nettw:我們原本的協議是針對貝里達！我不會把囚犯交給阿提拉！ 05/09 02:14\\n※hateOnas 於 05/09/2014 08:04:44 將推薦值歸零\\n→ FATTA5566:又白做工了XD 05/09 12:53\\n噓 u943143:叭叭 版主可以歸零的版規寫在哪? 05/09 18:30\\n噓 andy90498:                            下台 05/09 19:50\\n噓 Neet:當板主就能隨意歸零別人文章的推薦值喔？原PO怎不申訴一下 05/09 20:33\\n噓 lf9nettw:.. 05/09 20:47\\n噓 jaid:叭叭 05/09 23:04\\n噓 andy90498:※太太 於 05/09/2014 08:04:44 將推薦值歸零 05/10 01:10\\n噓 bendu:憑什麼? 05/10 01:44\\n噓 aszx4510:※hateOnas 於 05/09/2014 08:04:44 將推薦值歸零 05/10 03:01\\n噓 andy90498:※太太 於 05/10/2014 12:35:44 將午餐吃掉 05/10 12:35\\n噓 lf9nettw:版主為什麼要辭啊 05/10 14:02\\n噓 jaid:好累喔 05/10 22:50\\n→ lf9nettw:why why why don\\'t I miss you a lot forever? 05/11 00:49\\n→ lf9nettw:少一個why.. 05/11 00:49\\n噓 andy90498:被罵了...好難過 05/11 01:29\\n噓 Emerson158:等等收衣服 05/11 01:58\\n噓 u943143: 05/11 11:34\\n噓 andy90498:太太下台了....                            還是很難過 05/11 14:25\\n推 jieen0604:推 05/11 14:54\\n噓 lf9nettw:蛻變 ～transformation～ 怎麼能那麼好聽 05/11 14:59\\n噓 wcontainer:好文青喔 05/11 15:30\\n噓 andy90498:macrophage polarisation alveolar development 05/11 21:08\\n噓 jaid:你要當太鼓王了嗎 05/11 22:54\\n噓 lf9nettw:季曲 05/12 01:05\\n噓 lf9nettw:                       ＲＵＳＴＹ ＮＡＩＬ！ 05/12 01:58\\n→ lf9nettw:無法停止不噓文.... 05/12 01:58\\n噓 andy90498:指尖好痛     指尖放血    指尖紅腫 05/12 13:04\\n推 Q5566Q:出桶惹 !復活!!!! 05/12 20:19\\n噓 lf9nettw:你知道嗎，世界上最遠的距離，不是生與死，而是你在我面 05/12 23:12\\n→ lf9nettw:前，卻不知道今天我生日ㄛ 05/12 23:12\\n噓 andy90498:紅蠟燭喜氣   住你生ㄖ快樂 05/12 23:16\\n噓 jaid:ethylenediaminetetraacetic 05/13 01:58\\n噓 azt911231:檢舉太太下台了 歡天喜地 05/13 03:48\\n推 Luwan: 05/13 16:50\\n噓 u943143:[超幹] 我的房間被大水螞蟻佔領了! 05/13 19:57\\n推 VioletWen:大家好 05/13 21:38\\n→ PPTer:2015.5.13 05/13 23:24\\n噓 jaid:Are you John Titor? 05/14 00:04\\n噓 lf9nettw:啊那搭哇咖咖呀一貼 05/14 00:17\\n→ lf9nettw:呼他哩妮god bless 05/14 00:17\\n噓 angel0328:下台前最後一次歸零 可喜可賀 05/14 00:19\\n推 ray13075:123 05/14 01:41\\n推 mars1396:2014/05/14報到 05/14 01:52\\n噓 lf9nettw:不准推 05/14 02:19\\n推 hateOnas:? 05/14 02:39\\n噓 andy90498:太太 下台真的只是因為小孩嗎  內幕哩 05/14 09:33\\n噓 u943143:XX有望 05/14 12:17\\n推 hateOnas:不知有漢  的解釋是 不知道有漢子以為都女的 這樣嗎 05/14 13:23\\n噓 u943143:原意應是：因與世隔絕，不知道已經改朝換代。 05/14 18:08\\n→ u943143:衍生意：無知。 05/14 18:09\\n→ wcontainer:所以桃花源其實是一個女人國? 05/14 18:45\\n噓 u943143:否。擷取原文：....其中往來種作，男女衣著，悉如外人... 05/14 19:26\\n推 hateOnas:不知有漢 可以衍生為無知喔 我以為只是敘事而已 05/14 20:28\\n噓 zs111:檢舉姬我喜番你呀 05/14 21:29\\n噓 andy90498:太太 偶喜翻尼 給噓嗎 05/14 21:56\\n噓 jaid:太太窩艾妮~~~ 05/14 22:41\\n噓 lf9nettw:今天一襲白色洋裝 真不錯 05/15 01:22\\n噓 arthur61106:太太>////< 05/15 12:46\\n噓 lf9nettw:今天你有出現嗎 05/15 19:46\\n噓 andy90498:好想把小腹削進去 幹 越看越像懷孕 05/15 21:12\\n噓 Neet:置頂上什麼國文 05/16 02:52\\n噓 lf9nettw:期待今晚相會 05/16 03:08\\n噓 andy90498:老師在上好無聊的課 05/16 14:16\\n噓 wcontainer:我被寄信了 顆顆 05/16 15:15\\n噓 lf9nettw:是被ntu律師寄信? 05/17 01:30\\n→ lf9nettw:恭喜啊 奇人 05/17 01:30\\n→ lf9nettw:要上台表演了...  說不緊張是騙人的 但也還好 05/17 01:31\\n噓 andy90498:喜歡這個又喜歡那個       我真花癡 05/17 02:26\\n噓 lf9nettw:突然想到 告白到底是要約還是要約之引誘 05/17 02:44\\n噓 andy90498:                                要用釣der 05/17 02:56\\n噓 lf9nettw:樓上應該是不懂梗ㄅ                    分手是形成權 05/17 02:57\\n噓 hacnec:青蛙人呢? 05/17 14:38\\n噓 andy90498:為什麼這時間只剩麥當當跟7-11有開 05/17 23:00\\n噓 u943143: 05/17 23:58\\n推 bakaka:kmt:什麼?430?以後黨工都換越南級. 05/18 00:06\\n噓 lf9nettw:                              終於結束了 我的天啊 05/18 03:24\\n→ lf9nettw:明年做X Japan啦 .... 05/18 03:24\\n噓 lf9nettw:            就決定了 明年 Endless Rain 誰也不准改!!! 05/18 12:30\\n→ wcontainer:還有擁核豆漿 05/18 15:19\\n噓 u943143:擁核豆漿好好笑                                還是要噓 05/18 20:53\\n→ lf9nettw:我看了兩眼才發現== 05/18 21:53\\n噓 angel0328:有事沒事都來噓一下 05/19 01:16\\n推 hateOnas:? 我不懂梗耶 05/19 13:18\\n噓 andy90498: ↑太太                      下大雨、要上課、做不完 05/19 14:00\\n噓 zzzz8931: 05/19 19:09\\n噓 u943143:牙痛要人命....我快瘋了 ˊ_>ˋ 05/19 19:45\\n噓 lf9nettw:告白臺大是什麼 05/19 22:30\\n噓 andy90498:做完了      爽爽噓 05/19 23:55\\n噓 jaid:幹  三小 護理35分被當 我期末考69ㄟ 平時是給多低 05/20 01:20\\n噓 u943143:醫生說我有蛀牙 直接在我蛀牙的地方敲了兩下 我快瘋了 05/20 12:29\\n噓 lf9nettw:下次有機會再一起吃飯吧:) 05/20 16:36\\n噓 andy90498:                       都沒人約我:\\'( 05/20 19:02\\n推 hateOnas:我不要 05/20 19:27\\n→ lf9nettw:是在約嗎? 05/20 19:58\\n→ lf9nettw:今天我又生日了.... 天天生日ㄛ 05/20 20:17\\n推 hateOnas:你媽每天都在生你?  你媽真的好偉大  幫我感謝他 05/20 20:23\\n→ lf9nettw:今天我生日ㄛ！ 天天我生日ㄛ！ 05/20 20:41\\n噓 andy90498:置頂放閃? 05/20 22:43\\n噓 angel0328:繼續噓 05/21 00:32\\n噓 lf9nettw:.. 05/21 03:27\\n噓 angel0328:地震噓 05/21 09:09\\n→ moopend0073:青蛙人勒? 青蛙人勒? 青蛙人勒? 青蛙人勒? 05/21 10:33\\n推 hateOnas:青蛙人是精華喔 精華懂嗎?  就是精華的精華 05/21 18:08\\n→ hateOnas:做了一個解釋精華的動作 05/21 18:09\\n噓 lf9nettw:隨機殺人 嚇死我 05/21 20:34\\n→ lf9nettw:可是我在精華區找不到 05/21 20:34\\n噓 andy90498:                明天三點上台  我要死了 05/21 22:28\\n噓 Neet:FUCK 這人渣真的該死 05/21 22:58\\n噓 kmjhome:殺人不可取 05/21 23:19\\n噓 fallen01:幹你娘垃圾做垃圾事 05/22 04:09\\n噓 u943143:罪證確鑿：泯滅人性。 廢死還要出來聲援嗎?? 05/22 07:43\\n推 hateOnas:所以? 05/22 10:10\\n噓 u943143:所以我決定開分身連PO數篇費文增加版主工作量XD 05/22 12:20\\n推 hateOnas:啊.... 怎麼大家都用分身 05/22 17:58\\n推 nigue:變聊天區了嗎? XD 05/22 19:32\\n噓 andy90498:別推啦!!!   可惡這兩天新聞好負面 心情好沉痛 05/22 20:54\\n推 hateOnas:那就應該推一下 正面一點 05/22 21:23\\n噓 s0915479284:肚子好餓喔... 05/22 21:25\\n噓 lf9nettw: 照噓 沒講到半句話就跑了 05/22 21:32\\n噓 wcontainer:肚子餓了... 05/22 23:11\\n噓 angel0328:繼續朝XX邁進 05/23 03:42\\n噓 u943143:想到今晚要找牙醫 我腿都軟了 05/23 07:52\\n噓 lf9nettw:Dry your tears with love.. 05/23 14:03\\n→ hateOnas:啊 就洗文啊 05/23 22:12\\n噓 u943143:我好餓...可是剛拔完牙齒不能咬東西 我好想咀嚼 05/24 12:26\\n噓 andy90498:U大拔了一個晚上跟早上....... 05/24 14:37\\n噓 jaid:Amazing 05/24 22:53\\n噓 wcontainer:Amazon 05/25 01:12\\n噓 andy90498:Abandon 05/25 01:16\\n噓 jaid:Abraham 05/25 12:45\\n噓 longkiss0618:... 05/25 14:35\\n噓 u943143: 05/25 22:00\\n噓 lf9nettw:欸，可以幫我按個讚嗎？ 05/26 02:02\\n噓 jannyann:青蛙人呢? 05/26 02:56\\n噓 lf9nettw:聽說在精華區可是我找不到 05/26 13:13\\n噓 andy90498:我找到惹 我在哪？ z-10-26-13-4-4-4-484 05/26 13:35\\n噓 lf9nettw:不是那篇... 05/26 13:50\\n噓 angel0328:有事沒事都來噓 05/26 15:19\\n噓 wcontainer:10. 26. 14.  8.  3.  1.  6.  1. 05/26 15:37\\n→ lf9nettw:那推文沒收錄到.. 05/26 15:51\\n噓 u943143:e04，今天替公司虧了幾萬元，心情很糟。 05/26 17:53\\n推 hateOnas:你是說閒聊的噓文嗎??? 05/26 18:05\\n噓 dahos:第一耶 05/26 22:00\\n噓 jaid:哭哭這篇沒人請雞排 05/27 00:16\\n噓 wcontainer:我又餓了 05/27 00:17\\n噓 lf9nettw:我也是...   ja你讀得怎樣 05/27 01:28\\n噓 andy90498:把畢業專題弄好了，突然好空虛  終於要卸除學生身分了 05/27 02:20\\n噓 u943143:畢業都快五年了 偶爾還會夢到我還在趕報告、考流體力學 05/27 07:42\\n→ lf9nettw:今天我生 05/27 15:09\\n噓 jaid:我覺得我可以開始準備明年學測的社會惹 05/27 15:20\\n推 LJGB:YA 05/27 18:50\\n噓 andy90498:鬍渣男超帥  幹我留鬍子看起來像流浪漢 05/27 22:18\\n噓 u943143:這件是老佛爺賜給你的黃馬褂，你穿上了它，誰也打不了你。 05/27 22:18\\n推 Wyvern:這裡是在幹嘛 05/27 22:48\\n噓 u943143:歷史本文阿.... 05/27 23:00\\n噓 lf9nettw:今天我生 05/27 23:24\\n噓 andy90498:       了 05/27 23:50\\n→ lf9nettw:什麼生了 再給你一次機會 今天我生 05/28 01:11\\n→ bloodfest:賠償的部份父母也有出    除非他們沒繳稅... 05/28 11:48\\n噓 wcontainer:怒氣勃發的一天 05/28 12:18\\n噓 u943143:XX近了 05/28 12:19\\n噓 andy90498:X9了  TOP大勒? 05/28 12:24\\n噓 TDQC1112:XX 05/28 12:54\\n噓 longmok2500:出桶!YA 05/28 15:15\\n噓 lf9nettw: 05/28 17:35\\n噓 u943143:原來大水螞蟻會鑽紗門 我的房間到處是翅膀... 05/28 20:47\\n→ a126sam01:XX 05/28 21:13\\n噓 jaid:XX 05/29 01:29\\n噓 lf9nettw:                                 我明天要決一死戰 05/29 03:58\\n噓 stevenboy320:朝聖噓 05/29 04:53\\n推 qoomilk:只會算一的好弱唷 我會算64.729等等 05/29 13:36\\n推 sc321:這片明顯是看動畫聽歌的啊 有人期待劇情喔 05/29 14:01\\n噓 lf9nettw:... 05/29 19:42\\n噓 jaid:WTF 05/29 22:55\\n噓 andy90498:mission complete 05/29 23:32\\n噓 wakaul:這啥 05/29 23:32\\n→ wakaul:2014.5.29 05/29 23:33\\n噓 lf9nettw:XX達成 05/30 16:28\\n推 future108:ㄏㄏ 05/30 17:23\\n噓 lf9nettw:... 05/30 17:25\\n噓 wcontainer:幹 05/30 18:31\\n噓 wcontainer:抄幹 05/30 18:31\\n噓 a126sam01:XX哈哈哈 05/30 23:18\\n推 hateOnas:XDDDD 05/30 23:43\\n噓 wcontainer:笑屁 05/31 00:17\\n噓 andy90498:太太 偶洗翻你 05/31 00:48\\n噓 wcontainer:幹 好煩 怎麼會令人厭惡的嘴臉啊幹 05/31 09:48\\n→ wcontainer:              有   那麼 05/31 09:49\\n→ hateOnas:第一 05/31 14:26\\n→ hateOnas:刀 05/31 14:31\\n推 hateOnas:  因為你討厭                                      他 05/31 14:57\\n噓 lf9nettw:賣鬧啊 05/31 23:41\\n推 iamgaylan:這裡是置頂聊天室嗎 06/01 00:52\\n推 hateOnas:不是 06/01 01:06\\n噓 jaid:置頂約炮區^.< 06/01 01:07\\n→ wcontainer:原來你住在台東啊 好想去台東啊＞＜～ 06/01 02:29\\n推 hateOnas:來啊 06/01 09:26\\n推 hateOnas:    狠漂亮 06/01 09:48\\n→ wcontainer:騙人 你明明就住南港/汐止！！ 06/01 13:56\\n推 zerosin:看看kurtc 06/01 15:10\\n推 wcontainer:心情好糟 為什麼有人永遠不會覺得自己有錯 06/01 18:13\\n→ wcontainer:為什麼可以這麼心安理得啊幹 06/01 18:15\\n→ wcontainer:沒有任何事能讓她感到羞愧 06/01 18:28\\n噓 lf9nettw:.. 06/01 23:44\\n→ lf9nettw:   幹嘛那麼冷淡.. 06/01 23:45\\n噓 jaid:嗚嗚 06/02 00:13\\n噓 lf9nettw:                                怎麼都跟那種貨色打交 06/02 14:48\\n→ lf9nettw:                                                   道 06/02 14:48\\n推 mobley2005:2014/06/02 三哥之亂紀念 06/03 01:09\\n推 hateOnas:日租也是住啊  我淡泊名利 四海為家 隨風而來 隨風而去 06/03 13:16\\n→ hateOnas:飄~~~~~~~~~~~~~~~~~~~~~~~~~~~~~~ 06/03 13:16\\n推 magi3Q:哈 06/03 15:03\\n噓 andy90498:我要生氣了 06/03 17:56\\n噓 ltameion:=====================還我青蛙人====================== 06/03 22:52\\n噓 lf9nettw: XX 06/04 00:14\\n噓 god060119:>-Ommmmmmmmmmmmmmmmmmmmmmmmmmmmmmmmmmmmmmmmmmmmmmmmm 06/04 00:25\\n噓 lf9nettw: XX 06/04 01:19\\n噓 lf9nettw:版主亂砍我文 噓文以誌之 06/04 02:59\\n推 hateOnas:有亂砍嗎? 06/04 09:49\\n推 hateOnas:                    青蛙人在精華區 06/04 10:40\\n推 iefkevin:越來越廉價了www 06/04 13:32\\n噓 lf9nettw:                      seen 06/04 15:17\\n→ lf9nettw:    拜託宿舍別重抽 06/04 15:18\\n檔案過大！部分文章無法顯示推 tommy134075: 2021/05/30朝聖  114.47.125.65 05/30 00:46\\n推 ararar: 他可以 你不行   1.171.25.115 05/30 00:53\\n→ dreamsaint: 朕不給的。你不可以要  114.27.46.220 05/30 14:38\\n推 holmes006: 推起來，垃圾政府 123.110.97.196 05/31 08:58\\n推 rickey1270: 他很早很早很早就說過他老闆是陳明文  101.9.239.128 06/01 06:01\\n→ rickey1270: 了……  101.9.239.128 06/01 06:01\\n推 en90508: 還以為是期程表，結果還是一堆空話  101.12.22.127 06/01 06:49\\n噓 r250fx: 2009年是DPP在認吱作戰  211.20.19.125 06/01 13:39\\n推 YUreo: 2021還在看的+1   112.78.85.85 06/01 18:42\\n推 w7402wone: http://i.imgur.com/ffQ6li9.jpg123.192.188.179 06/01 20:32\\n→ asd7765889: 瘋狂雙標 現代倉頡   1.200.67.125 06/02 12:01\\n噓 SSCSFE: 媽我在這220.142.167.145 06/04 09:55\\n推 Evoque: 保重  61.231.67.184 06/04 20:48\\n噓 god2: 然後嘲笑餿水的人，要餵你吃毒藥111.241.128.227 06/04 23:27\\n推 mgntcn: https://youtu.be/yp6btJhS66c    1.161.222.3 06/05 02:33\\n推 mgntcn: https://tinyurl.com/yu4cthxs    1.161.222.3 06/05 02:39\\n推 jerryyuan: 昨天才在發文耍腦殘，可喜可賀？  223.138.99.15 06/05 11:47\\n推 r250fx: 政客牙醫   101.12.17.77 06/05 13:01\\n噓 NoboTaka: \\u3000學長好  120.113.184.1 06/05 18:44\\n推 ice0101001: 結果看1450自導自演崩潰也好笑111.250.124.157 06/06 18:11\\n→ paul10404: 高端股東自救會？ 211.20.119.237 06/07 16:10\\n推 Yelich: 艾莉莎莎的學姐不意外 118.165.33.158 06/07 19:02\\n推 ptychodera: 身邊3x歲一堆 現在依然上班群聚 49.199.124.210 06/08 10:57\\n噓 r250fx: 反觀 123.193.195.76 06/08 12:15\\n噓 conanhide: 這邊是時光機118.163.124.163 06/08 12:33\\n推 tim96tim: 認吱作戰  60.250.28.120 06/09 11:32\\n推 stinkytaro: 暗示你準備300萬^__^ 223.140.110.11 06/09 13:47\\n推 wind1729: 柯p當選  1.162.170.240 06/09 19:45\\n噓 howard812: 噁心的一堆人 27.247.192.255 06/09 21:00\\n→ paufan: 台灣人一夕之間全消失...只留下政客跟時鐘111.240.174.185 06/09 21:34\\n推 rzao: 看好了世界 超前佈署一年 什麼都缺995 223.136.43.239 06/10 07:10\\n噓 lupolewis: 我四趴 怎摸打可以優先？ 59.125.222.130 06/10 10:30\\n噓 r250fx: 死一死好了 123.193.195.24 06/10 13:53\\n噓 giaour: http://i.imgur.com/Yh769yD.jpg112.104.107.222 06/11 01:47\\n→ WBat: 很奢侈，但現在對自己好一點！  1.200.125.125 06/11 12:55\\n→ darama: 趕快下臺換人  107.3.166.208 06/11 17:16\\n推 rock74228: 南部人有台灣價值當然先救嘍   42.76.72.178 06/12 17:00\\n推 VirgilAeneid: https://reurl.cc/Q9bljO  67.169.164.13 06/13 15:54\\n推 nekomo: 高端的股票吧？   111.248.93.8 06/14 00:48\\n→ MKIU: 0.0114.137.104.203 06/14 21:29\\n→ bitcch: 所以真的在搞網路戰啊 49.216.228.147 06/15 02:10\\n推 k2450: 打高端的出事國民黨會教訓民進黨   42.72.137.18 06/15 16:57\\n推 fulongb210f: 老人關我屁事，到底我的疫苗在哪？？101.137.217.126 06/16 09:16\\n推 SSCSFE: 媽我在這220.142.167.169 06/17 07:48\\n噓 algebraic: ????  118.160.75.99 06/17 18:21\\n→ Brotherone: 垃圾陳時中125.230.151.253 06/19 09:51\\n→ SWORDKISS: 垃你媽 111.251.180.56 06/20 14:54\\n噓 SSCSFE: 呀比!!  114.47.116.40 06/21 13:16\\n推 therika: https://i.imgur.com/fZ7Z0Lh.jpg   220.143.65.1 06/22 23:56\\n噓 jab: 兩個政治腦 點個外送打屁不好嗎 36.226.232.192 06/24 15:21\\n噓 giaour: 標題  101.10.10.209 06/26 16:59\\n推 imhsian: 朝聖推 123.194.188.22 06/27 01:51\\n噓 swaswaky: 是想編預算綁樁吧  114.43.47.171 06/30 12:50\\n噓 coolhidekimo: 你嗆他那麼老了怎麼還單身沒小孩 他  101.10.44.125 07/01 17:46\\n→ coolhidekimo: 就會哭哭變弱勢了 女權自助餐真好吃  101.10.44.125 07/01 17:46\\n推 KINGWAP: 閃尿A甲賽 變閃賽  220.129.59.39 07/02 18:53\\n推 F57: 註冊到現在十幾快二十了 紀念一下220.132.230.183 07/02 23:19\\n推 kci9kimo: 好奇問一下, 用手機跳到這篇的人多嗎?  1.171.123.135 07/04 23:26\\n→ eereer12325: 手機不能跳吧?   1.163.11.244 07/05 07:43\\n噓 xiemh420: 進來時空隧道了嗎？ 2021朝聖   114.24.16.53 07/05 09:04\\n噓 george35157: test 175.180.79.177 07/06 00:28\\n噓 u943143: 关我屁事   61.223.2.174 07/06 15:16\\n噓 bighorse0: 還有人問耶  220.140.15.88 07/11 11:50\\n推 zaggoo: 為啥是2005年不是1995年 我菜雞  111.71.29.243 07/11 11:52\\n→ cwh0105: 笑死140.112.247.170 07/11 11:57\\n推 gc1319: 我是誰    1.170.37.96 07/13 20:46\\n推 jj89066: 啥  61.222.87.163 07/15 14:08\\n→ q12341234: 還是看高雄的發展 流口水？ 219.85.142.196 07/20 22:49\\n→ flyxoao: 的老師呢？  101.10.21.131 07/22 20:56\\n推 liang089790: 可以  49.217.129.11 07/25 16:37\\n→ WiserWilly: DDD神串流名~ 123.193.195.89 07/25 21:10\\n推 WiserWilly: ,s 123.193.195.89 07/26 01:19\\n推 giaour: http://i.imgur.com/bQX7Rma.jpg112.104.175.134 08/02 01:38\\n推 Ping666: 朝聖   1.164.82.119 08/02 17:31\\n推 Julian9x9x9: 又舔、又舔！又…又！舔！嘴！唇！  111.241.64.46 08/02 22:50\\n噓 ad21120903: 噁心的操作  114.35.84.240 08/04 10:34\\n推 intela: 媽 我在這!!!  114.43.86.131 08/07 19:55\\n噓 MikuLover: https://i.imgur.com/V1fClMP.gif  114.40.53.146 08/08 19:22\\n推 david520b: 有啪啪啪就賺啦  59.124.88.127 08/10 19:59\\n推 gtrx: 紀念一下   203.69.207.7 08/16 10:50\\n噓 qwedsazxc: @@@@@@@@@@@@@@@@@@@@@@@@@@@@@@@@@@@@   223.200.89.7 08/16 14:26\\n→ hateOnas: 朝聖   118.166.33.3 08/17 17:15\\n推 TellthEtRee: 那走私人類可以安樂死嗎 這樣就不用 223.141.61.172 08/21 17:55\\n→ TellthEtRee: 特地去瑞士了 223.141.61.172 08/21 17:55\\n推 WiserWilly: 乾現在被強迫要打高端爛疫苗了嗎? 123.193.195.89 08/22 22:43\\n噓 cyc8071: 幹   42.73.91.145 08/23 20:59\\n→ ericpan6868: 4%仔 36.230.200.209 08/24 10:39\\n推 WiserWilly: 有人打高端隔天死翹翹了，還被說心梗 123.193.195.89 08/24 22:12\\n→ gn134679: 民進黨是垃圾黨123.194.115.161 08/30 03:51\\n噓 liang089790: 塔綠班專業班 49.217.193.216 08/30 16:17\\n→ hateOnas: 朝聖  111.250.1.201 08/30 18:21\\n推 HaDoCk987: 神串留名  219.71.90.217 08/30 19:33\\n推 u943143: 台灣人勇於冒險，死不認錯，好騙難教！  122.118.37.24 08/31 08:25\\n→ WTF1111: 雖然我藏在大包面紙裡面帶進去了 114.136.205.46 09/05 02:58\\n→ pengjoker: □█□█□█□█□█□█□█  180.177.25.43 09/05 17:00\\n→ Andrew90: 當時180例的前一天就說炸裂了....  1.173.224.224 09/06 12:02\\n推 freedomZ: 八卦失智列車又翻車啦！！   101.9.97.121 09/06 22:06\\n→ ann141414: 簽到140.118.145.101 09/10 16:49\\n推 henryrita: 朝聖 61.231.115.173 09/13 18:58\\n噓 cyc8071: 幹220.138.154.162 09/15 06:03\\n推 jimmy12332: yare yare(茶  27.246.98.168 09/15 18:18\\n推 achun1212: 目？  101.10.14.247 09/17 13:35\\n推 weeklyquiz: 歷史悠久 感動  101.10.93.133 09/23 10:26\\n→ hinajian:                                 2021/ 111.255.110.34 09/26 01:31\\n→ hinajian: 十幾年前和十幾年後八卦版差真多 111.255.110.34 09/26 01:32\\n→ hinajian: 以前是噁心得可愛 現在是噁心得可憎 111.255.110.34 09/26 01:33\\n噓 andy90498: ar /ubc /redm  呵呵 不要忘記是這些板123.204.231.208 09/26 13:00\\n→ andy90498: 主造成的123.204.231.208 09/26 13:00\\n噓 dianalf: 10月簽到 雖然已經5號了 嘻   61.218.0.214 10/05 10:11\\n噓 cyc8071: 森77  117.56.232.13 10/06 19:15\\n噓 cp091hat: 這是幾年前的物價180.217.131.174 10/07 15:07\\n噓 cyc8071: 一碗20   117.56.233.7 10/08 20:54\\n推 scoy: 四度空間裡面有一個神秘的魔法高塔是銀水的 211.75.132.177 10/10 14:42\\n→ scoy: 家 211.75.132.177 10/10 14:43\\n噓 jaid: 好久沒來窩= = 138.229.244.12 10/10 16:01\\n推 stevenjeff: 有人跟我一樣都尿在洗手台嗎  114.40.89.239 10/11 00:44\\n噓 liang089790: 123 大家嘲笑塔綠班  49.217.83.168 10/12 13:18\\n推 scoy: 我好想要一隻iPhone 13Pro喔by銀水 211.75.132.175 10/12 17:01\\n推 srasn: 現在的臺灣又民不聊生了  59.120.74.153 10/13 12:22\\n推 scoy: 天殘武祖的絕招是驚天六十四式+34+二符號 211.75.132.179 10/16 09:23\\n噓 NoboTaka: 2021-10-20 140.116.189.15 10/20 02:32\\n噓 liang089790: 線民來了 49.217.135.140 10/21 13:11\\n推 Miyanishi25: 2021/10/23 湖人輸球就是爽 RMBJ哭喔123.192.188.117 10/23 21:09\\n推 ssisters: 多國？ 哪多國？ 中華民國？台灣？中華 223.138.177.23 10/25 22:52\\n→ ssisters: 民國台灣？中華台北？中國台北？中國台 223.138.177.23 10/25 22:52\\n→ ssisters: 灣？ 223.138.177.23 10/25 22:53\\n噓 liang089790: 塔綠班母猪 49.217.201.129 10/27 15:59\\n噓 liang089790: 塔綠班母猪 49.217.201.129 10/27 16:01\\n噓 liang089790: 塔綠班 49.217.201.129 10/27 16:03\\n噓 andy90498: 某隻蟑螂很不要臉的跑去申請小組長 笑    39.8.162.40 10/29 17:30\\n→ andy90498: 死    39.8.162.40 10/29 17:30\\n→ pengjoker: 買套裝桌機會很盤嗎  180.177.25.43 10/30 01:27\\n→ andy90498: 如果你不懂電腦的話 不會 因為套裝機123.204.231.208 10/30 01:38\\n→ andy90498: 包維修 包詢問 對不懂電腦的來說反而123.204.231.208 10/30 01:38\\n→ andy90498: 方便  自己DIY配單的話 如果電腦出現123.204.231.208 10/30 01:39\\n→ andy90498: 問題 損失的人力、時間不見得划算123.204.231.208 10/30 01:40\\n→ andy90498: 當然你會自己簡易排修的話 DIY比較省錢123.204.231.208 10/30 01:41\\n→ andy90498: 舉個例子 在外面重灌公道價800123.204.231.208 10/30 01:42\\n→ andy90498: 套裝機保固內免費 自己來免費 但你會嗎123.204.231.208 10/30 01:42\\n→ andy90498: 在外面 不管要不要修 檢查問題就先300123.204.231.208 10/30 01:43\\n→ andy90498: 比較黑心的敲你盤子 只是看一下就600123.204.231.208 10/30 01:44\\n→ andy90498: 套裝機保固內 免費123.204.231.208 10/30 01:44\\n→ andy90498: 你就把套裝機比DIY多付的那些錢當成買123.204.231.208 10/30 01:45\\n→ andy90498: 產品保險 這樣就容易分辨了123.204.231.208 10/30 01:45\\n→ andy90498: 而且外面那些私人的小工作室 你對他沒123.204.231.208 10/30 01:47\\n噓 andy90498: 有任何疑慮嗎? 例如趁機偷換你的配備123.204.231.208 10/30 01:49\\n→ andy90498: 但因為你不懂 你也不會檢查123.204.231.208 10/30 01:49\\n噓 liang089790: 好的 塔綠班 49.217.201.226 10/30 13:28\\n噓 liang089790: 好的 塔綠班 49.217.201.226 10/30 13:30\\n噓 godzillalala: 他這種身材，我想他現在也沒在注意   39.9.192.126 10/30 15:07\\n→ godzillalala: 心臟問題吧！   39.9.192.126 10/30 15:07\\n→ pengjoker: 好吧QQ  180.177.25.43 10/30 16:00\\n推 cyc8071: QQ   117.56.233.7 11/05 16:15\\n推 Julian9x9x9: 今天我生日ㄛ   39.8.133.151 11/12 05:44\\n噓 scoy: 四度空間重開後你的main char腳色名稱 211.75.132.177 11/19 09:01\\n推 stevenjeff: https://i.imgur.com/AsloTDD.png   42.75.108.85 11/20 23:49\\n推 shidaeun: 按    39.10.2.136 11/21 20:29\\n→ ChangWufei: 塔綠斑  1.172.221.146 11/22 15:53\\n推 Benbenyale: 今年第二次寒流? 61.228.203.209 12/02 07:26\\n噓 superfoxy: 翅膀硬了 被當尿壺 125.228.93.146 12/04 13:08\\n噓 liang089790: 事實勝於雄辯 49.217.132.190 12/08 15:20\\n→ jack91502: 八卦變成五毛的灘頭堡 114.38.186.224 12/08 19:32\\n推 howsmumu: 就像前面這種愛罵又愛用的塔綠班阿 114.38.187.132 12/08 19:56\\n噓 andy90498: 板主就是內應啊ㄏ 110.30.112.205 12/08 19:56\\n推 handsome6115: g  1.175.145.244 12/08 20:29\\n→ jimmy801017: 盧溝橋事變翻版 114.38.181.171 12/08 20:33\\n→ hank80208: 共產黨員最痛恨ptt惹 什麼顏色的不好  114.26.136.95 12/08 21:28\\n噓 kktofu211: 所有貸款結婚的債你要幫忙出嗎？   111.82.39.61 12/16 11:58\\n推 WiserWilly: 幫你出幹嘛，你老婆跟我結婚是不是? 123.193.195.89 12/16 23:41\\n推 WiserWilly: 2025年聖誕節要幹嘛阿？ 123.193.195.89 12/16 23:44\\n推 WiserWilly: 2021民進黨買名嘴上電視亂說、買電視 123.193.195.89 12/19 14:15\\n→ WiserWilly: 台、買新聞、買臉書粉絲團貼圖、買網 123.193.195.89 12/19 14:15\\n→ WiserWilly: 軍、用政府錢跟資源動員，洗腦人民投 123.193.195.89 12/19 14:15\\n→ WiserWilly: 下四個不同意，很多台南高雄人沒判斷 123.193.195.89 12/19 14:16\\n→ WiserWilly: 力就投下去(我知道吃糖會變笨)，最後 123.193.195.89 12/19 14:16\\n→ WiserWilly: 要台灣放棄3000億核四，要破壞藻礁、 123.193.195.89 12/19 14:16\\n→ WiserWilly: 要餵台灣人吃萊豬，已經四年了 123.193.195.89 12/19 14:16\\n推 Kissess: 不相關的話題滾出去啦 49.216.233.206 12/19 21:40\\n推 poba8506: Nice try   110.30.96.98 12/20 20:58\\n推 ILoveMiku: https://i.imgur.com/T4DKIKi.jpg 114.35.146.152 12/21 22:24\\n推 liang089790: 就罷你 閃尿逃兵仔223.141.234.250 12/22 08:00\\n推 kkabcd: hi    1.162.66.87 12/22 11:55\\n推 TaraSoYeon: YEAH  111.252.59.47 12/23 10:38\\n推 w7402wone: http://i.imgur.com/OmTeMDS.jpg  110.26.160.68 12/24 09:10\\n噓 CRXD: 一定假的 到時候又出來痠市長118.232.178.143 12/27 19:02\\n噓 algebraic: 喔  118.160.69.12 12/27 21:30\\n→ Benbenyale: 2021再見  61.228.186.58 12/31 23:15\\n推 Ding1990: 2022第一 220.128.199.99 01/01 19:15\\n噓 add20716: 敗壞八卦版敗壞PTT的柯韓吃屎  36.231.48.161 01/07 12:57\\n→ waijr: 已經用選票證明了 萬華才是破口 27.246.195.194 01/10 12:07\\n推 zaqimon: 聽說以前牽鉤仔買賣土地抽3成  112.78.77.180 01/13 19:55\\n→ MikuLover: 觀自在菩薩，行深般若波羅蜜多時，照見  114.40.33.114 01/18 23:52\\n→ MikuLover: 五蘊皆空，度一切苦厄。舍利子，色不異  114.40.33.114 01/18 23:52\\n→ MikuLover: 空，空不異色；色即是空，空即是色。受  114.40.33.114 01/18 23:52\\n→ B0858B: #1Wk3yM7o (Tech_Job)123.194.153.108 01/29 12:25\\n→ B0858B: https://i.imgur.com/Lr5NIY2.jpg123.194.153.108 01/29 12:25\\n噓 gn134679: 民進黨幹你娘的垃圾黨123.194.115.161 02/02 05:29\\n→ MikuLover: https://i.imgur.com/XVn5Scb.png  114.40.87.160 02/04 01:48\\n→ leftavoid: 0.0  61.57.110.226 02/04 10:40\\n推 zxc15793: 要開工囉~ ya 111.248.61.222 02/06 19:33\\n推 u943143: 測試  114.46.42.249 02/09 22:29\\n→ MikuLover: https://i.imgur.com/Fd26Hs3.png  114.40.80.147 02/10 04:09\\n噓 u943143: 測試 122.118.39.223 02/10 08:45\\n→ sirius65482: test111.253.239.215 02/17 13:49\\n推 arthur61106: 想我嗎各位  114.36.236.51 02/20 12:52\\n噓 andy90498: 濾波器還在  27.246.75.120 02/20 14:29\\n推 mi000731: 已經直播影片了還假新聞？101.137.225.192 02/25 11:12\\n推 arthur61106: 安迪 好猛==   61.230.90.13 02/25 23:29\\n噓 andy90498: 其實我有用LINE機器人推播這一篇123.204.231.208 02/26 22:03\\n→ andy90498: 不然我現在也不會來這裡了123.204.231.208 02/26 22:03\\n噓 sense5566:   36.234.36.91 02/27 21:02\\n噓 algebraic: 嘔嘔嘔 118.160.58.228 03/01 23:42\\n噓 andy90498: 奈奈 好久不見123.204.231.208 03/02 03:55\\n→ pengjoker: 想吃燒烤  180.177.24.20 03/06 16:07\\n噓 andy90498: 我喜歡吃的那間去年就倒了123.204.231.208 03/07 20:28\\n噓 arthur61106: 安迪都不跟我吃==  61.230.66.190 03/07 23:29\\n噓 xoxo8: 好的蔣介石同路人  210.64.71.113 03/11 17:35\\n推 taimu: 好煩阿好煩阿 36.232.128.167 03/12 07:03\\n推 DDRMIX: 檢舉達人 114.46.125.232 03/18 01:20\\n噓 saobox: 洞三小 114.136.85.115 03/19 23:24\\n噓 andy90498: 濾波器你不4在豬屎屋上班ㄇ 因該沒時間123.204.231.208 03/21 18:58\\n→ andy90498: 作上班以外的事情8123.204.231.208 03/21 18:58\\n推 wl01663863: g  111.253.9.129 03/22 23:49\\n→ newline: 三立是很討厭她嗎  故意出這個新聞黑她118.163.108.116 03/24 09:59\\n→ zzzzaaaa: 6戶 又在打假球騙騙民眾有在打房   42.75.25.107 03/24 20:17\\n→ pengjoker: 又有同事離職了 佩服他們的勇氣  180.177.24.20 03/26 03:09\\n噓 jaid: 好久不見  220.135.57.62 03/28 14:09\\n噓 arthur61106: 為什麼ㄋ知道  肉搜我??     61.230.7.2 04/06 00:34\\n噓 andy90498: 應為ㄋ之前的暱稱叫做U文豬屎屋阿123.204.231.208 04/06 00:55\\n推 xaxa0101: 中國人的狼性真可怕   27.51.74.174 04/12 11:21\\n噓 andy90498: 給z 你的好朋友在檢舉版被人檢舉了==123.204.231.208 04/18 09:05\\n噓 heartnet19: DPP錢最多  61.230.32.208 04/18 16:31\\n推 minishubi: 推起來 推到爆  36.235.12.143 04/18 17:03\\n推 fred2133: 錢    1.168.4.237 04/22 21:42\\n推 u943143: 賴皮要賴到底阿 今天乾脆取消算了 122.118.70.172 04/25 16:45\\n推 brisyeh: 塔綠班的洗腦成功，民主政治的悲哀，愚 223.137.77.241 05/01 07:51\\n→ brisyeh: 民政治。 223.137.77.241 05/01 07:51\\n噓 z5262001: 為啥不講自己有沒有打疫苗    39.13.3.233 05/08 09:59\\n→ HCTL: 身為甲不噁心，變成某族群打手才是真正噁心    39.8.67.141 05/11 22:53\\n推 aa2294: 快笑死了就喜歡阿北這麼嗆   36.227.154.3 05/13 18:02\\n噓 andy90498: 你是說那隻蟑螂嗎123.204.231.208 05/16 21:02\\n推 steven24205: 推 116.241.131.38 05/17 08:14\\n→ sense5566: 台中燒烤很多欸  114.41.147.30 05/23 03:50\\n推 PTTAce: 朝聖    49.215.11.9 05/25 08:01\\n推 e761031: 推  36.232.174.99 05/25 09:13\\n推 Ray1018: 所以我說那個影片呢？    42.73.74.30 05/27 22:39\\n推 ChangWufei: TEST   1.172.193.48 05/29 17:51\\n推 Levesque: 上進的男生會希望有小孩，不會想娶她吧  1.200.245.209 05/30 16:14\\n噓 u943143: 還我建中青蛙人  122.118.72.23 05/31 11:26\\n推 arthur61106: 安迪怎知道ㄉ 偷窺？？？ 114.36.233.196 06/01 14:48\\n推 ChangWufei: TEST   1.172.203.21 06/03 00:56\\n推 ganlinlowsu: 幹到底有多長  112.78.68.252 06/06 12:13\\n推 hateOnas: ?   1.162.90.154 06/06 17:10\\n噓 andy90498: = = 就Q而已 哪有算偷窺123.204.231.208 06/06 20:29\\n噓 andy90498: 給Z 你好朋友又被檢舉了喇123.204.231.208 06/06 20:32\\n噓 NGC3132: 不要搞笑啦，全台灣最大規模的wifi系統之  114.36.35.164 06/07 03:27\\n→ NGC3132: 一，就是掛在國發會(舊稱研考會)底下的iT  114.36.35.164 06/07 03:28\\n→ NGC3132: aiwan啦…  114.36.35.164 06/07 03:28\\n→ NGC3132: 不信的話，去公家單位或郵局，用iTaiwan  114.36.35.164 06/07 03:28\\n→ NGC3132: 上ptt，再來看看自己的ip長什麼樣子…  114.36.35.164 06/07 03:28\\n推 ArSaBuLu: 啾到被罵才說明 起身就走嘆無情  36.226.117.75 06/12 20:12\\n→ MKIU: http://i.imgur.com/KUaTGqi.jpg  笑死  42.75.216.254 06/13 21:47\\n噓 Mews: 陳給Z 給我出來  61.227.237.85 06/17 16:31\\n噓 andy90498: 海鳥好神== 給Z出不來啦 他被退註的樣   27.242.38.35 06/17 16:49\\n→ andy90498: 子   27.242.38.35 06/17 16:49\\n噓 Leibniz5566: 猴痘啦幹  220.141.20.22 06/25 19:07\\n推 cutehale: 不是選好，是選那個黨220.132.150.136 06/27 20:37\\n推 a803108: 連民主直選東歐不敢辦的獨裁國家說民主冑 123.194.154.71 06/27 22:02\\n噓 qwedsazxc: 1110628    117.56.44.1 06/28 15:19\\n噓 algebraic: 柯文哲不意外 118.169.235.55 06/29 12:14\\n→ MikuLover: https://i.imgur.com/61ZwpaQ.jpg  114.40.56.117 07/03 20:45\\n→ lineage610: 國民黨網軍又來反串  49.217.66.146 07/10 14:12\\n→ tctv2002: 他只是個傀儡而已 黨要他吃屎也會跟著吃223.137.155.141 07/15 19:02\\n推 abcde12345: 2022/07/27 163.25.110.134 07/27 16:25\\n推 dos01: 窩ㄉ好ㄆ由早就被退註很久了 出不來啦  182.155.78.98 07/27 22:26\\n噓 andy90498: 那個不是重送註冊單就好嗎    27.51.73.43 07/27 22:29\\n噓 Mews: 陳給Ｚ你終於肯出現了喔\\u3000 61.227.156.203 07/28 14:29\\n噓 dos01: 誰跟你出現  182.155.78.98 07/30 01:01\\n噓 cyc8071: B嘴拉   117.56.233.7 07/31 20:23\\n→ ChenDotQ: 4x 怎麼還不退出ptt，人緣都那麼差了   49.217.0.122 07/31 20:35\\n噓 andy90498: 被網軍討厭的話 蠻榮耀的吧123.204.231.208 07/31 20:49\\n噓 sense5566: 紅喜氣 睡不好  36.234.28.164 08/03 03:35\\n噓 skyyo: ★左♠右♥逢♦源♣   39.11.134.74 08/03 21:38\\n推 aiotsuka611: 我今天離職了 爽220.130.253.192 08/05 15:07\\n噓 pengjoker: 羨慕  180.177.24.43 08/07 16:44\\n噓 andy90498: Gakki呢   27.52.170.19 08/07 17:39\\n推 m54k600ive80: gogoegg   114.36.75.79 08/08 19:36\\n噓 Mews: 陳給Ｚ你變了 ４８４交到壞朋友 61.227.189.238 08/09 17:14\\n推 fakon: 志堅綠能碩士gg  163.25.119.95 08/10 13:44\\n噓 pavaro: 瑋豐變化很快 一堆支那豬還跟著洗 白癡 101.137.36.245 08/10 22:27\\n噓 dos01: 我，就是壞朋友  182.155.78.98 08/11 01:22\\n噓 sense5566: 期待是沒有意義的  36.234.28.114 08/16 02:07\\n噓 u943143: ®  122.118.67.72 08/16 14:35\\n推 steven24205: 推 116.241.131.38 08/19 01:36\\n推 Miyanishi25: 好想拉屎123.192.188.117 08/21 23:08\\n推 u943143: 外逸監啦  什麼外役監 122.118.69.106 08/25 13:27\\n推 z22771187: 死刑！死刑！死刑！死刑！死刑！死刑！  114.32.159.49 08/26 23:42\\n推 NTPUpigeyes: 2022年9月第一推！  61.220.200.53 09/09 17:44\\n→ Mews: 陳給Ｚ\\u3000上線 61.227.219.196 09/15 16:48\\n噓 andy90498: 豪  203.69.29.170 09/16 18:32\\n推 genie529: 地震!! 111.253.40.229 09/17 23:07\\n→ pengjoker: 想買很貴的床墊  180.177.24.43 09/18 16:58\\n噓 kjfd: 很忙223.140.173.183 09/19 12:55\\n推 minlove34: 床墊要推席夢思    61.216.0.57 09/20 16:53\\n→ MikuLover: https://i.imgur.com/2ceFsuz.jpg  36.239.17.213 09/21 01:57\\n噓 Mews: 我與陳給Z不相見已有二年餘了 61.227.173.143 09/28 10:02\\n推 dos01: 最好有這麼久= =  182.155.78.98 09/30 17:11\\n噓 Mews: 陳給Z靠股市賺了好幾棟房 就忘了過去種種嗎 61.227.238.234 10/05 16:52\\n推 dos01: 誰跟你好幾棟= =  182.155.78.98 10/08 16:26\\n→ dos01: 而且今年沒去年好賺了  182.155.78.98 10/08 16:27\\n噓 andy90498:  119.14.167.23 10/09 00:12\\n噓 andy90498:  119.14.167.23 10/09 00:14\\n→ sirius65482: ☽  114.41.46.177 10/09 16:24\\n推 boyawake: ……這學者的學位是怎麼拿到的……那照 123.194.157.21 10/09 21:06\\n→ boyawake: 這樣說，蔡英文有事就不回應躲起來，不 123.194.157.21 10/09 21:06\\n→ boyawake: 就更貼近他說的情況 123.194.157.21 10/09 21:07\\n→ boyawake: 三立就是一直玩這種招數玩到讓人看不起 123.194.157.21 10/09 21:07\\n→ boyawake: 就是了？ 123.194.157.21 10/09 21:08\\n噓 Mews: 陳給Z何時才要邀我去你七期的新家坐坐？ 61.227.173.199 10/11 08:52\\n噓 andy90498:  119.14.167.23 10/11 09:01\\n噓 andy90498: 我也要  119.14.166.95 10/16 00:56\\n→ MKIU: ▲⊿◤◣▶◤◤◥△◥◤◥▶◤▲⊿◤◤◤◤218.164.155.155 10/30 00:02\\n噓 ppifer: https://imgur.com/gallery/EnzfbMj 111.83.112.187 11/18 07:02\\n噓 playkill: 卡 118.163.126.75 11/19 01:06\\n噓 sylvesterleo: 想點她 價位？  180.176.58.46 11/24 20:49\\n→ rob666:   ╭───╮  59.124.166.19 11/25 14:44\\n→ VRadmanovic: 穩到不行 218.35.163.244 11/26 19:30\\n→ VRadmanovic: 穩到不行 218.35.163.244 11/26 19:31\\n推 yankae: 20221126朝聖!   114.45.219.1 11/26 20:29\\n推 wed1979: 每個人都要簽一份不急救聲明，救回來等於 101.138.145.63 11/28 09:59\\n→ wed1979: 整個家沒救了 101.138.145.63 11/28 09:59\\n推 picacuo: https://reurl.cc/jRQgrL114.136.186.117 12/01 19:41\\n推 luming: 2022.12.02 想到第一次上ptt是2005年...  114.40.243.75 12/02 21:14\\n噓 sense5566: -.-   36.234.15.49 12/12 06:10\\n推 a803108: 八卦已經是五毛的形狀了114.136.220.111 12/23 13:46\\n→ hateOnas: QQ   1.162.19.133 12/23 21:40\\n噓 cyc8071: 斑斑呢220.138.154.252 12/25 23:16\\n→ gogoegg: 20221231   明年再見   1.200.81.130 12/31 13:04\\n推 snsdakb48: 2050.01.01簽 220.136.32.196 01/01 00:04\\n推 sense5566: 給力新年快樂  49.217.196.12 01/01 02:30\\n推 nihow78: 做一個台灣道路殺人特輯 中英日韓大放送  101.9.129.143 01/01 23:06\\n推 goodtvtv: 呱呱 125.230.71.227 01/04 02:09\\n噓 andy90498: 班班不見了：（123.204.231.208 01/05 22:47\\n噓 sense5566: 睡不著   36.234.14.83 01/08 06:16\\n推 eggjeffrey: 論文抄襲如果有法律責任 楊早陪小智在  114.137.14.39 01/10 16:21\\n→ eggjeffrey: 土城了 還有臉在那邊護航垃圾工程  114.137.14.39 01/10 16:21\\n推 u943143: 顆顆 哪天大腸桿菌超標 店家說你杯子 122.118.66.209 01/12 15:51\\n→ u943143: 客人說你飲料 兩邊互推有問題 122.118.66.209 01/12 15:51\\n噓 dawn5566: 20230130 這篇推文好混亂 XDDDD   60.249.6.136 01/30 15:43\\n推 greensdream: https://reurl.cc/MXaQnW  211.76.66.228 01/31 04:22\\n→ minipopy0314: 媽我在這    61.221.66.6 02/08 10:21\\n推 u943143: 笑死 沒食慾減肥剛好啦 臭肥宅 122.118.65.217 02/24 14:21\\n噓 puffpuffpass: https://i.imgur.com/YYvPV3a.jpg 219.70.103.119 03/04 13:20\\n→ puffpuffpass: Finesseboy噓你 219.70.103.119 03/04 13:21\\n推 nangnoi: 雙北病媒蟲害 冷氣清洗 站內信 給你好價!123.194.208.202 03/11 01:00\\n→ zxc17893: 幹你娘182.234.160.141 03/15 23:26\\n噓 sense5566: 是不是消失就一切都沒事了125.230.139.113 03/18 01:23\\n噓 arthur61106: andyㄋ 36.227.218.228 03/18 14:10\\n噓 andy90498: 示波器我在上班~\"~   奈奈加油  119.14.166.95 03/18 15:04\\n噓 sense5566: 逃避雖可恥但有用125.230.139.113 03/18 20:22\\n噓 andy90498: 記得還可以上來發廢文也不錯  119.14.166.95 03/19 21:06\\n→ mod980: 2222222222  36.226.228.92 03/31 19:56\\n推 FannWong: 發6000囉~   1.165.48.247 04/01 13:27\\n推 steven24205: 推  185.213.82.46 04/06 13:34\\n推 steven24205: 推  185.213.82.46 04/06 13:35\\n噓 algebraic: ???118.169.228.204 04/09 14:41\\n推 mayhiito: 推 發6000 讚  122.116.76.75 04/11 10:45\\n推 AsukaMiku: 簽到180.218.165.195 04/12 23:25\\n噓 u943143: 還我建中青蛙人  122.118.6.214 04/13 16:09\\n推 dtggmike: 誰有網軍 賴功德最知道  111.82.102.42 04/15 11:20\\n推 Jmrkf0726: mrxs9ecf 台泥 謝謝swag    36.226.1.11 05/06 15:57\\n推 s870158: 館長GG220.130.141.127 05/15 21:47\\n噓 hygen: 欸……道歉就沒事？不用抓希拉蕊起來關嗎？    39.15.26.66 05/16 22:29\\n推 kerodo: 台灣人整天愛吹多民主,司法人為操控這嚴重   114.41.89.81 05/16 22:31\\n→ kerodo: ，真是民主，別忘死刑還沒廢   114.41.89.81 05/16 22:31\\n噓 oplk: 抱歉  我並沒有想要詐欺 廢死 上戰場122.118.231.237 05/17 02:02\\n推 powerworld21: 韓國 如果有三立這種 天天幫她寫新  112.78.64.132 05/17 04:43\\n→ powerworld21: 聞 創流量 造浪 自然就會知道了  112.78.64.132 05/17 04:43\\n推 k798976869: 網軍 媒體 帶風向洗爽爽123.240.229.193 05/17 06:45\\n推 k798976869: 他是帶皮箱去國外推銷的123.240.229.193 05/17 06:48\\n→ taimu: 早安   36.233.3.145 05/17 07:16\\n噓 rosydark: 誰？？  27.240.218.37 05/17 11:34\\n推 vaiking0120: 這樣確實不好，不過我以為的魁武是館 36.231.147.167 05/17 11:37\\n→ vaiking0120: 長那樣 36.231.147.167 05/17 11:38\\n推 rrrrr123: 這次她就是跑了被男方追到公司打的耶  42.75.126.246 05/17 12:13\\n→ rrrrr123: 什麼沒跑…這樣也可檢討受害人 真是不簡  42.75.126.246 05/17 12:13\\n→ rrrrr123: 單  42.75.126.246 05/17 12:14\\n推 Alcazer: 好奇有沒在台灣不紅在國外紅的臺灣人  112.78.86.172 05/17 13:26\\n→ gtcb: 在諷刺小英嗎？  49.216.166.35 05/17 13:35\\n噓 ZhaiMan: 樓上是不是不知道以前國民黨惡搞過陳水扁 180.217.68.200 05/18 17:59\\n→ checkout: 雲選民跟假選調一堆，可以參考上次選舉   49.216.24.17 05/18 22:14\\n→ checkout: 投票率好嗎？   49.216.24.17 05/18 22:15\\n推 wurick000: 那邊的店面已經有兩個 illegal rake in114.136.195.137 05/19 00:30\\n→ wurick000:   集團允許使用了 要不要 先拆了這邪惡114.136.195.137 05/19 00:30\\n→ wurick000: 的建築？？？114.136.195.137 05/19 00:30\\n噓 s860134: 上面一堆法盲 離婚才有婚前婚後財產  180.176.42.66 05/19 12:56\\n推 k798976869: 殺一兩個本來就不會判死刑123.240.229.193 05/19 19:03\\n→ jyue: 就自我感覺良好  219.85.95.247 05/19 23:00\\n推 ahw12000: https://i.imgur.com/9skQIwz.jpg  114.27.168.65 05/20 00:17\\n推 Skaterboi: 反省加強攻擊對手的招數    1.200.40.83 05/20 12:22\\n噓 jackchen1025: 我就是開車的人，我甘願等啊，你要 223.140.99.199 05/21 07:47\\n→ jackchen1025: 快不會早點出門？下次你家人被撞再 223.140.99.199 05/21 07:47\\n→ jackchen1025: 來發文說活該讓我們瞧瞧 223.140.99.199 05/21 07:47\\n推 l999: 早安 122.117.41.209 05/21 16:18\\n→ l999: 午安 122.117.41.209 05/21 16:19\\n→ l999: 晚安 122.117.41.209 05/21 16:19\\n→ l999: 夜安 122.117.41.209 05/21 16:19\\n推 bitcch: 為什麼我覺得87%是瞎掰的故事   101.12.89.51 05/22 14:35\\n推 ray0215: ZZ 203.69.216.172 05/22 14:36\\n推 Raptors1: 窮人不生 誰來幫我掃廁所  114.42.202.91 05/22 15:36\\n推 k798976869: 共產黨缺奴隸123.240.229.193 05/22 15:51\\n推 Raptors1: PIT!!  114.42.202.91 05/22 16:03\\n噓 wokou: 譴責美國啊 爛政府 外交部沒男人啊？ 111.83.250.247 05/23 10:54\\n→ Zero5566: 不要繞過老媽 硬給人家裝好嗎   42.74.93.195 05/25 12:43\\n噓 async: 保護綠權貴幹嘛 當然是賣命給中共權貴    42.72.29.34 05/27 14:14\\n推 k798976869: 詐騙島123.240.229.193 05/28 17:28\\n→ firemothra: 台灣應該要仿效美國。這種的放給他爛182.235.241.186 05/30 09:09\\n→ firemothra: 。不要用國家資源救182.235.241.186 05/30 09:09\\n→ s880st: \"人無良知，富貴滿盈\"   111.82.68.58 06/05 10:45\\n噓 leoyuan: 你真的去過日本嗎？日本都用高級的自動找   175.176.66.2 06/06 07:50\\n→ leoyuan: 零機，到處都有，誰說不用現金？還有到處   175.176.66.2 06/06 07:50\\n→ leoyuan: 都有的自動販賣機，吹牛別吹過頭耶   175.176.66.2 06/06 07:50\\n噓 u943143: 還我建中青蛙人  114.46.69.204 06/09 11:41\\n推 moai513: 常常吃烤太焦的食物記得喝鮮奶 122.100.75.142 06/11 17:25\\n推 lancer0960: 大概有7000億滋潤了黨   42.77.141.80 06/13 17:33\\n推 Phoenix9: 2023/06/14 07:56 留名220.129.153.170 06/14 19:56\\n→ kslxd: ？  223.140.86.91 06/14 20:29\\n推 nihow78: 字好醜 人更醜吧   101.9.198.50 06/16 17:44\\n推 ericyo: http://i.imgur.com/Y9bnrfv.jpg    101.10.45.1 07/02 12:28\\n→ ericyo: 面海的其實很讚欸 一天1100 房間還不小    101.10.45.1 07/02 12:28\\n噓 AWPER: 103間套房房東：幹  223.141.52.79 07/05 20:41\\n噓 kichyo: 用免費白飯招攬客人又怕人吃 輸不起收一收   1.200.78.113 07/11 10:37\\n→ kichyo: 啦   1.200.78.113 07/11 10:38\\n推 lovesinker: 說好不宣傳政黨的 結果一直說自己好  49.216.47.209 07/16 20:22\\n→ u943143: 鍋董這報告根本就學店的等級...  114.46.58.237 07/17 14:09\\n推 Miyanishi25: 狗鼻強姦犯，湖迷是北七123.192.188.117 07/21 18:36\\n推 sekokawana: https://youtu.be/KKkc-yNd7eg 49.216.131.188 07/25 09:50\\n→ sekokawana: 唱歌真的不錯 49.216.131.188 07/25 09:51\\n噓 jet113102: 還我建中蛙人!!  61.216.39.201 07/27 09:16\\n→ AE86: ☺☺☺☺☺  59.115.95.134 07/29 12:55\\n噓 hugh7073: 寫小說膩   101.9.196.68 08/08 14:36\\n推 jhkujhku: 真的垃圾  198.47.20.186 08/16 01:35\\n噓 sense5566: 125.230.146.27 08/20 04:44\\n推 Laotoe: 惹事上國際，政府有機會開始出來吠兩聲了  49.216.22.155 08/28 13:20\\n推 pov: 笑die223.138.162.244 09/04 10:00\\n推 Timba: https://i.imgur.com/lA5yfO1.gif DPP我超  118.166.200.9 09/08 01:00\\n→ iphone55566: 法師 厲陰宅 噤界2 科洛弗 厄夜 鬼店111.252.231.205 09/08 20:58\\n推 hifuyo: 講白了，柯文哲退選但白粉不會投藍，侯友 49.216.251.197 10/14 07:27\\n→ hifuyo: 宜退選藍粉會投白，這就是現況 49.216.251.197 10/14 07:28\\n噓 jhkujhku: 自己去看歷史吧 猶太人根本沒走光 鄂圖 71.142.248.112 10/14 17:26\\n→ jhkujhku: 曼跟英國都有人口普查 那裡就是雜居 71.142.248.112 10/14 17:27\\n噓 jhkujhku: 伊斯蘭地區猶太人怎麼可能改信基督 71.142.248.112 10/14 17:30\\n→ jhkujhku: 阿拉伯帝國跟土耳其都允許異教徒只是要 71.142.248.112 10/14 17:30\\n→ jhkujhku: 多繳稅 71.142.248.112 10/14 17:30\\n推 steven56138: yo 36.227.201.201 10/14 19:11\\n推 raphin: 國民黨中正、萬華區立委初選採全民調，還 114.36.186.211 10/15 19:41\\n→ raphin: 有大安區也是 114.36.186.211 10/15 19:41\\n推 raphin: 睜眼說瞎話，他們自己幾乎都用民調 114.36.186.211 10/15 19:43\\n推 sylviehsiang: https://youtu.be/FWGDF4Iepss?si=4123.194.189.196 10/30 15:17\\n→ sylviehsiang: ucGZuh3XBmzwheN123.194.189.196 10/30 15:17\\n推 Laotoe: 有夠丟臉，對民眾比對黑道還兇   49.216.19.14 11/06 08:38\\n→ x0N: OK，政府會積極協助就地合法，有政府，好安心  112.78.71.108 11/09 14:31\\n推 fattyfox: https://reurl.cc/p5Rpxa  106.105.98.71 11/12 14:10\\n噓 cyc8071: 廢文 223.139.94.188 11/12 22:23\\n→ waijr: 男女朋友分手 公布簡訊給對方難堪  49.216.48.207 11/23 18:07\\n推 ChikanDesu: https://i.imgur.com/rlxkIrC.jpeg  49.218.93.157 11/25 18:14\\n→ ChikanDesu: https://i.imgur.com/rlxkIrC.jpeg  49.218.93.157 11/25 18:14\\n推 yamahaya: 2023朝聖 123.51.235.123 11/27 15:22\\n推 RaelLai: 當然可以質疑，但不是用這種態度質疑，K 223.136.65.206 11/30 01:20\\n→ RaelLai: MT這場記者會污衊了我的朋友，內容不實 223.136.65.206 11/30 01:20\\n→ RaelLai: ，我純粹回文替他抱不平。 223.136.65.206 11/30 01:20\\n推 O10lOl01O: 恐怖如斯 簡直恐怖如斯 111.255.60.149 12/08 08:30\\n推 yangzy: 大便好油115.165.192.217 12/08 20:08\\n噓 andy90498: 朵斯 我床上的給Z還會回來ㄇ  119.14.166.95 12/08 21:49\\n→ dos01: 就...被退註要重註冊很麻煩 而且反正我現在  182.155.78.98 12/08 21:54\\n→ dos01: 也不太發文了 用這支就好了  182.155.78.98 12/08 21:54\\n→ dos01: 不對 是窩ㄉ好ㄆ由這樣說 不是我唷  182.155.78.98 12/08 21:54\\n噓 andy90498: 原來4這樣 那我可以噓了嗎  119.14.166.95 12/08 22:03\\n噓 dos01: 好喔 噓起來!  182.155.78.98 12/09 01:47\\n推 lucky7766777: めざせポケモンマスター   39.14.10.233 12/09 04:25\\n噓 dos01: 今年的聖誕快樂~  182.155.78.98 12/25 21:36\\n噓 cyc8071: 越想越不對勁  117.56.232.13 12/27 17:17\\n→ HCTL: 黑道不就是看你這個市長沒有，所以才敢這麼    39.15.24.62 12/28 22:48\\n→ HCTL: 囂張，丟臉死的市長    39.15.24.62 12/28 22:48\\n推 ninjamaster: 打擾到倫家睡覺了啦180.217.115.111 12/29 08:28\\n噓 japen768: 乾林良機拍 210.71.217.252 12/29 11:07\\n噓 dos01: 今年的新年快樂  182.155.78.98 01/01 14:50\\n推 SUMPO: 2024還在的+1 211.23.129.170 01/02 15:59\\n推 undeader: GGGGGGGGGGGGGGGG  114.40.10.188 01/04 16:17\\n推 u943143: 國家級警報   114.38.42.44 01/09 15:29\\n噓 u943143: https://imgur.com/Tqn9MMn  114.38.42.247 01/11 11:58\\n推 Miyanishi25: 勇迷崩潰～～他們都是NBA球員阿123.192.188.117 01/16 20:47\\n噓 Mews: 陳給Z 供威 125.228.193.26 01/18 16:49\\n噓 howard24: 皇民崩潰220.136.130.165 01/20 11:09\\n推 Miyanishi25: 丹佛狗鼻強姦犯123.192.188.117 01/21 21:17\\n推 bigmorr: 2024.01.31朝聖 180.218.76.110 01/31 01:00\\n噓 ivan30137: 蛤 要過新年了ㄇ    27.52.10.79 02/04 18:48\\n推 u943143: 2024/02/29 下次02/29推文要四年後了  114.38.49.213 02/29 15:25\\n推 Miyanishi25: 2028/2/29 下次02/29推文要四年後了123.192.218.190 02/29 21:04\\n→ kichyo: 這些社工根本全部一個爛樣 社會上有這種社  180.217.40.48 03/19 16:11\\n→ kichyo: 工不如沒有社工  180.217.40.48 03/19 16:11\\n'"
     },
     "execution_count": 35,
     "metadata": {},
     "output_type": "execute_result"
    }
   ],
   "source": [
    "df['content'][0]"
   ],
   "metadata": {
    "collapsed": false,
    "ExecuteTime": {
     "end_time": "2024-04-02T07:51:32.634758Z",
     "start_time": "2024-04-02T07:51:32.621912Z"
    }
   },
   "id": "30d9c45350517fb8",
   "execution_count": 35
  },
  {
   "cell_type": "code",
   "outputs": [
    {
     "ename": "ModuleNotFoundError",
     "evalue": "No module named 'google.colab'",
     "output_type": "error",
     "traceback": [
      "\u001B[1;31m---------------------------------------------------------------------------\u001B[0m",
      "\u001B[1;31mModuleNotFoundError\u001B[0m                       Traceback (most recent call last)",
      "Cell \u001B[1;32mIn[17], line 1\u001B[0m\n\u001B[1;32m----> 1\u001B[0m \u001B[38;5;28;01mfrom\u001B[39;00m \u001B[38;5;21;01mgoogle\u001B[39;00m\u001B[38;5;21;01m.\u001B[39;00m\u001B[38;5;21;01mcolab\u001B[39;00m \u001B[38;5;28;01mimport\u001B[39;00m auth\n\u001B[0;32m      2\u001B[0m auth\u001B[38;5;241m.\u001B[39mauthenticate_user()\n\u001B[0;32m      4\u001B[0m \u001B[38;5;28;01mimport\u001B[39;00m \u001B[38;5;21;01mgoogle\u001B[39;00m\u001B[38;5;21;01m.\u001B[39;00m\u001B[38;5;21;01mauth\u001B[39;00m\n",
      "\u001B[1;31mModuleNotFoundError\u001B[0m: No module named 'google.colab'"
     ]
    }
   ],
   "source": [
    "from google.colab import auth\n",
    "auth.authenticate_user()\n",
    "\n",
    "import google.auth\n",
    "from google.auth.transport.requests import Request\n",
    "from google.colab import auth\n",
    "from oauth2client.client import GoogleCredentials\n",
    "from gspread import authorize\n",
    "\n",
    "creds, _ = google.auth.default()\n",
    "gc = authorize(creds)"
   ],
   "metadata": {
    "collapsed": false,
    "ExecuteTime": {
     "end_time": "2024-04-02T07:49:38.771933Z",
     "start_time": "2024-04-02T07:49:38.670574Z"
    }
   },
   "id": "ffede0f710873e5b",
   "execution_count": 17
  },
  {
   "cell_type": "code",
   "outputs": [],
   "source": [
    "def df_to_sheets(df, spreadsheet_id, sheet_name):\n",
    "  try:\n",
    "    sh = gc.open_by_key(spreadsheet_id)\n",
    "  except Exception as e:\n",
    "    print(f\"Error opening the Spreadsheet: {e}\")\n",
    "    return\n",
    "\n",
    "  try:\n",
    "    worksheet = sh.worksheet(sheet_name)\n",
    "  except gspread.WorksheetNotFound:\n",
    "    worksheet = sh.add_worksheet(title=sheet_name, rows=\"100\", cols=\"20\")\n",
    "\n",
    "  worksheet.update([df.columns.values.tolist()] + df.values.tolist())"
   ],
   "metadata": {
    "collapsed": false
   },
   "id": "fea473dac94ecf09"
  },
  {
   "cell_type": "code",
   "outputs": [],
   "source": [
    "spreadsheet_id = ''\n",
    "sheet_name = ''\n",
    "\n",
    "def truncate_to_limit(cell_value, limit=10000):\n",
    "  if len(cell_value) > limit:\n",
    "    return cell_value[:limit] + '... [內容過長，已停止寫入]'\n",
    "  else:\n",
    "    return cell_value"
   ],
   "metadata": {
    "collapsed": false,
    "ExecuteTime": {
     "end_time": "2024-04-02T07:50:19.694379Z",
     "start_time": "2024-04-02T07:50:19.679706Z"
    }
   },
   "id": "a212409c65fe528",
   "execution_count": 19
  },
  {
   "cell_type": "code",
   "outputs": [
    {
     "name": "stderr",
     "output_type": "stream",
     "text": [
      "C:\\Users\\zeric\\AppData\\Local\\Temp\\ipykernel_4616\\3690918369.py:1: FutureWarning: DataFrame.applymap has been deprecated. Use DataFrame.map instead.\n",
      "  df_truncated = df.applymap(lambda x: truncate_to_limit(str(x)))\n"
     ]
    },
    {
     "data": {
      "text/plain": "                         title                         author  \\\n0                         第一耶！                   gogoegg (--)   \n1               Re: (問題)華航空難留言    Muroi (I Honestly Love You)   \n2              Re: 有沒有明天會更好的八卦  JCC (JCC                    )   \n3            Re: 請問還有濁水溪公設的八卦嗎                 goddora (dora)   \n4               Re: (問題)華航空難留言                 MCI (步步步步步步步步)   \n5                        [八卦]          killerangel (男人是很賤的動物)   \n6        Re: [問題]職棒似乎又出現問題了...                    three3 (Me)   \n7           Re: [政商] 請問桌伯元的八卦?                      J1 (andy)   \n8           Re: [新聞] 張震月的八卦有嗎？              vancie (我不正 我很歪 )   \n9           Re: [政商] 請問桌伯元的八卦?                      J1 (andy)   \n10          Re: [政商] 請問桌伯元的八卦?            batistuta823 (缺暱稱中)   \n11  Re: [名人] 有人記得高雄數學補教老師魚課斌嗎？                    heibow (湛藍)   \n12                 [藝人] 釁悅糰的阿釁                    mmww (我是撈達)   \n13           Re: [政商] 有羅文傢的八卦?          princesse (princesse)   \n14       Re: 有沒有米其淋的美食還是什麼評鑑八卦           ilcd (南特 巴黎 白朗峰!!! )   \n15       Re: 有沒有米其淋的美食還是什麼評鑑八卦                 RafaleM (華燈初上)   \n16       Re: [問題]職棒似乎又出現問題了...             OGEOCC (再吵就把椅墊裝回去)   \n17              Re: 誰有張憲義的八卦??             oldlarge (戲終曲散人漸去)   \n18                Re: [藝人] 小紅恩                zoe0512 (買下我吧~)   \n19   Re: [政商] 有沒有前任管媒體局長林佳隆的八卦              cyuyuc (Aya Chan)   \n\n                        date  \\\n0   Mon Jun 20 07:11:31 2005   \n1   Mon Jun 20 07:28:27 2005   \n2   Mon Jun 20 10:21:53 2005   \n3   Mon Jun 20 12:37:53 2005   \n4   Mon Jun 20 13:04:48 2005   \n5   Mon Jun 20 13:42:18 2005   \n6   Mon Jun 20 14:20:54 2005   \n7   Mon Jun 20 15:22:38 2005   \n8   Mon Jun 20 17:07:13 2005   \n9   Mon Jun 20 17:18:14 2005   \n10  Mon Jun 20 17:54:42 2005   \n11  Mon Jun 20 18:51:22 2005   \n12  Mon Jun 20 18:32:50 2005   \n13  Mon Jun 20 18:45:50 2005   \n14  Mon Jun 20 20:53:24 2005   \n15  Mon Jun 20 21:36:24 2005   \n16  Mon Jun 20 22:18:33 2005   \n17  Tue Jun 21 16:24:55 2005   \n18  Tue Jun 21 19:34:53 2005   \n19  Tue Jun 21 20:02:41 2005   \n\n                                              content  \n0   作者gogoegg (--)看板Gossiping標題第一耶！時間Mon Jun 20 07...  \n1   作者Muroi (I Honestly Love You)看板Gossiping標題Re: ...  \n2   作者JCC (JCC                    )看板Gossiping標題Re...  \n3   作者goddora (dora)看板Gossiping標題Re: 請問還有濁水溪公設的八卦嗎...  \n4   作者MCI (步步步步步步步步)看板Gossiping標題Re: (問題)華航空難留言時間M...  \n5   作者killerangel (男人是很賤的動物)看板Gossiping標題[八卦] 時間Mo...  \n6   作者three3 (Me)看板Gossiping標題Re: [問題]職棒似乎又出現問題了.....  \n7   作者J1 (andy)看板Gossiping標題Re: [政商] 請問桌伯元的八卦?時間Mo...  \n8   作者vancie (我不正 我很歪 )看板Gossiping標題Re: [新聞] 張震月的八...  \n9   作者J1 (andy)看板Gossiping標題Re: [政商] 請問桌伯元的八卦?時間Mo...  \n10  作者batistuta823 (缺暱稱中)看板Gossiping標題Re: [政商] 請問桌...  \n11  作者heibow (湛藍)看板Gossiping標題Re: [名人] 有人記得高雄數學補教老...  \n12  作者mmww (我是撈達)看板Gossiping標題[藝人] 釁悅糰的阿釁時間Mon Jun...  \n13  作者princesse (princesse)看板Gossiping標題Re: [政商] 有...  \n14  作者ilcd (南特 巴黎 白朗峰!!! )看板Gossiping標題Re: 有沒有米其淋的...  \n15  作者RafaleM (華燈初上)看板Gossiping標題Re: 有沒有米其淋的美食還是什麼...  \n16  作者OGEOCC (再吵就把椅墊裝回去)看板Gossiping標題Re: [問題]職棒似乎又...  \n17  作者oldlarge (戲終曲散人漸去)看板Gossiping標題Re: 誰有張憲義的八卦?...  \n18  作者zoe0512 (買下我吧~)看板Gossiping標題Re: [藝人] 小紅恩時間Tu...  \n19  作者cyuyuc (Aya Chan)看板Gossiping標題Re: [政商] 有沒有前任...  ",
      "text/html": "<div>\n<style scoped>\n    .dataframe tbody tr th:only-of-type {\n        vertical-align: middle;\n    }\n\n    .dataframe tbody tr th {\n        vertical-align: top;\n    }\n\n    .dataframe thead th {\n        text-align: right;\n    }\n</style>\n<table border=\"1\" class=\"dataframe\">\n  <thead>\n    <tr style=\"text-align: right;\">\n      <th></th>\n      <th>title</th>\n      <th>author</th>\n      <th>date</th>\n      <th>content</th>\n    </tr>\n  </thead>\n  <tbody>\n    <tr>\n      <th>0</th>\n      <td>第一耶！</td>\n      <td>gogoegg (--)</td>\n      <td>Mon Jun 20 07:11:31 2005</td>\n      <td>作者gogoegg (--)看板Gossiping標題第一耶！時間Mon Jun 20 07...</td>\n    </tr>\n    <tr>\n      <th>1</th>\n      <td>Re: (問題)華航空難留言</td>\n      <td>Muroi (I Honestly Love You)</td>\n      <td>Mon Jun 20 07:28:27 2005</td>\n      <td>作者Muroi (I Honestly Love You)看板Gossiping標題Re: ...</td>\n    </tr>\n    <tr>\n      <th>2</th>\n      <td>Re: 有沒有明天會更好的八卦</td>\n      <td>JCC (JCC                    )</td>\n      <td>Mon Jun 20 10:21:53 2005</td>\n      <td>作者JCC (JCC                    )看板Gossiping標題Re...</td>\n    </tr>\n    <tr>\n      <th>3</th>\n      <td>Re: 請問還有濁水溪公設的八卦嗎</td>\n      <td>goddora (dora)</td>\n      <td>Mon Jun 20 12:37:53 2005</td>\n      <td>作者goddora (dora)看板Gossiping標題Re: 請問還有濁水溪公設的八卦嗎...</td>\n    </tr>\n    <tr>\n      <th>4</th>\n      <td>Re: (問題)華航空難留言</td>\n      <td>MCI (步步步步步步步步)</td>\n      <td>Mon Jun 20 13:04:48 2005</td>\n      <td>作者MCI (步步步步步步步步)看板Gossiping標題Re: (問題)華航空難留言時間M...</td>\n    </tr>\n    <tr>\n      <th>5</th>\n      <td>[八卦]</td>\n      <td>killerangel (男人是很賤的動物)</td>\n      <td>Mon Jun 20 13:42:18 2005</td>\n      <td>作者killerangel (男人是很賤的動物)看板Gossiping標題[八卦] 時間Mo...</td>\n    </tr>\n    <tr>\n      <th>6</th>\n      <td>Re: [問題]職棒似乎又出現問題了...</td>\n      <td>three3 (Me)</td>\n      <td>Mon Jun 20 14:20:54 2005</td>\n      <td>作者three3 (Me)看板Gossiping標題Re: [問題]職棒似乎又出現問題了.....</td>\n    </tr>\n    <tr>\n      <th>7</th>\n      <td>Re: [政商] 請問桌伯元的八卦?</td>\n      <td>J1 (andy)</td>\n      <td>Mon Jun 20 15:22:38 2005</td>\n      <td>作者J1 (andy)看板Gossiping標題Re: [政商] 請問桌伯元的八卦?時間Mo...</td>\n    </tr>\n    <tr>\n      <th>8</th>\n      <td>Re: [新聞] 張震月的八卦有嗎？</td>\n      <td>vancie (我不正 我很歪 )</td>\n      <td>Mon Jun 20 17:07:13 2005</td>\n      <td>作者vancie (我不正 我很歪 )看板Gossiping標題Re: [新聞] 張震月的八...</td>\n    </tr>\n    <tr>\n      <th>9</th>\n      <td>Re: [政商] 請問桌伯元的八卦?</td>\n      <td>J1 (andy)</td>\n      <td>Mon Jun 20 17:18:14 2005</td>\n      <td>作者J1 (andy)看板Gossiping標題Re: [政商] 請問桌伯元的八卦?時間Mo...</td>\n    </tr>\n    <tr>\n      <th>10</th>\n      <td>Re: [政商] 請問桌伯元的八卦?</td>\n      <td>batistuta823 (缺暱稱中)</td>\n      <td>Mon Jun 20 17:54:42 2005</td>\n      <td>作者batistuta823 (缺暱稱中)看板Gossiping標題Re: [政商] 請問桌...</td>\n    </tr>\n    <tr>\n      <th>11</th>\n      <td>Re: [名人] 有人記得高雄數學補教老師魚課斌嗎？</td>\n      <td>heibow (湛藍)</td>\n      <td>Mon Jun 20 18:51:22 2005</td>\n      <td>作者heibow (湛藍)看板Gossiping標題Re: [名人] 有人記得高雄數學補教老...</td>\n    </tr>\n    <tr>\n      <th>12</th>\n      <td>[藝人] 釁悅糰的阿釁</td>\n      <td>mmww (我是撈達)</td>\n      <td>Mon Jun 20 18:32:50 2005</td>\n      <td>作者mmww (我是撈達)看板Gossiping標題[藝人] 釁悅糰的阿釁時間Mon Jun...</td>\n    </tr>\n    <tr>\n      <th>13</th>\n      <td>Re: [政商] 有羅文傢的八卦?</td>\n      <td>princesse (princesse)</td>\n      <td>Mon Jun 20 18:45:50 2005</td>\n      <td>作者princesse (princesse)看板Gossiping標題Re: [政商] 有...</td>\n    </tr>\n    <tr>\n      <th>14</th>\n      <td>Re: 有沒有米其淋的美食還是什麼評鑑八卦</td>\n      <td>ilcd (南特 巴黎 白朗峰!!! )</td>\n      <td>Mon Jun 20 20:53:24 2005</td>\n      <td>作者ilcd (南特 巴黎 白朗峰!!! )看板Gossiping標題Re: 有沒有米其淋的...</td>\n    </tr>\n    <tr>\n      <th>15</th>\n      <td>Re: 有沒有米其淋的美食還是什麼評鑑八卦</td>\n      <td>RafaleM (華燈初上)</td>\n      <td>Mon Jun 20 21:36:24 2005</td>\n      <td>作者RafaleM (華燈初上)看板Gossiping標題Re: 有沒有米其淋的美食還是什麼...</td>\n    </tr>\n    <tr>\n      <th>16</th>\n      <td>Re: [問題]職棒似乎又出現問題了...</td>\n      <td>OGEOCC (再吵就把椅墊裝回去)</td>\n      <td>Mon Jun 20 22:18:33 2005</td>\n      <td>作者OGEOCC (再吵就把椅墊裝回去)看板Gossiping標題Re: [問題]職棒似乎又...</td>\n    </tr>\n    <tr>\n      <th>17</th>\n      <td>Re: 誰有張憲義的八卦??</td>\n      <td>oldlarge (戲終曲散人漸去)</td>\n      <td>Tue Jun 21 16:24:55 2005</td>\n      <td>作者oldlarge (戲終曲散人漸去)看板Gossiping標題Re: 誰有張憲義的八卦?...</td>\n    </tr>\n    <tr>\n      <th>18</th>\n      <td>Re: [藝人] 小紅恩</td>\n      <td>zoe0512 (買下我吧~)</td>\n      <td>Tue Jun 21 19:34:53 2005</td>\n      <td>作者zoe0512 (買下我吧~)看板Gossiping標題Re: [藝人] 小紅恩時間Tu...</td>\n    </tr>\n    <tr>\n      <th>19</th>\n      <td>Re: [政商] 有沒有前任管媒體局長林佳隆的八卦</td>\n      <td>cyuyuc (Aya Chan)</td>\n      <td>Tue Jun 21 20:02:41 2005</td>\n      <td>作者cyuyuc (Aya Chan)看板Gossiping標題Re: [政商] 有沒有前任...</td>\n    </tr>\n  </tbody>\n</table>\n</div>"
     },
     "execution_count": 20,
     "metadata": {},
     "output_type": "execute_result"
    }
   ],
   "source": [
    "df_truncated = df.applymap(lambda x: truncate_to_limit(str(x)))\n",
    "df_truncated"
   ],
   "metadata": {
    "collapsed": false,
    "ExecuteTime": {
     "end_time": "2024-04-02T07:50:20.378768Z",
     "start_time": "2024-04-02T07:50:20.327902Z"
    }
   },
   "id": "6a44666e1968c38d",
   "execution_count": 20
  },
  {
   "cell_type": "code",
   "outputs": [
    {
     "ename": "NameError",
     "evalue": "name 'df_to_sheets' is not defined",
     "output_type": "error",
     "traceback": [
      "\u001B[1;31m---------------------------------------------------------------------------\u001B[0m",
      "\u001B[1;31mNameError\u001B[0m                                 Traceback (most recent call last)",
      "Cell \u001B[1;32mIn[21], line 1\u001B[0m\n\u001B[1;32m----> 1\u001B[0m df_to_sheets(df_truncated, spreadsheet_id, sheet_name)\n",
      "\u001B[1;31mNameError\u001B[0m: name 'df_to_sheets' is not defined"
     ]
    }
   ],
   "source": [
    "df_to_sheets(df_truncated, spreadsheet_id, sheet_name)"
   ],
   "metadata": {
    "collapsed": false,
    "ExecuteTime": {
     "end_time": "2024-04-02T07:50:21.416078Z",
     "start_time": "2024-04-02T07:50:21.395063Z"
    }
   },
   "id": "fa80bd1514c1f1c3",
   "execution_count": 21
  },
  {
   "cell_type": "code",
   "outputs": [],
   "source": [],
   "metadata": {
    "collapsed": false
   },
   "id": "e06899d6dd48c69a"
  }
 ],
 "metadata": {
  "kernelspec": {
   "display_name": "Python 3",
   "language": "python",
   "name": "python3"
  },
  "language_info": {
   "codemirror_mode": {
    "name": "ipython",
    "version": 2
   },
   "file_extension": ".py",
   "mimetype": "text/x-python",
   "name": "python",
   "nbconvert_exporter": "python",
   "pygments_lexer": "ipython2",
   "version": "2.7.6"
  }
 },
 "nbformat": 4,
 "nbformat_minor": 5
}
