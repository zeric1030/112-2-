{
 "cells": [
  {
   "cell_type": "code",
   "outputs": [],
   "source": [
    "import requests \n",
    "from bs4 import BeautifulSoup\n",
    "#import pandas as pd"
   ],
   "metadata": {
    "collapsed": false,
    "ExecuteTime": {
     "end_time": "2024-05-07T17:35:28.258140Z",
     "start_time": "2024-05-07T17:35:28.253110Z"
    }
   },
   "id": "1b07f56b69936a4f",
   "execution_count": 2
  },
  {
   "cell_type": "code",
   "outputs": [],
   "source": [
    "url = 'https://lai-media.net/'"
   ],
   "metadata": {
    "collapsed": false,
    "ExecuteTime": {
     "end_time": "2024-05-07T17:35:29.944701Z",
     "start_time": "2024-05-07T17:35:29.940935Z"
    }
   },
   "id": "e514b1be70163c5f",
   "execution_count": 3
  },
  {
   "cell_type": "markdown",
   "source": [
    "### 階段 1: 抓取單一頁面的文章"
   ],
   "metadata": {
    "collapsed": false
   },
   "id": "9f7b7e681fc1ef6b"
  },
  {
   "cell_type": "code",
   "outputs": [],
   "source": [
    "def fetch_articles(url):\n",
    "    response = requests.get(url)\n",
    "    soup = BeautifulSoup(response.text, 'html.parser')\n",
    "    articles = soup.find_all('h2')  # 假設文章標題位於 <h2> 標籤中\n",
    "    for article in articles:\n",
    "        print(article.text.strip())\n",
    "        \n",
    "\n",
    "# 使用示例\n",
    "fetch_articles('https://lai-media.net/')\n"
   ],
   "metadata": {
    "collapsed": false,
    "ExecuteTime": {
     "end_time": "2024-05-07T17:35:32.274028Z",
     "start_time": "2024-05-07T17:35:31.750213Z"
    }
   },
   "id": "4c519346cf8db212",
   "execution_count": 4
  },
  {
   "cell_type": "markdown",
   "source": [
    "### 階段 2: 抓取多頁的文章"
   ],
   "metadata": {
    "collapsed": false
   },
   "id": "1ae1021d576090d2"
  },
  {
   "cell_type": "code",
   "outputs": [],
   "source": [
    "\n"
   ],
   "metadata": {
    "collapsed": false,
    "ExecuteTime": {
     "end_time": "2024-05-07T17:35:42.175866Z",
     "start_time": "2024-05-07T17:35:35.874033Z"
    }
   },
   "id": "b8fe39db95d79d1f",
   "execution_count": 5
  },
  {
   "cell_type": "markdown",
   "source": [
    "### 階段 3: 將爬蟲功能寫成 class"
   ],
   "metadata": {
    "collapsed": false
   },
   "id": "7ea8d9c32950c50b"
  },
  {
   "cell_type": "code",
   "outputs": [],
   "source": [],
   "metadata": {
    "collapsed": false,
    "ExecuteTime": {
     "end_time": "2024-05-07T17:35:47.773318Z",
     "start_time": "2024-05-07T17:35:46.194777Z"
    }
   },
   "id": "e3dd759abe930f58",
   "execution_count": 6
  },
  {
   "cell_type": "code",
   "outputs": [],
   "source": [],
   "metadata": {
    "collapsed": false
   },
   "id": "11c98b49a7740b07"
  }
 ],
 "metadata": {
  "kernelspec": {
   "display_name": "Python 3",
   "language": "python",
   "name": "python3"
  },
  "language_info": {
   "codemirror_mode": {
    "name": "ipython",
    "version": 2
   },
   "file_extension": ".py",
   "mimetype": "text/x-python",
   "name": "python",
   "nbconvert_exporter": "python",
   "pygments_lexer": "ipython2",
   "version": "2.7.6"
  }
 },
 "nbformat": 4,
 "nbformat_minor": 5
}
