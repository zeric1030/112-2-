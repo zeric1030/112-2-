{
 "cells": [
  {
   "cell_type": "code",
   "execution_count": 4,
   "id": "d82c779c-5a52-40ad-9aa8-7c59b4517db7",
   "metadata": {},
   "outputs": [
    {
     "data": {
      "text/plain": [
       "\"\\nimport pandas as pd\\nimport numpy as np\\nimport matplotlib.pyplot as plt\\nimport seaborn as sns\\n\\n# 讀取 CSV 檔案並創建 DataFrame\\n# 讀取手機市佔率的資料\\ndf = pd.read_csv('marketing.csv')\\n\\n# 顯示資料的前幾行\\nprint(df.head())\\n\\n\\n# 使用Matplotlib繪製手機市佔率的折線圖\\nplt.figure(figsize=(10, 6))\\nplt.plot(df['Q42023 shipments (million)'], df['Q42022 shipments (million)'], marker='o', linestyle='-')\\nplt.title('Handset Market Share Over Years')\\nplt.xlabel('Year')\\nplt.ylabel('Market Share (%)')\\nplt.grid(True)\\nplt.show()\\n\\n# 使用Seaborn繪製手機市佔率的折線圖\\nplt.figure(figsize=(10, 6))\\nsns.lineplot(df=df, x='Vendor', y='Q42023 shipments (million)', marker='o')\\nplt.title('Handset Market Share Over Years')\\nplt.xlabel('Year')\\nplt.ylabel('Market Share (%)')\\nplt.grid(True)\\nplt.show()\\n\""
      ]
     },
     "execution_count": 4,
     "metadata": {},
     "output_type": "execute_result"
    }
   ],
   "source": [
    "\"\"\"這是hw-2的暫存筆記區，會有一堆好用的程式碼\"\"\"\n",
    "'''\n",
    "import pandas as pd\n",
    "import numpy as np\n",
    "import matplotlib.pyplot as plt\n",
    "import seaborn as sns\n",
    "\n",
    "# 讀取 CSV 檔案並創建 DataFrame\n",
    "# 讀取手機市佔率的資料\n",
    "df = pd.read_csv('marketing.csv')\n",
    "\n",
    "# 顯示資料的前幾行\n",
    "print(df.head())\n",
    "\n",
    "\n",
    "# 使用Matplotlib繪製手機市佔率的折線圖\n",
    "plt.figure(figsize=(10, 6))\n",
    "plt.plot(df['Q42023 shipments (million)'], df['Q42022 shipments (million)'], marker='o', linestyle='-')\n",
    "plt.title('Handset Market Share Over Years')\n",
    "plt.xlabel('Year')\n",
    "plt.ylabel('Market Share (%)')\n",
    "plt.grid(True)\n",
    "plt.show()\n",
    "\n",
    "# 使用Seaborn繪製手機市佔率的折線圖\n",
    "plt.figure(figsize=(10, 6))\n",
    "sns.lineplot(df=df, x='Vendor', y='Q42023 shipments (million)', marker='o')\n",
    "plt.title('Handset Market Share Over Years')\n",
    "plt.xlabel('Year')\n",
    "plt.ylabel('Market Share (%)')\n",
    "plt.grid(True)\n",
    "plt.show()\n",
    "'''"
   ]
  },
  {
   "cell_type": "code",
   "execution_count": 5,
   "id": "e4209718-2d94-40e5-9a49-d7bd50010b7c",
   "metadata": {},
   "outputs": [
    {
     "data": {
      "text/plain": [
       "'\\nimport pandas as pd\\nimport json\\n\\n# 讀取第一份CSV檔案\\ndata1 = pd.read_csv(\\'data1.csv\\')\\n\\n# 讀取第二份CSV檔案\\ndata2 = pd.read_csv(\\'data2.csv\\')\\n\\n# 提取供應商數據\\nvendors_1 = set(data1[\\'Vendor\\'])\\nvendors_2 = set(data2[\\'Vendor\\'])\\n\\n# 計算供應商的聯集、交集和差集\\nunion_vendors = list(vendors_1.union(vendors_2))\\nintersection_vendors = list(vendors_1.intersection(vendors_2))\\ndifference_vendors_1 = list(vendors_1.difference(vendors_2))\\ndifference_vendors_2 = list(vendors_2.difference(vendors_1))\\n\\n# 將資料組織成JSON格式\\njson_data = {\\n    \"Union\": union_vendors,\\n    \"Intersection\": intersection_vendors,\\n    \"Difference_in_data1\": difference_vendors_1,\\n    \"Difference_in_data2\": difference_vendors_2\\n}\\n\\n# 將JSON資料寫入檔案\\nwith open(\\'output.json\\', \\'w\\') as f:\\n    json.dump(json_data, f)\\n\\nprint(\"JSON file generated successfully!\")\\n'"
      ]
     },
     "execution_count": 5,
     "metadata": {},
     "output_type": "execute_result"
    }
   ],
   "source": [
    "'''AI教我怎麼把csv轉成JSON'''\n",
    "'''\n",
    "import pandas as pd\n",
    "import json\n",
    "\n",
    "# 讀取第一份CSV檔案\n",
    "data1 = pd.read_csv('data1.csv')\n",
    "\n",
    "# 讀取第二份CSV檔案\n",
    "data2 = pd.read_csv('data2.csv')\n",
    "\n",
    "# 提取供應商數據\n",
    "vendors_1 = set(data1['Vendor'])\n",
    "vendors_2 = set(data2['Vendor'])\n",
    "\n",
    "# 計算供應商的聯集、交集和差集\n",
    "union_vendors = list(vendors_1.union(vendors_2))\n",
    "intersection_vendors = list(vendors_1.intersection(vendors_2))\n",
    "difference_vendors_1 = list(vendors_1.difference(vendors_2))\n",
    "difference_vendors_2 = list(vendors_2.difference(vendors_1))\n",
    "\n",
    "# 將資料組織成JSON格式\n",
    "json_data = {\n",
    "    \"Union\": union_vendors,\n",
    "    \"Intersection\": intersection_vendors,\n",
    "    \"Difference_in_data1\": difference_vendors_1,\n",
    "    \"Difference_in_data2\": difference_vendors_2\n",
    "}\n",
    "\n",
    "# 將JSON資料寫入檔案\n",
    "with open('output.json', 'w') as f:\n",
    "    json.dump(json_data, f)\n",
    "\n",
    "print(\"JSON file generated successfully!\")\n",
    "'''"
   ]
  },
  {
   "cell_type": "code",
   "execution_count": 6,
   "id": "1895149f-9491-40d0-86e9-06fa764b8ace",
   "metadata": {},
   "outputs": [
    {
     "data": {
      "text/plain": [
       "'\\nimport pandas as pd\\nimport json\\n\\n# 讀取第一份CSV檔案（Q42022、Q42023）\\ndata1 = pd.read_csv(\\'data1.csv\\')\\n\\n# 讀取第二份CSV檔案（2022、2023）\\ndata2 = pd.read_csv(\\'data2.csv\\')\\n\\n# 將每個DataFrame轉換成JSON格式\\njson_data1 = data1.to_json(orient=\\'records\\', lines=True)\\njson_data2 = data2.to_json(orient=\\'records\\', lines=True)\\n\\n# 將JSON資料轉換為Python物件\\ndata1_json_obj = json.loads(json_data1)\\ndata2_json_obj = json.loads(json_data2)\\n\\n# 加上適當的標籤以識別不同的年份和季度\\nfor item in data1_json_obj:\\n    item[\\'Year/Quarter\\'] = \\'Q42022-Q42023\\'\\n\\nfor item in data2_json_obj:\\n    item[\\'Year/Quarter\\'] = \\'2022-2023\\'\\n\\n# 合併兩份JSON物件\\nmerged_json = data1_json_obj + data2_json_obj\\n\\n# 將合併後的JSON物件寫入新的JSON檔案中\\nwith open(\\'merged_data.json\\', \\'w\\') as outfile:\\n    json.dump(merged_json, outfile)\\n\\nprint(\"JSON檔案已生成。\")\\n'"
      ]
     },
     "execution_count": 6,
     "metadata": {},
     "output_type": "execute_result"
    }
   ],
   "source": [
    "'''\n",
    "import pandas as pd\n",
    "import json\n",
    "\n",
    "# 讀取第一份CSV檔案（Q42022、Q42023）\n",
    "data1 = pd.read_csv('data1.csv')\n",
    "\n",
    "# 讀取第二份CSV檔案（2022、2023）\n",
    "data2 = pd.read_csv('data2.csv')\n",
    "\n",
    "# 將每個DataFrame轉換成JSON格式\n",
    "json_data1 = data1.to_json(orient='records', lines=True)\n",
    "json_data2 = data2.to_json(orient='records', lines=True)\n",
    "\n",
    "# 將JSON資料轉換為Python物件\n",
    "data1_json_obj = json.loads(json_data1)\n",
    "data2_json_obj = json.loads(json_data2)\n",
    "\n",
    "# 加上適當的標籤以識別不同的年份和季度\n",
    "for item in data1_json_obj:\n",
    "    item['Year/Quarter'] = 'Q42022-Q42023'\n",
    "\n",
    "for item in data2_json_obj:\n",
    "    item['Year/Quarter'] = '2022-2023'\n",
    "\n",
    "# 合併兩份JSON物件\n",
    "merged_json = data1_json_obj + data2_json_obj\n",
    "\n",
    "# 將合併後的JSON物件寫入新的JSON檔案中\n",
    "with open('merged_data.json', 'w') as outfile:\n",
    "    json.dump(merged_json, outfile)\n",
    "\n",
    "print(\"JSON檔案已生成。\")\n",
    "'''"
   ]
  },
  {
   "cell_type": "code",
   "execution_count": 7,
   "id": "6b4fe70a-331b-4d69-a3f0-8e40c9ed60e9",
   "metadata": {},
   "outputs": [
    {
     "data": {
      "text/plain": [
       "\"\\n# 刪除不需要的欄位\\nmerged_data.drop(['Q42023 market share', 'Q42022 market share', 'Annual growth'], axis=1, inplace=True)\\n\""
      ]
     },
     "execution_count": 7,
     "metadata": {},
     "output_type": "execute_result"
    }
   ],
   "source": [
    "'''\n",
    "# 刪除不需要的欄位\n",
    "merged_data.drop(['Q42023 market share', 'Q42022 market share', 'Annual growth'], axis=1, inplace=True)\n",
    "'''"
   ]
  },
  {
   "cell_type": "code",
   "execution_count": null,
   "id": "ea6b58d7-d6cb-4599-93c0-147322b6f3eb",
   "metadata": {},
   "outputs": [],
   "source": []
  }
 ],
 "metadata": {
  "kernelspec": {
   "display_name": "Python 3 (ipykernel)",
   "language": "python",
   "name": "python3"
  },
  "language_info": {
   "codemirror_mode": {
    "name": "ipython",
    "version": 3
   },
   "file_extension": ".py",
   "mimetype": "text/x-python",
   "name": "python",
   "nbconvert_exporter": "python",
   "pygments_lexer": "ipython3",
   "version": "3.11.7"
  }
 },
 "nbformat": 4,
 "nbformat_minor": 5
}
