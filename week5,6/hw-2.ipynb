{
 "cells": [
  {
   "cell_type": "code",
   "execution_count": null,
   "id": "d82c779c-5a52-40ad-9aa8-7c59b4517db7",
   "metadata": {},
   "outputs": [],
   "source": [
    "import pandas as pd\n",
    "import numpy as np\n",
    "import matplotlib.pyplot as plt\n",
    "import seaborn as sns\n",
    "\n",
    "# 讀取 CSV 檔案並創建 DataFrame\n",
    "# 讀取手機市佔率的資料\n",
    "df = pd.read_csv('marketing.csv')\n",
    "\n",
    "# 顯示資料的前幾行\n",
    "print(df.head())\n",
    "\n",
    "\n",
    "# 使用Matplotlib繪製手機市佔率的折線圖\n",
    "plt.figure(figsize=(10, 6))\n",
    "plt.plot(df['Q42023 shipments (million)'], df['Q42022 shipments (million)'], marker='o', linestyle='-')\n",
    "plt.title('Handset Market Share Over Years')\n",
    "plt.xlabel('Year')\n",
    "plt.ylabel('Market Share (%)')\n",
    "plt.grid(True)\n",
    "plt.show()\n",
    "\n",
    "# 使用Seaborn繪製手機市佔率的折線圖\n",
    "plt.figure(figsize=(10, 6))\n",
    "sns.lineplot(df=df, x='Vendor', y='Q42023 shipments (million)', marker='o')\n",
    "plt.title('Handset Market Share Over Years')\n",
    "plt.xlabel('Year')\n",
    "plt.ylabel('Market Share (%)')\n",
    "plt.grid(True)\n",
    "plt.show()\n"
   ]
  }
 ],
 "metadata": {
  "kernelspec": {
   "display_name": "Python 3 (ipykernel)",
   "language": "python",
   "name": "python3"
  },
  "language_info": {
   "codemirror_mode": {
    "name": "ipython",
    "version": 3
   },
   "file_extension": ".py",
   "mimetype": "text/x-python",
   "name": "python",
   "nbconvert_exporter": "python",
   "pygments_lexer": "ipython3",
   "version": "3.11.7"
  }
 },
 "nbformat": 4,
 "nbformat_minor": 5
}
