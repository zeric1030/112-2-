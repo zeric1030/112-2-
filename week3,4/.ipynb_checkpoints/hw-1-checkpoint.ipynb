{
 "cells": [
  {
   "cell_type": "code",
   "execution_count": 1,
   "id": "05086096-b80e-40af-b8b2-c4c4a7bd5871",
   "metadata": {},
   "outputs": [
    {
     "name": "stdout",
     "output_type": "stream",
     "text": [
      "Union of Vendors: {'Xiaomi', 'OPPO', 'TRANSSION', 'vivo', 'Others', 'Apple', 'Samsung', 'Total'}\n",
      "Intersection of Vendors: {'Xiaomi', 'TRANSSION', 'Others', 'Apple', 'Samsung', 'Total'}\n",
      "Difference in marketingA: {'vivo'}\n",
      "Difference in marketingB: {'OPPO'}\n"
     ]
    }
   ],
   "source": [
    "import pandas as pd\n",
    "\n",
    "# 讀取兩份CSV檔案\n",
    "dfA = pd.read_csv('marketingA.csv')\n",
    "dfB = pd.read_csv('marketingB.csv')\n",
    "\n",
    "# 將兩份資料的'Vendor'欄位分別提取出來，並轉換成集合\n",
    "vendors_A = set(dfA['Vendor'])\n",
    "vendors_B = set(dfB['Vendor'])\n",
    "\n",
    "# 計算聯集\n",
    "union_vendors = vendors_A.union(vendors_B)\n",
    "\n",
    "# 計算交集\n",
    "intersection_vendors = vendors_A.intersection(vendors_B)\n",
    "\n",
    "# 計算差集\n",
    "difference_vendors_A = vendors_A.difference(vendors_B)\n",
    "difference_vendors_B = vendors_B.difference(vendors_A)\n",
    "\n",
    "# 印出結果\n",
    "print(\"Union of Vendors:\", union_vendors)\n",
    "print(\"Intersection of Vendors:\", intersection_vendors)\n",
    "print(\"Difference in marketingA:\", difference_vendors_A)\n",
    "print(\"Difference in marketingB:\", difference_vendors_B)\n"
   ]
  },
  {
   "cell_type": "code",
   "execution_count": null,
   "id": "9c4ae9f3-7283-4aff-b0e1-014db9a98993",
   "metadata": {},
   "outputs": [],
   "source": []
  }
 ],
 "metadata": {
  "kernelspec": {
   "display_name": "Python 3 (ipykernel)",
   "language": "python",
   "name": "python3"
  },
  "language_info": {
   "codemirror_mode": {
    "name": "ipython",
    "version": 3
   },
   "file_extension": ".py",
   "mimetype": "text/x-python",
   "name": "python",
   "nbconvert_exporter": "python",
   "pygments_lexer": "ipython3",
   "version": "3.11.7"
  }
 },
 "nbformat": 4,
 "nbformat_minor": 5
}
