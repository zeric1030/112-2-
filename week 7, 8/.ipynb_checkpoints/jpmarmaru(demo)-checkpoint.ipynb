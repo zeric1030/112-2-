{
 "cells": [
  {
   "cell_type": "code",
   "execution_count": 1,
   "metadata": {},
   "outputs": [],
   "source": [
    "import requests as rq\n",
    "import pandas as pd\n",
    "from bs4 import BeautifulSoup as soup\n",
    "from selenium import webdriver\n",
    "from selenium.webdriver.chrome.options import Options\n",
    "from selenium.webdriver.common.by import By\n",
    "from selenium.webdriver.chrome.service import Service\n",
    "from webdriver_manager.chrome import ChromeDriverManager\n",
    "from lxml import etree\n",
    "import time"
   ]
  },
  {
   "cell_type": "markdown",
   "metadata": {},
   "source": [
    "### 取得與解析網頁"
   ]
  },
  {
   "cell_type": "code",
   "execution_count": 2,
   "metadata": {},
   "outputs": [],
   "source": [
    "url = 'https://www.jpmarumaru.com/tw/jp-song-list-3.html?fbclid=IwAR2zGAOl5So9iWhXZ9t2gTJS6gFLZZhHy8qfxSJI2G2yMvUN8ndaXSGopuA_aem_AReMxkDt-ijBZB6KOYScdg_frfgmF6uqwi9xecz4Z1nJXF5caU-FPocTp1VCHjT0r5XLgxXn1nK2Aa3aNjP8DIdx'\n",
    "driver = webdriver.Chrome(service=Service(ChromeDriverManager().install()))\n",
    "html = driver.get(url)\n",
    "sp = soup(driver.page_source, 'lxml')"
   ]
  },
  {
   "cell_type": "markdown",
   "metadata": {},
   "source": [
    "### 點一下「同意」"
   ]
  },
  {
   "cell_type": "code",
   "execution_count": 3,
   "metadata": {},
   "outputs": [],
   "source": [
    "element = driver.find_element('xpath', '/html/body/div[10]/div[3]/a[1]')\n",
    "driver.execute_script(\"arguments[0].click();\", element)"
   ]
  },
  {
   "cell_type": "markdown",
   "metadata": {},
   "source": [
    "### 取得當前頁面上所有歌曲的網址"
   ]
  },
  {
   "cell_type": "code",
   "execution_count": 4,
   "metadata": {},
   "outputs": [],
   "source": [
    "url_list = []\n",
    "song_title = sp.find_all('td', class_=\"song-name\")\n",
    "for song_a in song_title:\n",
    "    url = song_a.find('a')['href']\n",
    "    url_list.append(\"https://www.jpmarumaru.com/tw/\" + url)"
   ]
  },
  {
   "cell_type": "markdown",
   "metadata": {},
   "source": [
    "### 取得與解析第一首歌曲的網頁"
   ]
  },
  {
   "cell_type": "code",
   "execution_count": 5,
   "metadata": {},
   "outputs": [],
   "source": [
    "html = driver.get(url_list[0])\n",
    "sp = soup(driver.page_source, 'lxml')"
   ]
  },
  {
   "cell_type": "markdown",
   "metadata": {},
   "source": [
    "###  獲取歌名"
   ]
  },
  {
   "cell_type": "code",
   "execution_count": 6,
   "metadata": {},
   "outputs": [],
   "source": [
    "title_jp = sp.find_all('div', class_='notranslate')[2].text\n",
    "title_zh = sp.find('div', {\"id\": \"LyricsList\"}).find_all('div')[1].text"
   ]
  },
  {
   "cell_type": "markdown",
   "metadata": {},
   "source": [
    "### 獲取歌詞"
   ]
  },
  {
   "cell_type": "code",
   "execution_count": 7,
   "metadata": {},
   "outputs": [
    {
     "name": "stdout",
     "output_type": "stream",
     "text": [
      "ロマンティックあげるよ - 橋本潮\n",
      "獻給你的羅曼蒂克 - 橋本潮\n",
      "\n",
      "おいでふぁんたじー すきさみすてりー\n",
      "重拾內心的幻想 喜歡探究神秘\n",
      "きみのわかさ かくさないで\n",
      "別急著隱藏你的年輕和活力\n",
      "ふしぎしたくて ぼうけんしたくて\n",
      "想做不可思議的事 期待著去冒險\n",
      "だれもみんな うずうずしてる\n",
      "每個人都迫不及待地躍躍欲試\n",
      "おとなのふりして あきらめちゃ\n",
      "為了裝成大人的樣子 而放棄的話\n",
      "きせきのなぞなど とけないよ\n",
      "是沒辦法解開奇蹟般的謎題喔\n",
      "もっとわいるどに もっとたくましく\n",
      "試著更開放地 更堅強地\n",
      "いきてごらん\n",
      "活得更有朝氣吧\n",
      "ろまんてぃっくあげるよ\n",
      "我要把羅曼蒂克送給你\n",
      "ろまんてぃっくあげるよ\n",
      "我要把羅曼蒂克送給你\n",
      "ほんとのゆうき みせてくれたら\n",
      "只要你表現出 真正的勇氣來\n",
      "ろまんてぃっくあげるよ\n",
      "我要把羅曼蒂克送給你\n",
      "ろまんてぃっくあげるよ\n",
      "我要把羅曼蒂克送給你\n",
      "ときめくむねに きらきらひかった ゆめをあげるよ\n",
      "我要把這躍動不已的心及閃亮的夢想送給你\n",
      "いつかわんだふる きっとびゅーてぃふる\n",
      "不知不覺一切變得奇妙又美好\n",
      "ひとのじゃんぐる まよいこんで\n",
      "迷失在人群的森林中\n",
      "すりるしたくて しあわせしたくて\n",
      "想要尋求刺激 卻又要過得幸福\n",
      "なぜかみんな そわそわしてる\n",
      "不知為何木大家開始坐立不安\n",
      "おもったとおりに さけばなきゃ\n",
      "和想像的一樣 若不大聲地呼喊\n",
      "ねがいはそらまで とどかない\n",
      "願望就不會傳達到天上\n",
      "もっとせくしーに もっとうつくしく\n",
      "試著更性感地 更美麗地\n",
      "いきてごらん\n",
      "活得更有朝氣吧\n",
      "ろまんてぃっくあげるよ\n",
      "我要把羅曼蒂克送給你\n",
      "ろまんてぃっくあげるよ\n",
      "我要把羅曼蒂克送給你\n",
      "ほんとのなみだ みせてくれたら\n",
      "讓我看到最真誠的眼淚吧\n",
      "ろまんてぃっくあげるよ\n",
      "我要把羅曼蒂克送給你\n",
      "ろまんてぃっくあげるよ\n",
      "我要把羅曼蒂克送給你\n",
      "さびしいこころ やさしくつつんで あいをあげるよ\n",
      "把能將寂寞的心給溫柔地包覆的愛送給你\n",
      "ろまんてぃっくあげるよ\n",
      "我要把羅曼蒂克送給你\n",
      "ろまんてぃっくあげるよ\n",
      "我要把羅曼蒂克送給你\n",
      "ほんとのゆうき みせてくれたら\n",
      "只要你表現出 真正的勇氣來\n",
      "ろまんてぃっくあげるよ\n",
      "我要把羅曼蒂克送給你\n",
      "ろまんてぃっくあげるよ\n",
      "我要把羅曼蒂克送給你\n",
      "ときめくむねに きらきらひかった ゆめをあげるよ\n",
      "我要把這躍動不已的心及閃亮的夢想送給你\n"
     ]
    }
   ],
   "source": [
    "jp_sentence_list = []\n",
    "zh_sentence_list = []\n",
    "\n",
    "lyrics_jp_area = sp.find_all(\"li\", class_='li1')\n",
    "lyrics_zh_area = sp.find_all(\"li\", class_='li2')\n",
    "\n",
    "for row in lyrics_jp_area:\n",
    "    jp_sentence = row.find(\"span\", class_ = \"LyricsYomiKana notranslate\").text\n",
    "    jp_sentence_list.append(jp_sentence)\n",
    "\n",
    "for row in lyrics_zh_area:\n",
    "    zh_setence = row.find(\"span\").text\n",
    "    zh_sentence_list.append(zh_setence)"
   ]
  },
  {
   "cell_type": "markdown",
   "metadata": {},
   "source": [
    "### 輸出成果"
   ]
  },
  {
   "cell_type": "code",
   "execution_count": null,
   "metadata": {},
   "outputs": [],
   "source": [
    "print(title_jp)\n",
    "print(title_zh)\n",
    "print()\n",
    "for sentence_index in range(0, len(jp_sentence_list)):\n",
    "    print(jp_sentence_list[sentence_index])\n",
    "    print(zh_sentence_list[sentence_index])"
   ]
  },
  {
   "cell_type": "code",
   "execution_count": null,
   "metadata": {},
   "outputs": [],
   "source": []
  }
 ],
 "metadata": {
  "kernelspec": {
   "display_name": "Python 3",
   "language": "python",
   "name": "python3"
  },
  "language_info": {
   "codemirror_mode": {
    "name": "ipython",
    "version": 3
   },
   "file_extension": ".py",
   "mimetype": "text/x-python",
   "name": "python",
   "nbconvert_exporter": "python",
   "pygments_lexer": "ipython3",
   "version": "3.10.11"
  }
 },
 "nbformat": 4,
 "nbformat_minor": 2
}
