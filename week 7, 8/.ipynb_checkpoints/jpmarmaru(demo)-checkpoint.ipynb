{
 "cells": [
  {
   "cell_type": "code",
   "execution_count": 3,
   "metadata": {},
   "outputs": [
    {
     "name": "stdout",
     "output_type": "stream",
     "text": [
      "Requirement already satisfied: requests in c:\\users\\zeric\\anaconda3\\lib\\site-packages (2.31.0)\n",
      "Requirement already satisfied: pandas in c:\\users\\zeric\\anaconda3\\lib\\site-packages (2.1.4)\n",
      "Collecting bs4\n",
      "  Downloading bs4-0.0.2-py2.py3-none-any.whl.metadata (411 bytes)\n",
      "Collecting selenium\n",
      "  Downloading selenium-4.19.0-py3-none-any.whl.metadata (6.9 kB)\n",
      "Requirement already satisfied: lxml in c:\\users\\zeric\\anaconda3\\lib\\site-packages (4.9.3)\n",
      "Requirement already satisfied: charset-normalizer<4,>=2 in c:\\users\\zeric\\anaconda3\\lib\\site-packages (from requests) (2.0.4)\n",
      "Requirement already satisfied: idna<4,>=2.5 in c:\\users\\zeric\\anaconda3\\lib\\site-packages (from requests) (3.4)\n",
      "Requirement already satisfied: urllib3<3,>=1.21.1 in c:\\users\\zeric\\anaconda3\\lib\\site-packages (from requests) (2.0.7)\n",
      "Requirement already satisfied: certifi>=2017.4.17 in c:\\users\\zeric\\anaconda3\\lib\\site-packages (from requests) (2024.2.2)\n",
      "Requirement already satisfied: numpy<2,>=1.23.2 in c:\\users\\zeric\\anaconda3\\lib\\site-packages (from pandas) (1.26.4)\n",
      "Requirement already satisfied: python-dateutil>=2.8.2 in c:\\users\\zeric\\anaconda3\\lib\\site-packages (from pandas) (2.8.2)\n",
      "Requirement already satisfied: pytz>=2020.1 in c:\\users\\zeric\\anaconda3\\lib\\site-packages (from pandas) (2023.3.post1)\n",
      "Requirement already satisfied: tzdata>=2022.1 in c:\\users\\zeric\\anaconda3\\lib\\site-packages (from pandas) (2023.3)\n",
      "Requirement already satisfied: beautifulsoup4 in c:\\users\\zeric\\anaconda3\\lib\\site-packages (from bs4) (4.12.2)\n",
      "Collecting trio~=0.17 (from selenium)\n",
      "  Downloading trio-0.25.0-py3-none-any.whl.metadata (8.7 kB)\n",
      "Collecting trio-websocket~=0.9 (from selenium)\n",
      "  Downloading trio_websocket-0.11.1-py3-none-any.whl.metadata (4.7 kB)\n",
      "Requirement already satisfied: typing_extensions>=4.9.0 in c:\\users\\zeric\\anaconda3\\lib\\site-packages (from selenium) (4.9.0)\n",
      "Requirement already satisfied: six>=1.5 in c:\\users\\zeric\\anaconda3\\lib\\site-packages (from python-dateutil>=2.8.2->pandas) (1.16.0)\n",
      "Collecting attrs>=23.2.0 (from trio~=0.17->selenium)\n",
      "  Downloading attrs-23.2.0-py3-none-any.whl.metadata (9.5 kB)\n",
      "Requirement already satisfied: sortedcontainers in c:\\users\\zeric\\anaconda3\\lib\\site-packages (from trio~=0.17->selenium) (2.4.0)\n",
      "Collecting outcome (from trio~=0.17->selenium)\n",
      "  Downloading outcome-1.3.0.post0-py2.py3-none-any.whl.metadata (2.6 kB)\n",
      "Requirement already satisfied: sniffio>=1.3.0 in c:\\users\\zeric\\anaconda3\\lib\\site-packages (from trio~=0.17->selenium) (1.3.0)\n",
      "Requirement already satisfied: cffi>=1.14 in c:\\users\\zeric\\anaconda3\\lib\\site-packages (from trio~=0.17->selenium) (1.16.0)\n",
      "Collecting wsproto>=0.14 (from trio-websocket~=0.9->selenium)\n",
      "  Downloading wsproto-1.2.0-py3-none-any.whl.metadata (5.6 kB)\n",
      "Requirement already satisfied: pysocks!=1.5.7,<2.0,>=1.5.6 in c:\\users\\zeric\\anaconda3\\lib\\site-packages (from urllib3[socks]<3,>=1.26->selenium) (1.7.1)\n",
      "Requirement already satisfied: soupsieve>1.2 in c:\\users\\zeric\\anaconda3\\lib\\site-packages (from beautifulsoup4->bs4) (2.5)\n",
      "Requirement already satisfied: pycparser in c:\\users\\zeric\\anaconda3\\lib\\site-packages (from cffi>=1.14->trio~=0.17->selenium) (2.21)\n",
      "Collecting h11<1,>=0.9.0 (from wsproto>=0.14->trio-websocket~=0.9->selenium)\n",
      "  Downloading h11-0.14.0-py3-none-any.whl.metadata (8.2 kB)\n",
      "Downloading bs4-0.0.2-py2.py3-none-any.whl (1.2 kB)\n",
      "Downloading selenium-4.19.0-py3-none-any.whl (10.5 MB)\n",
      "   ---------------------------------------- 0.0/10.5 MB ? eta -:--:--\n",
      "   ---------------------------------------- 0.0/10.5 MB 1.4 MB/s eta 0:00:08\n",
      "   ---------------------------------------- 0.1/10.5 MB 991.0 kB/s eta 0:00:11\n",
      "   ---------------------------------------- 0.1/10.5 MB 1.1 MB/s eta 0:00:10\n",
      "   ---------------------------------------- 0.1/10.5 MB 1.1 MB/s eta 0:00:10\n",
      "   ---------------------------------------- 0.1/10.5 MB 1.1 MB/s eta 0:00:10\n",
      "    --------------------------------------- 0.1/10.5 MB 568.9 kB/s eta 0:00:19\n",
      "    --------------------------------------- 0.1/10.5 MB 568.9 kB/s eta 0:00:19\n",
      "    --------------------------------------- 0.1/10.5 MB 568.9 kB/s eta 0:00:19\n",
      "   - -------------------------------------- 0.3/10.5 MB 682.7 kB/s eta 0:00:15\n",
      "   - -------------------------------------- 0.3/10.5 MB 682.7 kB/s eta 0:00:15\n",
      "   - -------------------------------------- 0.3/10.5 MB 682.7 kB/s eta 0:00:15\n",
      "   -- ------------------------------------- 0.5/10.5 MB 983.5 kB/s eta 0:00:11\n",
      "   -- ------------------------------------- 0.5/10.5 MB 983.5 kB/s eta 0:00:11\n",
      "   -- ------------------------------------- 0.6/10.5 MB 1.0 MB/s eta 0:00:10\n",
      "   -- ------------------------------------- 0.8/10.5 MB 1.1 MB/s eta 0:00:09\n",
      "   --- ------------------------------------ 0.9/10.5 MB 1.2 MB/s eta 0:00:09\n",
      "   --- ------------------------------------ 1.0/10.5 MB 1.2 MB/s eta 0:00:08\n",
      "   ---- ----------------------------------- 1.1/10.5 MB 1.3 MB/s eta 0:00:08\n",
      "   ---- ----------------------------------- 1.2/10.5 MB 1.3 MB/s eta 0:00:08\n",
      "   ---- ----------------------------------- 1.2/10.5 MB 1.3 MB/s eta 0:00:07\n",
      "   ----- ---------------------------------- 1.4/10.5 MB 1.4 MB/s eta 0:00:07\n",
      "   ----- ---------------------------------- 1.5/10.5 MB 1.4 MB/s eta 0:00:07\n",
      "   ------ --------------------------------- 1.6/10.5 MB 1.5 MB/s eta 0:00:07\n",
      "   ------ --------------------------------- 1.7/10.5 MB 1.5 MB/s eta 0:00:06\n",
      "   ------ --------------------------------- 1.8/10.5 MB 1.5 MB/s eta 0:00:06\n",
      "   ------- -------------------------------- 1.9/10.5 MB 1.6 MB/s eta 0:00:06\n",
      "   ------- -------------------------------- 2.0/10.5 MB 1.6 MB/s eta 0:00:06\n",
      "   -------- ------------------------------- 2.2/10.5 MB 1.7 MB/s eta 0:00:06\n",
      "   -------- ------------------------------- 2.3/10.5 MB 1.7 MB/s eta 0:00:05\n",
      "   --------- ------------------------------ 2.4/10.5 MB 1.7 MB/s eta 0:00:05\n",
      "   --------- ------------------------------ 2.5/10.5 MB 1.7 MB/s eta 0:00:05\n",
      "   ---------- ----------------------------- 2.6/10.5 MB 1.8 MB/s eta 0:00:05\n",
      "   ---------- ----------------------------- 2.7/10.5 MB 1.8 MB/s eta 0:00:05\n",
      "   ---------- ----------------------------- 2.8/10.5 MB 1.8 MB/s eta 0:00:05\n",
      "   ---------- ----------------------------- 2.9/10.5 MB 1.8 MB/s eta 0:00:05\n",
      "   ----------- ---------------------------- 3.0/10.5 MB 1.8 MB/s eta 0:00:05\n",
      "   ----------- ---------------------------- 3.1/10.5 MB 1.8 MB/s eta 0:00:05\n",
      "   ------------ --------------------------- 3.2/10.5 MB 1.8 MB/s eta 0:00:05\n",
      "   ------------ --------------------------- 3.3/10.5 MB 1.8 MB/s eta 0:00:04\n",
      "   ------------- -------------------------- 3.4/10.5 MB 1.8 MB/s eta 0:00:04\n",
      "   ------------- -------------------------- 3.6/10.5 MB 1.8 MB/s eta 0:00:04\n",
      "   -------------- ------------------------- 3.7/10.5 MB 1.9 MB/s eta 0:00:04\n",
      "   -------------- ------------------------- 3.8/10.5 MB 1.9 MB/s eta 0:00:04\n",
      "   --------------- ------------------------ 4.0/10.5 MB 1.9 MB/s eta 0:00:04\n",
      "   --------------- ------------------------ 4.1/10.5 MB 1.9 MB/s eta 0:00:04\n",
      "   ---------------- ----------------------- 4.2/10.5 MB 2.0 MB/s eta 0:00:04\n",
      "   ---------------- ----------------------- 4.4/10.5 MB 2.0 MB/s eta 0:00:04\n",
      "   ----------------- ---------------------- 4.5/10.5 MB 2.0 MB/s eta 0:00:04\n",
      "   ----------------- ---------------------- 4.6/10.5 MB 2.0 MB/s eta 0:00:03\n",
      "   ------------------ --------------------- 4.7/10.5 MB 2.0 MB/s eta 0:00:03\n",
      "   ------------------ --------------------- 4.9/10.5 MB 2.0 MB/s eta 0:00:03\n",
      "   ------------------- -------------------- 5.0/10.5 MB 2.0 MB/s eta 0:00:03\n",
      "   ------------------- -------------------- 5.1/10.5 MB 2.1 MB/s eta 0:00:03\n",
      "   -------------------- ------------------- 5.3/10.5 MB 2.1 MB/s eta 0:00:03\n",
      "   -------------------- ------------------- 5.4/10.5 MB 2.1 MB/s eta 0:00:03\n",
      "   --------------------- ------------------ 5.6/10.5 MB 2.1 MB/s eta 0:00:03\n",
      "   --------------------- ------------------ 5.6/10.5 MB 2.1 MB/s eta 0:00:03\n",
      "   ---------------------- ----------------- 5.8/10.5 MB 2.1 MB/s eta 0:00:03\n",
      "   ---------------------- ----------------- 5.9/10.5 MB 2.1 MB/s eta 0:00:03\n",
      "   ----------------------- ---------------- 6.0/10.5 MB 2.1 MB/s eta 0:00:03\n",
      "   ----------------------- ---------------- 6.2/10.5 MB 2.2 MB/s eta 0:00:03\n",
      "   ------------------------ --------------- 6.3/10.5 MB 2.2 MB/s eta 0:00:02\n",
      "   ------------------------ --------------- 6.5/10.5 MB 2.2 MB/s eta 0:00:02\n",
      "   ------------------------- -------------- 6.6/10.5 MB 2.2 MB/s eta 0:00:02\n",
      "   ------------------------- -------------- 6.7/10.5 MB 2.2 MB/s eta 0:00:02\n",
      "   -------------------------- ------------- 6.8/10.5 MB 2.2 MB/s eta 0:00:02\n",
      "   -------------------------- ------------- 7.0/10.5 MB 2.2 MB/s eta 0:00:02\n",
      "   --------------------------- ------------ 7.1/10.5 MB 2.2 MB/s eta 0:00:02\n",
      "   --------------------------- ------------ 7.3/10.5 MB 2.2 MB/s eta 0:00:02\n",
      "   ---------------------------- ----------- 7.4/10.5 MB 2.3 MB/s eta 0:00:02\n",
      "   ---------------------------- ----------- 7.5/10.5 MB 2.3 MB/s eta 0:00:02\n",
      "   ----------------------------- ---------- 7.7/10.5 MB 2.3 MB/s eta 0:00:02\n",
      "   ----------------------------- ---------- 7.8/10.5 MB 2.3 MB/s eta 0:00:02\n",
      "   ------------------------------ --------- 7.9/10.5 MB 2.3 MB/s eta 0:00:02\n",
      "   ------------------------------ --------- 8.1/10.5 MB 2.3 MB/s eta 0:00:02\n",
      "   ------------------------------- -------- 8.2/10.5 MB 2.3 MB/s eta 0:00:01\n",
      "   ------------------------------- -------- 8.3/10.5 MB 2.3 MB/s eta 0:00:01\n",
      "   -------------------------------- ------- 8.5/10.5 MB 2.3 MB/s eta 0:00:01\n",
      "   -------------------------------- ------- 8.6/10.5 MB 2.3 MB/s eta 0:00:01\n",
      "   --------------------------------- ------ 8.8/10.5 MB 2.3 MB/s eta 0:00:01\n",
      "   --------------------------------- ------ 8.8/10.5 MB 2.3 MB/s eta 0:00:01\n",
      "   ---------------------------------- ----- 9.0/10.5 MB 2.3 MB/s eta 0:00:01\n",
      "   ---------------------------------- ----- 9.1/10.5 MB 2.3 MB/s eta 0:00:01\n",
      "   ----------------------------------- ---- 9.2/10.5 MB 2.3 MB/s eta 0:00:01\n",
      "   ----------------------------------- ---- 9.3/10.5 MB 2.3 MB/s eta 0:00:01\n",
      "   ----------------------------------- ---- 9.4/10.5 MB 2.3 MB/s eta 0:00:01\n",
      "   ------------------------------------ --- 9.5/10.5 MB 2.3 MB/s eta 0:00:01\n",
      "   ------------------------------------ --- 9.6/10.5 MB 2.3 MB/s eta 0:00:01\n",
      "   ------------------------------------- -- 9.7/10.5 MB 2.3 MB/s eta 0:00:01\n",
      "   ------------------------------------- -- 9.8/10.5 MB 2.3 MB/s eta 0:00:01\n",
      "   ------------------------------------- -- 9.9/10.5 MB 2.3 MB/s eta 0:00:01\n",
      "   -------------------------------------- - 10.1/10.5 MB 2.3 MB/s eta 0:00:01\n",
      "   -------------------------------------- - 10.2/10.5 MB 2.3 MB/s eta 0:00:01\n",
      "   -------------------------------------- - 10.2/10.5 MB 2.3 MB/s eta 0:00:01\n",
      "   ---------------------------------------  10.4/10.5 MB 2.4 MB/s eta 0:00:01\n",
      "   ---------------------------------------  10.4/10.5 MB 2.4 MB/s eta 0:00:01\n",
      "   ---------------------------------------  10.5/10.5 MB 2.5 MB/s eta 0:00:01\n",
      "   ---------------------------------------- 10.5/10.5 MB 2.4 MB/s eta 0:00:00\n",
      "Downloading trio-0.25.0-py3-none-any.whl (467 kB)\n",
      "   ---------------------------------------- 0.0/467.2 kB ? eta -:--:--\n",
      "   ----- ---------------------------------- 61.4/467.2 kB 1.7 MB/s eta 0:00:01\n",
      "   --------- ------------------------------ 112.6/467.2 kB 1.3 MB/s eta 0:00:01\n",
      "   -------------- ------------------------- 174.1/467.2 kB 1.2 MB/s eta 0:00:01\n",
      "   ------------------- -------------------- 225.3/467.2 kB 1.3 MB/s eta 0:00:01\n",
      "   ------------------------ --------------- 286.7/467.2 kB 1.2 MB/s eta 0:00:01\n",
      "   ------------------------------ --------- 358.4/467.2 kB 1.2 MB/s eta 0:00:01\n",
      "   ------------------------------- -------- 368.6/467.2 kB 1.1 MB/s eta 0:00:01\n",
      "   ------------------------------------- -- 440.3/467.2 kB 1.1 MB/s eta 0:00:01\n",
      "   ------------------------------------- -- 440.3/467.2 kB 1.1 MB/s eta 0:00:01\n",
      "   -------------------------------------- 467.2/467.2 kB 974.2 kB/s eta 0:00:00\n",
      "Downloading trio_websocket-0.11.1-py3-none-any.whl (17 kB)\n",
      "Downloading attrs-23.2.0-py3-none-any.whl (60 kB)\n",
      "   ---------------------------------------- 0.0/60.8 kB ? eta -:--:--\n",
      "   -------------------------- ------------- 41.0/60.8 kB 960.0 kB/s eta 0:00:01\n",
      "   ---------------------------------------- 60.8/60.8 kB 647.6 kB/s eta 0:00:00\n",
      "Downloading wsproto-1.2.0-py3-none-any.whl (24 kB)\n",
      "Downloading outcome-1.3.0.post0-py2.py3-none-any.whl (10 kB)\n",
      "Downloading h11-0.14.0-py3-none-any.whl (58 kB)\n",
      "   ---------------------------------------- 0.0/58.3 kB ? eta -:--:--\n",
      "   --------------------- ------------------ 30.7/58.3 kB 1.4 MB/s eta 0:00:01\n",
      "   ---------------------------------------- 58.3/58.3 kB 774.5 kB/s eta 0:00:00\n",
      "Installing collected packages: h11, attrs, wsproto, outcome, bs4, trio, trio-websocket, selenium\n",
      "  Attempting uninstall: attrs\n",
      "    Found existing installation: attrs 23.1.0\n",
      "    Uninstalling attrs-23.1.0:\n",
      "      Successfully uninstalled attrs-23.1.0\n",
      "Successfully installed attrs-23.2.0 bs4-0.0.2 h11-0.14.0 outcome-1.3.0.post0 selenium-4.19.0 trio-0.25.0 trio-websocket-0.11.1 wsproto-1.2.0\n"
     ]
    },
    {
     "ename": "ModuleNotFoundError",
     "evalue": "No module named 'webdriver_manager'",
     "output_type": "error",
     "traceback": [
      "\u001b[1;31m---------------------------------------------------------------------------\u001b[0m",
      "\u001b[1;31mModuleNotFoundError\u001b[0m                       Traceback (most recent call last)",
      "Cell \u001b[1;32mIn[3], line 9\u001b[0m\n\u001b[0;32m      6\u001b[0m \u001b[38;5;66;03m#from selenium.webdriver.chrome.options import Options\u001b[39;00m\n\u001b[0;32m      7\u001b[0m \u001b[38;5;66;03m#from selenium.webdriver.common.by import By\u001b[39;00m\n\u001b[0;32m      8\u001b[0m \u001b[38;5;28;01mfrom\u001b[39;00m \u001b[38;5;21;01mselenium\u001b[39;00m\u001b[38;5;21;01m.\u001b[39;00m\u001b[38;5;21;01mwebdriver\u001b[39;00m\u001b[38;5;21;01m.\u001b[39;00m\u001b[38;5;21;01mchrome\u001b[39;00m\u001b[38;5;21;01m.\u001b[39;00m\u001b[38;5;21;01mservice\u001b[39;00m \u001b[38;5;28;01mimport\u001b[39;00m Service\n\u001b[1;32m----> 9\u001b[0m \u001b[38;5;28;01mfrom\u001b[39;00m \u001b[38;5;21;01mwebdriver_manager\u001b[39;00m\u001b[38;5;21;01m.\u001b[39;00m\u001b[38;5;21;01mchrome\u001b[39;00m \u001b[38;5;28;01mimport\u001b[39;00m ChromeDriverManager\n\u001b[0;32m     10\u001b[0m \u001b[38;5;28;01mfrom\u001b[39;00m \u001b[38;5;21;01mlxml\u001b[39;00m \u001b[38;5;28;01mimport\u001b[39;00m etree\n\u001b[0;32m     11\u001b[0m \u001b[38;5;28;01mimport\u001b[39;00m \u001b[38;5;21;01mtime\u001b[39;00m\n",
      "\u001b[1;31mModuleNotFoundError\u001b[0m: No module named 'webdriver_manager'"
     ]
    }
   ],
   "source": [
    "!pip install requests pandas bs4 selenium lxml\n",
    "import requests as rq\n",
    "import pandas as pd\n",
    "from bs4 import BeautifulSoup as soup\n",
    "from selenium import webdriver\n",
    "#from selenium.webdriver.chrome.options import Options\n",
    "#from selenium.webdriver.common.by import By\n",
    "from selenium.webdriver.chrome.service import Service\n",
    "from webdriver_manager.chrome import ChromeDriverManager\n",
    "from lxml import etree\n",
    "import time"
   ]
  },
  {
   "cell_type": "markdown",
   "metadata": {},
   "source": [
    "### 取得與解析網頁"
   ]
  },
  {
   "cell_type": "code",
   "execution_count": null,
   "metadata": {},
   "outputs": [],
   "source": [
    "url = 'https://www.jpmarumaru.com/tw/jp-song-list-3.html?fbclid=IwAR2zGAOl5So9iWhXZ9t2gTJS6gFLZZhHy8qfxSJI2G2yMvUN8ndaXSGopuA_aem_AReMxkDt-ijBZB6KOYScdg_frfgmF6uqwi9xecz4Z1nJXF5caU-FPocTp1VCHjT0r5XLgxXn1nK2Aa3aNjP8DIdx'\n",
    "driver = webdriver.Chrome(service=Service(ChromeDriverManager().install()))\n",
    "html = driver.get(url)\n",
    "sp = soup(driver.page_source, 'lxml')"
   ]
  },
  {
   "cell_type": "markdown",
   "metadata": {},
   "source": [
    "### 點一下「同意」"
   ]
  },
  {
   "cell_type": "code",
   "execution_count": 3,
   "metadata": {},
   "outputs": [],
   "source": [
    "element = driver.find_element('xpath', '/html/body/div[10]/div[3]/a[1]')\n",
    "driver.execute_script(\"arguments[0].click();\", element)"
   ]
  },
  {
   "cell_type": "markdown",
   "metadata": {},
   "source": [
    "### 取得當前頁面上所有歌曲的網址"
   ]
  },
  {
   "cell_type": "code",
   "execution_count": 4,
   "metadata": {},
   "outputs": [],
   "source": [
    "url_list = []\n",
    "song_title = sp.find_all('td', class_=\"song-name\")\n",
    "for song_a in song_title:\n",
    "    url = song_a.find('a')['href']\n",
    "    url_list.append(\"https://www.jpmarumaru.com/tw/\" + url)"
   ]
  },
  {
   "cell_type": "markdown",
   "metadata": {},
   "source": [
    "### 取得與解析第一首歌曲的網頁"
   ]
  },
  {
   "cell_type": "code",
   "execution_count": 5,
   "metadata": {},
   "outputs": [],
   "source": [
    "html = driver.get(url_list[0])\n",
    "sp = soup(driver.page_source, 'lxml')"
   ]
  },
  {
   "cell_type": "markdown",
   "metadata": {},
   "source": [
    "###  獲取歌名"
   ]
  },
  {
   "cell_type": "code",
   "execution_count": 6,
   "metadata": {},
   "outputs": [],
   "source": [
    "title_jp = sp.find_all('div', class_='notranslate')[2].text\n",
    "title_zh = sp.find('div', {\"id\": \"LyricsList\"}).find_all('div')[1].text"
   ]
  },
  {
   "cell_type": "markdown",
   "metadata": {},
   "source": [
    "### 獲取歌詞"
   ]
  },
  {
   "cell_type": "code",
   "execution_count": 7,
   "metadata": {},
   "outputs": [
    {
     "name": "stdout",
     "output_type": "stream",
     "text": [
      "ロマンティックあげるよ - 橋本潮\n",
      "獻給你的羅曼蒂克 - 橋本潮\n",
      "\n",
      "おいでふぁんたじー すきさみすてりー\n",
      "重拾內心的幻想 喜歡探究神秘\n",
      "きみのわかさ かくさないで\n",
      "別急著隱藏你的年輕和活力\n",
      "ふしぎしたくて ぼうけんしたくて\n",
      "想做不可思議的事 期待著去冒險\n",
      "だれもみんな うずうずしてる\n",
      "每個人都迫不及待地躍躍欲試\n",
      "おとなのふりして あきらめちゃ\n",
      "為了裝成大人的樣子 而放棄的話\n",
      "きせきのなぞなど とけないよ\n",
      "是沒辦法解開奇蹟般的謎題喔\n",
      "もっとわいるどに もっとたくましく\n",
      "試著更開放地 更堅強地\n",
      "いきてごらん\n",
      "活得更有朝氣吧\n",
      "ろまんてぃっくあげるよ\n",
      "我要把羅曼蒂克送給你\n",
      "ろまんてぃっくあげるよ\n",
      "我要把羅曼蒂克送給你\n",
      "ほんとのゆうき みせてくれたら\n",
      "只要你表現出 真正的勇氣來\n",
      "ろまんてぃっくあげるよ\n",
      "我要把羅曼蒂克送給你\n",
      "ろまんてぃっくあげるよ\n",
      "我要把羅曼蒂克送給你\n",
      "ときめくむねに きらきらひかった ゆめをあげるよ\n",
      "我要把這躍動不已的心及閃亮的夢想送給你\n",
      "いつかわんだふる きっとびゅーてぃふる\n",
      "不知不覺一切變得奇妙又美好\n",
      "ひとのじゃんぐる まよいこんで\n",
      "迷失在人群的森林中\n",
      "すりるしたくて しあわせしたくて\n",
      "想要尋求刺激 卻又要過得幸福\n",
      "なぜかみんな そわそわしてる\n",
      "不知為何木大家開始坐立不安\n",
      "おもったとおりに さけばなきゃ\n",
      "和想像的一樣 若不大聲地呼喊\n",
      "ねがいはそらまで とどかない\n",
      "願望就不會傳達到天上\n",
      "もっとせくしーに もっとうつくしく\n",
      "試著更性感地 更美麗地\n",
      "いきてごらん\n",
      "活得更有朝氣吧\n",
      "ろまんてぃっくあげるよ\n",
      "我要把羅曼蒂克送給你\n",
      "ろまんてぃっくあげるよ\n",
      "我要把羅曼蒂克送給你\n",
      "ほんとのなみだ みせてくれたら\n",
      "讓我看到最真誠的眼淚吧\n",
      "ろまんてぃっくあげるよ\n",
      "我要把羅曼蒂克送給你\n",
      "ろまんてぃっくあげるよ\n",
      "我要把羅曼蒂克送給你\n",
      "さびしいこころ やさしくつつんで あいをあげるよ\n",
      "把能將寂寞的心給溫柔地包覆的愛送給你\n",
      "ろまんてぃっくあげるよ\n",
      "我要把羅曼蒂克送給你\n",
      "ろまんてぃっくあげるよ\n",
      "我要把羅曼蒂克送給你\n",
      "ほんとのゆうき みせてくれたら\n",
      "只要你表現出 真正的勇氣來\n",
      "ろまんてぃっくあげるよ\n",
      "我要把羅曼蒂克送給你\n",
      "ろまんてぃっくあげるよ\n",
      "我要把羅曼蒂克送給你\n",
      "ときめくむねに きらきらひかった ゆめをあげるよ\n",
      "我要把這躍動不已的心及閃亮的夢想送給你\n"
     ]
    }
   ],
   "source": [
    "jp_sentence_list = []\n",
    "zh_sentence_list = []\n",
    "\n",
    "lyrics_jp_area = sp.find_all(\"li\", class_='li1')\n",
    "lyrics_zh_area = sp.find_all(\"li\", class_='li2')\n",
    "\n",
    "for row in lyrics_jp_area:\n",
    "    jp_sentence = row.find(\"span\", class_ = \"LyricsYomiKana notranslate\").text\n",
    "    jp_sentence_list.append(jp_sentence)\n",
    "\n",
    "for row in lyrics_zh_area:\n",
    "    zh_setence = row.find(\"span\").text\n",
    "    zh_sentence_list.append(zh_setence)"
   ]
  },
  {
   "cell_type": "markdown",
   "metadata": {},
   "source": [
    "### 輸出成果"
   ]
  },
  {
   "cell_type": "code",
   "execution_count": null,
   "metadata": {},
   "outputs": [],
   "source": [
    "print(title_jp)\n",
    "print(title_zh)\n",
    "print()\n",
    "for sentence_index in range(0, len(jp_sentence_list)):\n",
    "    print(jp_sentence_list[sentence_index])\n",
    "    print(zh_sentence_list[sentence_index])"
   ]
  },
  {
   "cell_type": "code",
   "execution_count": null,
   "metadata": {},
   "outputs": [],
   "source": []
  }
 ],
 "metadata": {
  "kernelspec": {
   "display_name": "Python 3 (ipykernel)",
   "language": "python",
   "name": "python3"
  },
  "language_info": {
   "codemirror_mode": {
    "name": "ipython",
    "version": 3
   },
   "file_extension": ".py",
   "mimetype": "text/x-python",
   "name": "python",
   "nbconvert_exporter": "python",
   "pygments_lexer": "ipython3",
   "version": "3.11.7"
  }
 },
 "nbformat": 4,
 "nbformat_minor": 4
}
